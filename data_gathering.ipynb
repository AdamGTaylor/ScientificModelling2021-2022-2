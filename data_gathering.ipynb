{
 "cells": [
  {
   "cell_type": "markdown",
   "id": "49fca7e2",
   "metadata": {},
   "source": [
    "# Data Gathering\n",
    "\n",
    "This notebook is dedicated to gathering data, because its note wise to comne these functions with data analysis. Gathering data from this site takes some time and may slow down the analysis. The data is hug in size compared to what github allows to be uploaded, so I have to include this into to .gitignore file."
   ]
  },
  {
   "cell_type": "code",
   "execution_count": null,
   "id": "b3ef76db",
   "metadata": {},
   "outputs": [],
   "source": []
  }
 ],
 "metadata": {
  "kernelspec": {
   "display_name": "Python 3 (ipykernel)",
   "language": "python",
   "name": "python3"
  },
  "language_info": {
   "codemirror_mode": {
    "name": "ipython",
    "version": 3
   },
   "file_extension": ".py",
   "mimetype": "text/x-python",
   "name": "python",
   "nbconvert_exporter": "python",
   "pygments_lexer": "ipython3",
   "version": "3.8.8"
  }
 },
 "nbformat": 4,
 "nbformat_minor": 5
}
