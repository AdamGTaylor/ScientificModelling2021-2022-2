{
 "cells": [
  {
   "cell_type": "markdown",
   "id": "49fca7e2",
   "metadata": {},
   "source": [
    "# Data Gathering\n",
    "\n",
    "This notebook is dedicated to gathering data, because its note wise to comne these functions with data analysis. Gathering data from this site takes some time and may slow down the analysis. The data is hug in size compared to what github allows to be uploaded, so I have to include this into to .gitignore file.\n",
    "\n",
    "\n",
    "API documentation:\n",
    "\n",
    "https://www.mtmt.hu/system/files/mtmt2_api_dokumentacio.pdf\n",
    "\n",
    "\n",
    "So I have to figure out how to make a good query that fits my needs... And here it is:\n",
    "\n",
    "https://m2.mtmt.hu/api/publication?cond=published;eq;true&cond=core;eq;true&cond=institutes;inia;133&cond=category.mtid;eq;1&cond=publishedYear;range;2014%2C2023&sort=publishedYear,desc&sort=firstAuthor,asc&page=1&size=67027&labelLang=hun&cite_type=2\n",
    "\n",
    "It's a bit long but now it almost has everything that I need:\n",
    "\n",
    "1. Its from ELTE\n",
    "2. Narrowed down to 2014-today (arbitrarily choosen)\n",
    "3. It does sorting (from recent to oldest and by first author)\n",
    "4. Has the maximum of 5000 publications in it\n",
    "5. Its hungarian (?)\n",
    "\n",
    "**Now I have to figure out how to go around the 5000 publication limit** \n",
    "\n",
    "The tip was that I can look into the data, quickly get the last publications number and go with that with the next query. But how so? I didn't see anything about that in the docs so I can't wrap my head around the tought."
   ]
  },
  {
   "cell_type": "code",
   "execution_count": null,
   "id": "b3ef76db",
   "metadata": {},
   "outputs": [],
   "source": []
  }
 ],
 "metadata": {
  "kernelspec": {
   "display_name": "Python 3 (ipykernel)",
   "language": "python",
   "name": "python3"
  },
  "language_info": {
   "codemirror_mode": {
    "name": "ipython",
    "version": 3
   },
   "file_extension": ".py",
   "mimetype": "text/x-python",
   "name": "python",
   "nbconvert_exporter": "python",
   "pygments_lexer": "ipython3",
   "version": "3.8.8"
  }
 },
 "nbformat": 4,
 "nbformat_minor": 5
}
