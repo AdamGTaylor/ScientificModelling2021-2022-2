{
 "cells": [
  {
   "cell_type": "markdown",
   "id": "ec162bb2",
   "metadata": {},
   "source": [
    "# MTMT co-authorship Network"
   ]
  },
  {
   "cell_type": "code",
   "execution_count": 1,
   "id": "16c4f87e",
   "metadata": {},
   "outputs": [],
   "source": [
    "import numpy as np\n",
    "import pandas as pd\n",
    "\n",
    "import matplotlib as mpl\n",
    "import matplotlib.pyplot as plt\n",
    "import seaborn as sns\n",
    "\n",
    "import sys\n",
    "import os\n",
    "import pathlib\n",
    "import glob\n",
    "\n",
    "import json\n",
    "\n",
    "import networkx as nx\n",
    "\n",
    "import re\n",
    "import uuid"
   ]
  },
  {
   "cell_type": "code",
   "execution_count": 2,
   "id": "e584cf22",
   "metadata": {},
   "outputs": [],
   "source": [
    "file = open(\"data/publication2.json\",\"rt\",encoding=\"utf-8\")\n",
    "data = json.load(file)\n",
    "\n",
    "file.close()"
   ]
  },
  {
   "cell_type": "code",
   "execution_count": 3,
   "id": "818af9f5",
   "metadata": {},
   "outputs": [
    {
     "data": {
      "text/plain": [
       "dict_keys(['labelLang', 'responseDate', 'paging', 'content'])"
      ]
     },
     "execution_count": 3,
     "metadata": {},
     "output_type": "execute_result"
    }
   ],
   "source": [
    "data.keys()"
   ]
  },
  {
   "cell_type": "code",
   "execution_count": 4,
   "id": "9642e6e8",
   "metadata": {
    "scrolled": false
   },
   "outputs": [
    {
     "data": {
      "text/plain": [
       "5000"
      ]
     },
     "execution_count": 4,
     "metadata": {},
     "output_type": "execute_result"
    }
   ],
   "source": [
    "len(data['content'])"
   ]
  },
  {
   "cell_type": "code",
   "execution_count": 5,
   "id": "ea951aec",
   "metadata": {},
   "outputs": [
    {
     "name": "stdout",
     "output_type": "stream",
     "text": [
      "otype\n",
      "mtid\n",
      "status\n",
      "published\n",
      "unhandledTickets\n",
      "deleted\n",
      "lastRefresh\n",
      "lastModified\n",
      "created\n",
      "creator\n",
      "lastDuplumOK\n",
      "lastDuplumSearch\n",
      "validated\n",
      "validator\n",
      "core\n",
      "citation\n",
      "publicationPending\n",
      "type\n",
      "subType\n",
      "category\n",
      "languages\n",
      "firstAuthor\n",
      "authorships\n",
      "title\n",
      "identifiers\n",
      "journal\n",
      "volume\n",
      "issue\n",
      "internalId\n",
      "firstPageOrInternalIdForSort\n",
      "pageLength\n",
      "publishedYear\n",
      "abstractText\n",
      "subjects\n",
      "keywords\n",
      "digital\n",
      "printed\n",
      "sourceYear\n",
      "foreignEdition\n",
      "foreignLanguage\n",
      "fullPublication\n",
      "conferencePublication\n",
      "nationalOrigin\n",
      "missingAuthor\n",
      "oaType\n",
      "oaCheckDate\n",
      "oaFree\n",
      "oaLink\n",
      "citationCount\n",
      "citationCountUnpublished\n",
      "citationCountWoOther\n",
      "independentCitCountWoOther\n",
      "nationalOriginCitationCount\n",
      "foreignEditionCitationCount\n",
      "doiCitationCount\n",
      "wosCitationCount\n",
      "scopusCitationCount\n",
      "wosScopusCitationCount\n",
      "wosScopusCitationCountWoOther\n",
      "wosScopusIndependentCitationCount\n",
      "wosScopusIndependentCitationCountWoOther\n",
      "independentCitationCount\n",
      "selfCitationCount\n",
      "unhandledCitationCount\n",
      "citingPubCount\n",
      "independentCitingPubCount\n",
      "citingPubCountWoOther\n",
      "independentCitingPubCountWoOther\n",
      "unhandledCitingPubCount\n",
      "citedPubCount\n",
      "citedCount\n",
      "ratings\n",
      "ratingsForSort\n",
      "hasCitationDuplums\n",
      "userChangeableUntil\n",
      "directInstitutesForSort\n",
      "ownerAuthorCount\n",
      "ownerInstituteCount\n",
      "directInstituteCount\n",
      "authorCount\n",
      "contributorCount\n",
      "hasQualityFactor\n",
      "link\n",
      "label\n",
      "template\n",
      "template2\n"
     ]
    }
   ],
   "source": [
    "for i in data['content'][0].keys():\n",
    "    print(i)"
   ]
  },
  {
   "cell_type": "code",
   "execution_count": 6,
   "id": "f07c766b",
   "metadata": {},
   "outputs": [
    {
     "name": "stdout",
     "output_type": "stream",
     "text": [
      "5000\n"
     ]
    }
   ],
   "source": [
    "print(len(data['content']))"
   ]
  },
  {
   "cell_type": "code",
   "execution_count": 7,
   "id": "356ebaf9",
   "metadata": {
    "scrolled": false
   },
   "outputs": [
    {
     "data": {
      "text/plain": [
       "'Aad G et al. Search for exotic decays of the Higgs boson into long-lived particles in pp collisions at root s=13 TeV using displaced vertices in the ATLAS inner detector. (2021) JOURNAL OF HIGH ENERGY PHYSICS 1126-6708 1029-8479 2021 11'"
      ]
     },
     "execution_count": 7,
     "metadata": {},
     "output_type": "execute_result"
    }
   ],
   "source": [
    "data['content'][0]['label']"
   ]
  },
  {
   "cell_type": "code",
   "execution_count": 8,
   "id": "06ad3f24",
   "metadata": {},
   "outputs": [
    {
     "data": {
      "text/plain": [
       "True"
      ]
     },
     "execution_count": 8,
     "metadata": {},
     "output_type": "execute_result"
    }
   ],
   "source": [
    "data['content'][0]['published']"
   ]
  },
  {
   "cell_type": "code",
   "execution_count": 9,
   "id": "593b3891",
   "metadata": {},
   "outputs": [
    {
     "data": {
      "text/plain": [
       "dict_keys(['otype', 'mtid', 'status', 'published', 'unhandledTickets', 'deleted', 'lastRefresh', 'lastModified', 'created', 'creator', 'lastDuplumOK', 'lastDuplumSearch', 'validated', 'validator', 'core', 'citation', 'publicationPending', 'type', 'subType', 'category', 'languages', 'firstAuthor', 'authorships', 'title', 'identifiers', 'journal', 'volume', 'issue', 'internalId', 'firstPageOrInternalIdForSort', 'pageLength', 'publishedYear', 'abstractText', 'subjects', 'keywords', 'digital', 'printed', 'sourceYear', 'foreignEdition', 'foreignLanguage', 'fullPublication', 'conferencePublication', 'nationalOrigin', 'missingAuthor', 'oaType', 'oaCheckDate', 'oaFree', 'oaLink', 'citationCount', 'citationCountUnpublished', 'citationCountWoOther', 'independentCitCountWoOther', 'nationalOriginCitationCount', 'foreignEditionCitationCount', 'doiCitationCount', 'wosCitationCount', 'scopusCitationCount', 'wosScopusCitationCount', 'wosScopusCitationCountWoOther', 'wosScopusIndependentCitationCount', 'wosScopusIndependentCitationCountWoOther', 'independentCitationCount', 'selfCitationCount', 'unhandledCitationCount', 'citingPubCount', 'independentCitingPubCount', 'citingPubCountWoOther', 'independentCitingPubCountWoOther', 'unhandledCitingPubCount', 'citedPubCount', 'citedCount', 'ratings', 'ratingsForSort', 'hasCitationDuplums', 'userChangeableUntil', 'directInstitutesForSort', 'ownerAuthorCount', 'ownerInstituteCount', 'directInstituteCount', 'authorCount', 'contributorCount', 'hasQualityFactor', 'link', 'label', 'template', 'template2'])"
      ]
     },
     "execution_count": 9,
     "metadata": {},
     "output_type": "execute_result"
    }
   ],
   "source": [
    "data['content'][0].keys()"
   ]
  },
  {
   "cell_type": "code",
   "execution_count": 10,
   "id": "f8c3a35e",
   "metadata": {},
   "outputs": [
    {
     "data": {
      "text/plain": [
       "'Search for exotic decays of the Higgs boson into long-lived particles in pp collisions at root s=13 TeV using displaced vertices in the ATLAS inner detector'"
      ]
     },
     "execution_count": 10,
     "metadata": {},
     "output_type": "execute_result"
    }
   ],
   "source": [
    "data['content'][0]['title']"
   ]
  },
  {
   "cell_type": "code",
   "execution_count": 11,
   "id": "bca66690",
   "metadata": {},
   "outputs": [
    {
     "data": {
      "text/plain": [
       "'2022-02-17 13:33'"
      ]
     },
     "execution_count": 11,
     "metadata": {},
     "output_type": "execute_result"
    }
   ],
   "source": [
    "data['responseDate']"
   ]
  },
  {
   "cell_type": "code",
   "execution_count": 12,
   "id": "6276a1ae",
   "metadata": {},
   "outputs": [
    {
     "data": {
      "text/plain": [
       "{'last': True,\n",
       " 'first': True,\n",
       " 'totalPages': 1,\n",
       " 'totalElements': 5000,\n",
       " 'totalEstimatedElements': 110000,\n",
       " 'size': 5000,\n",
       " 'number': 1,\n",
       " 'numberOfElements': 5000,\n",
       " 'sort': [{'direction': 'DESC',\n",
       "   'property': 'publishedYear',\n",
       "   'ascending': False},\n",
       "  {'direction': 'ASC', 'property': 'firstAuthor', 'ascending': True}]}"
      ]
     },
     "execution_count": 12,
     "metadata": {},
     "output_type": "execute_result"
    }
   ],
   "source": [
    "data['paging']"
   ]
  },
  {
   "cell_type": "code",
   "execution_count": 13,
   "id": "7a1711bd",
   "metadata": {},
   "outputs": [
    {
     "name": "stdout",
     "output_type": "stream",
     "text": [
      "99807928\n",
      "G\n",
      "Aad\n",
      "Aad, G\n"
     ]
    }
   ],
   "source": [
    "print(data['content'][0]['authorships'][0]['mtid'])\n",
    "print(data['content'][0]['authorships'][0]['givenName'])\n",
    "print(data['content'][0]['authorships'][0]['familyName'])\n",
    "print(data['content'][0]['authorships'][0]['label'])"
   ]
  },
  {
   "cell_type": "code",
   "execution_count": 14,
   "id": "2fa9895c",
   "metadata": {},
   "outputs": [
    {
     "data": {
      "text/plain": [
       "{'otype': 'PersonAuthorship',\n",
       " 'mtid': 95886196,\n",
       " 'link': '/api/authorship/95886196',\n",
       " 'label': 'Abdullah, S. Alshammari ✉ [Alshammari, Abdullah Saber (Educational science), szerző] Neveléstudományi Doktori Iskola (SZTE / DI)',\n",
       " 'listPosition': 1,\n",
       " 'share': 0.33333334,\n",
       " 'first': True,\n",
       " 'last': False,\n",
       " 'corresponding': True,\n",
       " 'author': {'otype': 'Author',\n",
       "  'mtid': 10064710,\n",
       "  'link': '/api/author/10064710',\n",
       "  'label': 'Alshammari Abdullah Saber (Educational science)',\n",
       "  'familyName': 'Alshammari',\n",
       "  'givenName': 'Abdullah Saber',\n",
       "  'published': True,\n",
       "  'oldId': 10064710,\n",
       "  'snippet': True},\n",
       " 'familyName': 'Abdullah',\n",
       " 'givenName': 'S. Alshammari',\n",
       " 'authorTyped': True,\n",
       " 'editorTyped': False,\n",
       " 'otherTyped': False,\n",
       " 'type': {'otype': 'AuthorshipType',\n",
       "  'mtid': 1,\n",
       "  'link': '/api/authorshiptype/1',\n",
       "  'label': 'Szerző',\n",
       "  'code': 0,\n",
       "  'published': True,\n",
       "  'oldId': 0,\n",
       "  'snippet': True},\n",
       " 'published': False,\n",
       " 'snippet': True}"
      ]
     },
     "execution_count": 14,
     "metadata": {},
     "output_type": "execute_result"
    }
   ],
   "source": [
    "data['content'][34]['authorships'][0]"
   ]
  },
  {
   "cell_type": "code",
   "execution_count": 15,
   "id": "1834648b",
   "metadata": {},
   "outputs": [
    {
     "data": {
      "text/plain": [
       "{'otype': 'PersonAuthorship',\n",
       " 'mtid': 99807928,\n",
       " 'link': '/api/authorship/99807928',\n",
       " 'label': 'Aad, G',\n",
       " 'listPosition': 1,\n",
       " 'share': 0.0,\n",
       " 'first': True,\n",
       " 'last': False,\n",
       " 'corresponding': False,\n",
       " 'familyName': 'Aad',\n",
       " 'givenName': 'G',\n",
       " 'authorTyped': True,\n",
       " 'editorTyped': False,\n",
       " 'otherTyped': False,\n",
       " 'type': {'otype': 'AuthorshipType',\n",
       "  'mtid': 1,\n",
       "  'link': '/api/authorshiptype/1',\n",
       "  'label': 'Szerző',\n",
       "  'code': 0,\n",
       "  'published': True,\n",
       "  'oldId': 0,\n",
       "  'snippet': True},\n",
       " 'published': False,\n",
       " 'snippet': True}"
      ]
     },
     "execution_count": 15,
     "metadata": {},
     "output_type": "execute_result"
    }
   ],
   "source": [
    "data['content'][0]['authorships'][0]"
   ]
  },
  {
   "cell_type": "code",
   "execution_count": 16,
   "id": "69d94779",
   "metadata": {},
   "outputs": [],
   "source": [
    "temp_mem = []\n",
    "\n",
    "for i in range(len(data['content'][0]['authorships'])):\n",
    "    temp_mem.append(data['content'][0]['authorships'][i]['share'])"
   ]
  },
  {
   "cell_type": "code",
   "execution_count": 17,
   "id": "9041b487",
   "metadata": {},
   "outputs": [
    {
     "data": {
      "text/plain": [
       "array([0.])"
      ]
     },
     "execution_count": 17,
     "metadata": {},
     "output_type": "execute_result"
    }
   ],
   "source": [
    "np.unique(temp_mem)"
   ]
  },
  {
   "cell_type": "markdown",
   "id": "7cb22c95",
   "metadata": {},
   "source": [
    "They are rather inconsistent in how well these object are defined."
   ]
  },
  {
   "cell_type": "code",
   "execution_count": 18,
   "id": "d0988bbe",
   "metadata": {},
   "outputs": [
    {
     "data": {
      "text/plain": [
       "22.0"
      ]
     },
     "execution_count": 18,
     "metadata": {},
     "output_type": "execute_result"
    }
   ],
   "source": [
    "110000/5000"
   ]
  },
  {
   "cell_type": "code",
   "execution_count": 19,
   "id": "5405d54b",
   "metadata": {},
   "outputs": [],
   "source": [
    "sub_mem = []\n",
    "for i in range(len(data['content'])):\n",
    "    sub_mem.append(len(data['content'][i]['authorships']))\n",
    "sub_mem = np.array(sub_mem)"
   ]
  },
  {
   "cell_type": "code",
   "execution_count": 20,
   "id": "0b8f4a13",
   "metadata": {},
   "outputs": [
    {
     "name": "stdout",
     "output_type": "stream",
     "text": [
      "19.9854 +/- 187.9649701057088\n"
     ]
    }
   ],
   "source": [
    "print(np.mean(sub_mem), \"+/-\", np.var(sub_mem)**(1/2))"
   ]
  },
  {
   "cell_type": "code",
   "execution_count": 21,
   "id": "24a14eab",
   "metadata": {},
   "outputs": [
    {
     "data": {
      "image/png": "[encoded data removed]",
      "text/plain": [
       "<Figure size 1008x504 with 1 Axes>"
      ]
     },
     "metadata": {
      "needs_background": "light"
     },
     "output_type": "display_data"
    }
   ],
   "source": [
    "plt.figure(figsize=(14,7))\n",
    "\n",
    "plt.title(\"Distribution of Number of Authors per Paper \\nFrom Most Recent 5000 papers\", fontsize=24)\n",
    "\n",
    "plt.hist(sub_mem, bins=101)\n",
    "\n",
    "plt.xlabel(\"Number of Authors\", fontsize=20)\n",
    "plt.ylabel(\"Occurence\", fontsize=20)\n",
    "plt.tick_params(labelsize=18,axis=\"both\",size=17)\n",
    "\n",
    "plt.yscale(\"log\")\n",
    "plt.grid(linestyle=\"--\")\n",
    "\n",
    "plt.savefig(\"figs/dist_from_5000sample.pdf\",format=\"pdf\",bbox_inches=\"tight\")\n",
    "plt.show()"
   ]
  },
  {
   "cell_type": "markdown",
   "id": "c990e6ef",
   "metadata": {},
   "source": [
    "## How to store tables?\n",
    "\n",
    "How should i store the linklist and the decoding?\n",
    "\n",
    "| startNode | endNode | time | weight |\n",
    "| --- | --- | --- | --- |\n",
    "| author1.mtid | author2.mtid | yearOfpublication | 0.01 |\n",
    "| author1.mtid | author3.mtid | yearOfpublication | 0.1 |\n",
    "| ... | ... | ... | ... |\n",
    "\n",
    "This template may work, but its not good if the `mtid` is not unique to a given author -> might need to test this!\n",
    "\n",
    "For the decoding table, the given table should be sufficient:\n",
    "\n",
    "| number | Name |\n",
    "| --- | --- |\n",
    "| 56 | Adam G. Taylor |\n",
    "| ... | ... |"
   ]
  },
  {
   "cell_type": "markdown",
   "id": "50f4395d",
   "metadata": {},
   "source": [
    "Some modifications: rather than storing uuids as strings, I switched to using integers (namely numpy's uint32 bit integers) which requires (which is a correct looking estimate):"
   ]
  },
  {
   "cell_type": "code",
   "execution_count": 22,
   "id": "ccc2e1eb",
   "metadata": {},
   "outputs": [
    {
     "data": {
      "text/plain": [
       "'648.49853515625 MB'"
      ]
     },
     "execution_count": 22,
     "metadata": {},
     "output_type": "execute_result"
    }
   ],
   "source": [
    "str(170000000 * 4 /1024 / 1024) + ' MB'"
   ]
  },
  {
   "cell_type": "code",
   "execution_count": 23,
   "id": "0ed2098e",
   "metadata": {},
   "outputs": [],
   "source": [
    "temp_mem = []\n",
    "r = re.compile(r\"\\s+\", re.MULTILINE)\n",
    "count = 0\n",
    "for i in range(len(data['content'])):\n",
    "    for j in range(len(data['content'][i]['authorships'])):\n",
    "        if (data['content'][i]['authorships'][j]['otype'] == 'PersonAuthorship'):\n",
    "            string_to_add = '' \n",
    "            if 'givenName' in data['content'][i]['authorships'][j]:\n",
    "                string_to_add += str(data['content'][i]['authorships'][j]['givenName']) + ' '\n",
    "            if 'familyName' in data['content'][i]['authorships'][j]:\n",
    "                string_to_add += str(data['content'][i]['authorships'][j]['familyName'])\n",
    "            temp_mem.append(r.sub(\"\",string_to_add))\n",
    "            \n",
    "        \n",
    "temp_mem = list(np.unique(temp_mem))\n",
    "temp_mem = dict(zip(temp_mem, np.array(np.arange(len(temp_mem)),dtype=np.uint32 )) ) "
   ]
  },
  {
   "cell_type": "code",
   "execution_count": 24,
   "id": "9636cca0",
   "metadata": {},
   "outputs": [
    {
     "data": {
      "text/plain": [
       "{'A-EErson-Bensan': 0,\n",
       " 'A.-M.Bachmann': 1,\n",
       " 'A.A.Abud': 2,\n",
       " 'A.A.Affolder': 3,\n",
       " 'A.A.Capon': 4,\n",
       " 'A.A.Ciobanu': 5,\n",
       " 'A.A.Elliot': 6,\n",
       " 'A.A.Galakhova': 7,\n",
       " 'A.A.Geanta': 8,\n",
       " 'A.A.Gorn': 9,\n",
       " 'A.A.Grillo': 10,\n",
       " 'A.A.Minaenko': 11,\n",
       " 'A.A.Myers': 12,\n",
       " 'A.A.P.Jimenez': 13,\n",
       " 'A.A.P.Suaide': 14,\n",
       " 'A.A.Pabon': 15,\n",
       " 'A.A.Snesarev': 16,\n",
       " 'A.A.Solodkov': 17,\n",
       " 'A.A.Sztuc': 18,\n",
       " 'A.A.Talyshev': 19,\n",
       " 'A.AbedAbud': 20,\n",
       " 'A.Adams': 21,\n",
       " 'A.Adeboye': 22,\n",
       " 'A.Adiguzel': 23,\n",
       " 'A.Adler': 24,\n",
       " 'A.Aggarwal': 25,\n",
       " 'A.Ahmad': 26,\n",
       " 'A.Ain': 27,\n",
       " 'A.Akindinov': 28,\n",
       " 'A.Al-awar': 29,\n",
       " 'A.Albert': 30,\n",
       " 'A.Alegro': 31,\n",
       " 'A.Alfonsi': 32,\n",
       " 'A.Algora': 33,\n",
       " 'A.Ali': 34,\n",
       " 'A.Alici': 35,\n",
       " 'A.Alimkhanova': 36,\n",
       " 'A.Alkin': 37,\n",
       " 'A.Allocca': 38,\n",
       " 'A.Aloisio': 39,\n",
       " 'A.Alonso': 40,\n",
       " 'A.Alunno': 41,\n",
       " 'A.Amato': 42,\n",
       " 'A.Ambler': 43,\n",
       " 'A.Ananyeva': 44,\n",
       " 'A.Anderson': 45,\n",
       " 'A.Andics': 46,\n",
       " 'A.Andreazza': 47,\n",
       " 'A.Andronic': 48,\n",
       " 'A.Angerami': 49,\n",
       " 'A.Anjam': 50,\n",
       " 'A.Annovi': 51,\n",
       " 'A.Arance': 52,\n",
       " 'A.Aratari': 53,\n",
       " 'A.Arcones': 54,\n",
       " 'A.Ariga': 55,\n",
       " 'A.Arkhipov': 56,\n",
       " 'A.Armstrong': 57,\n",
       " 'A.Attarbaschi': 58,\n",
       " 'A.Augustinus': 59,\n",
       " 'A.Avila-Alvarez': 60,\n",
       " 'A.B.Fenyuk': 61,\n",
       " 'A.B.G.Shitrit': 62,\n",
       " 'A.B.Kurepin': 63,\n",
       " 'A.B.McDonald': 64,\n",
       " 'A.B.Yelikar': 65,\n",
       " 'A.B.Zimmerman': 66,\n",
       " 'A.Babangida': 67,\n",
       " 'A.Bachiu': 68,\n",
       " 'A.Badala': 69,\n",
       " 'A.Badalà': 70,\n",
       " 'A.Badea': 71,\n",
       " 'A.Bai': 72,\n",
       " 'A.Bakshi': 73,\n",
       " 'A.Balbino': 74,\n",
       " 'A.Baldeschi': 75,\n",
       " 'A.Baldisseri': 76,\n",
       " 'A.Balduzzi': 77,\n",
       " 'A.Balsamo': 78,\n",
       " 'A.Bandyopadhyay': 79,\n",
       " 'A.Barg': 80,\n",
       " 'A.Baroncelli': 81,\n",
       " 'A.BarthaFerenc': 82,\n",
       " 'A.Basalaev': 83,\n",
       " 'A.Basan': 84,\n",
       " 'A.Bassalat': 85,\n",
       " 'A.Basti': 86,\n",
       " 'A.Baudesson-Stella': 87,\n",
       " 'A.Bayirli': 88,\n",
       " 'A.Bayo': 89,\n",
       " 'A.Bazilevsky': 90,\n",
       " 'A.Bean': 91,\n",
       " 'A.Beddall': 92,\n",
       " 'A.Behera': 93,\n",
       " 'A.Beishuizen': 94,\n",
       " 'A.Bekkelien': 95,\n",
       " 'A.Bellanger': 96,\n",
       " 'A.Beller': 97,\n",
       " 'A.Bellerive': 98,\n",
       " 'A.Beloshapkin': 99,\n",
       " 'A.Benecke': 100,\n",
       " 'A.Benndorf': 101,\n",
       " 'A.Bercuci': 102,\n",
       " 'A.Berdnikov': 103,\n",
       " 'A.Berdnikova': 104,\n",
       " 'A.Berkics': 105,\n",
       " 'A.Bernard': 106,\n",
       " 'A.Berthold': 107,\n",
       " 'A.Bertolini': 108,\n",
       " 'A.Best': 109,\n",
       " 'A.Bethani': 110,\n",
       " 'A.Betti': 111,\n",
       " 'A.Bezdek': 112,\n",
       " 'A.Bhardwaj': 113,\n",
       " 'A.Bhasin': 114,\n",
       " 'A.Bialek': 115,\n",
       " 'A.Bianchi': 116,\n",
       " 'A.Bieryla': 117,\n",
       " 'A.Bilandzic': 118,\n",
       " 'A.Bingul': 119,\n",
       " 'A.Biondini': 120,\n",
       " 'A.Bisht': 121,\n",
       " 'A.Bitadze': 122,\n",
       " 'A.Blanchet': 123,\n",
       " 'A.Blondel': 124,\n",
       " 'A.Blue': 125,\n",
       " 'A.Boccaletti': 126,\n",
       " 'A.Boeltzig': 127,\n",
       " 'A.Bogdanov': 128,\n",
       " 'A.Bolozdynya': 129,\n",
       " 'A.Bombrun': 130,\n",
       " 'A.Bonfanti': 131,\n",
       " 'A.Bonyár': 132,\n",
       " 'A.Boonen': 133,\n",
       " 'A.Borisov': 134,\n",
       " 'A.Borissov': 135,\n",
       " 'A.Bosio': 136,\n",
       " 'A.Boveia': 137,\n",
       " 'A.Bozzi': 138,\n",
       " 'A.Bragaglia': 139,\n",
       " 'A.Bramley': 140,\n",
       " 'A.Branch': 141,\n",
       " 'A.Brandeker': 142,\n",
       " 'A.Bravar': 143,\n",
       " 'A.Bressan': 144,\n",
       " 'A.Brillet': 145,\n",
       " 'A.Bruni': 146,\n",
       " 'A.Bubak': 147,\n",
       " 'A.Buchin': 148,\n",
       " 'A.Budzillo': 149,\n",
       " 'A.Buikema': 150,\n",
       " 'A.Buonanno': 151,\n",
       " 'A.Burlacu': 152,\n",
       " 'A.Butrym': 153,\n",
       " 'A.Buzatu': 154,\n",
       " 'A.Bódi': 155,\n",
       " 'A.C.A.Lee': 156,\n",
       " 'A.C.Baylor': 157,\n",
       " 'A.C.Cameron': 158,\n",
       " 'A.C.Dudder': 159,\n",
       " 'A.C.Forti': 160,\n",
       " 'A.C.Freegard': 161,\n",
       " 'A.C.Green': 162,\n",
       " 'A.C.Jenkins': 163,\n",
       " 'A.C.Kaboth': 164,\n",
       " 'A.C.Koenig': 165,\n",
       " 'A.C.Konig': 166,\n",
       " 'A.C.König': 167,\n",
       " 'A.C.Lanzafame': 168,\n",
       " 'A.C.Martyniuk': 169,\n",
       " 'A.C.Mignerey': 170,\n",
       " 'A.C.Robin': 171,\n",
       " 'A.C.Ruggeri': 172,\n",
       " 'A.C.Schaffer': 173,\n",
       " 'A.C.Utina': 174,\n",
       " 'A.Caciolli': 175,\n",
       " 'A.Calandri': 176,\n",
       " 'A.Caldwell': 177,\n",
       " 'A.Caliva': 178,\n",
       " 'A.Caltabiano': 179,\n",
       " 'A.Campillay': 180,\n",
       " 'A.Camplani': 181,\n",
       " 'A.Canepa': 182,\n",
       " 'A.Canesse': 183,\n",
       " 'A.Cappa': 184,\n",
       " 'A.Caratelli': 185,\n",
       " 'A.Carbone': 186,\n",
       " 'A.Carls': 187,\n",
       " 'A.Carrer': 188,\n",
       " 'A.Cassese': 189,\n",
       " 'A.Castro-Ginard': 190,\n",
       " 'A.Catinaccio': 191,\n",
       " 'A.Cattai': 192,\n",
       " 'A.Cellino': 193,\n",
       " 'A.Cerri': 194,\n",
       " 'A.Cervelli': 195,\n",
       " 'A.Cervera': 196,\n",
       " 'A.Chappell': 197,\n",
       " 'A.Charl': 198,\n",
       " 'A.Chauvin': 199,\n",
       " 'A.Chen': 200,\n",
       " 'A.Cheplakov': 201,\n",
       " 'A.Chiappini': 202,\n",
       " 'A.Chiarucci': 203,\n",
       " 'A.Chiavassa': 204,\n",
       " 'A.Chibirov': 205,\n",
       " 'A.Chincarini': 206,\n",
       " 'A.Chitan': 207,\n",
       " 'A.Chiummo': 208,\n",
       " 'A.Ciocio': 209,\n",
       " 'A.Cirone': 210,\n",
       " 'A.Clark': 211,\n",
       " 'A.Coccaro': 212,\n",
       " 'A.Cody': 213,\n",
       " 'A.Cogoni': 214,\n",
       " 'A.Collu': 215,\n",
       " 'A.Colombo': 216,\n",
       " 'A.Corduneanu': 217,\n",
       " 'A.Corsi': 218,\n",
       " 'A.Csemer': 219,\n",
       " 'A.Csore': 220,\n",
       " 'A.Cudd': 221,\n",
       " 'A.Cueto': 222,\n",
       " 'A.Cumming': 223,\n",
       " 'A.Czajlik': 224,\n",
       " 'A.Czarnecka': 225,\n",
       " 'A.Czigola': 226,\n",
       " 'A.Czirják': 227,\n",
       " \"A.D'Onofrio\": 228,\n",
       " \"A.D'onofrio\": 229,\n",
       " 'A.D.C.BellHechavarria': 230,\n",
       " 'A.D.Ciaccio': 231,\n",
       " 'A.D.Earle': 232,\n",
       " 'A.D.Frawley': 233,\n",
       " 'A.D.Girolamo': 234,\n",
       " 'A.D.Huddart': 235,\n",
       " 'A.D.Luca': 236,\n",
       " 'A.D.Marino': 237,\n",
       " 'A.D.Mihalca': 238,\n",
       " 'A.D.Pilkington': 239,\n",
       " 'A.D.Salman': 240,\n",
       " 'A.D.Sedie': 241,\n",
       " 'A.D.Sherman': 242,\n",
       " 'A.D.Silva': 243,\n",
       " 'A.D.Sándor': 244,\n",
       " 'A.D.Viets': 245,\n",
       " 'A.Dabrowska': 246,\n",
       " 'A.Dainese': 247,\n",
       " 'A.Dana': 248,\n",
       " 'A.Daniel': 249,\n",
       " 'A.Danu': 250,\n",
       " 'A.Dapergolas': 251,\n",
       " 'A.Das': 252,\n",
       " 'A.Dasgupta': 253,\n",
       " 'A.Datta': 254,\n",
       " 'A.Dattagupta': 255,\n",
       " 'A.DeCaro': 256,\n",
       " 'A.Deblaere': 257,\n",
       " 'A.Deisting': 258,\n",
       " 'A.Delbart': 259,\n",
       " 'A.Delboulbe': 260,\n",
       " 'A.Delgado': 261,\n",
       " \"A.Dell'Acqua\": 262,\n",
       " \"A.Dell'Oro\": 263,\n",
       " 'A.Dell’Acqua': 264,\n",
       " 'A.Denisenko': 265,\n",
       " 'A.Denisov': 266,\n",
       " 'A.Depasse': 267,\n",
       " 'A.Dergacheva': 268,\n",
       " 'A.Deshpande': 269,\n",
       " 'A.Dexter': 270,\n",
       " 'A.DiLeva': 271,\n",
       " 'A.Dierlamm': 272,\n",
       " 'A.Dimitrievska': 273,\n",
       " 'A.Dinklage': 274,\n",
       " 'A.Dinnyes': 275,\n",
       " 'A.Dion': 276,\n",
       " 'A.Dioszegi': 277,\n",
       " 'A.Dmitriev': 278,\n",
       " 'A.Dobrin': 279,\n",
       " 'A.Dombi': 280,\n",
       " 'A.Dominguez': 281,\n",
       " 'A.Domokos': 282,\n",
       " 'A.Donka': 283,\n",
       " 'A.Doria': 284,\n",
       " 'A.Drees': 285,\n",
       " 'A.Droll': 286,\n",
       " 'A.Druzd-Sitek': 287,\n",
       " 'A.Dubla': 288,\n",
       " 'A.Dubreuil': 289,\n",
       " 'A.Dudarev': 290,\n",
       " 'A.Duperrin': 291,\n",
       " 'A.Durglishvili': 292,\n",
       " 'A.Durum': 293,\n",
       " 'A.D’onofrio': 294,\n",
       " 'A.E.Barton': 295,\n",
       " 'A.E.Bolz': 296,\n",
       " 'A.E.C.Coimbra': 297,\n",
       " 'A.E.Dumitriu': 298,\n",
       " 'A.E.Gleckl': 299,\n",
       " 'A.E.Jaspan': 300,\n",
       " 'A.E.Kiryunin': 301,\n",
       " 'A.E.McDougall': 302,\n",
       " 'A.E.Pace': 303,\n",
       " 'A.E.Simon': 304,\n",
       " 'A.E.Tolley': 305,\n",
       " 'A.EL-ESAWIMOHAMED': 306,\n",
       " 'A.Ebrahimi': 307,\n",
       " 'A.Effler': 308,\n",
       " 'A.Eguchi': 309,\n",
       " 'A.Ejlli': 310,\n",
       " 'A.Eltner': 311,\n",
       " 'A.Emerman': 312,\n",
       " 'A.Enokizono': 313,\n",
       " 'A.Ereditato': 314,\n",
       " 'A.Erikson': 315,\n",
       " 'A.Erokhin': 316,\n",
       " 'A.Evdokimov': 317,\n",
       " 'A.Ezhilov': 318,\n",
       " 'A.F.Brooks': 319,\n",
       " 'A.F.Casha': 320,\n",
       " 'A.F.Helmling-Cornell': 321,\n",
       " 'A.F.Lanza': 322,\n",
       " 'A.F.Mechler': 323,\n",
       " 'A.F.Mohammed': 324,\n",
       " 'A.F.Mulone': 325,\n",
       " 'A.F.Nassirpour': 326,\n",
       " 'A.F.Vargas': 327,\n",
       " 'A.F.Webb': 328,\n",
       " 'A.F.Wongel': 329,\n",
       " 'A.Fantoni': 330,\n",
       " 'A.Farbin': 331,\n",
       " 'A.Farilla': 332,\n",
       " 'A.Farkas': 333,\n",
       " 'A.Farrugia': 334,\n",
       " 'A.Fasoli': 335,\n",
       " 'A.Fasseeh': 336,\n",
       " 'A.Fedorova': 337,\n",
       " 'A.Feher': 338,\n",
       " 'A.Fehr': 339,\n",
       " 'A.Fehér': 340,\n",
       " 'A.Feliciello': 341,\n",
       " 'A.Fell': 342,\n",
       " 'A.Fernandez-Galiana': 343,\n",
       " 'A.Ferrante': 344,\n",
       " 'A.Ferrari': 345,\n",
       " 'A.Ferrer': 346,\n",
       " 'A.Ferrero': 347,\n",
       " 'A.Ferretti': 348,\n",
       " 'A.Festanti': 349,\n",
       " 'A.Fienga': 350,\n",
       " 'A.Filenius': 351,\n",
       " 'A.Filipcic': 352,\n",
       " 'A.Filipčič': 353,\n",
       " 'A.Finkler': 354,\n",
       " 'A.Formica': 355,\n",
       " 'A.Formicola': 356,\n",
       " 'A.Fortier': 357,\n",
       " 'A.Francis': 358,\n",
       " 'A.Franke': 359,\n",
       " 'A.Franz': 360,\n",
       " 'A.Freise': 361,\n",
       " 'A.Freund': 362,\n",
       " 'A.Froehlich': 363,\n",
       " 'A.Furs': 364,\n",
       " 'A.Földes': 365,\n",
       " 'A.G.A.Brown': 366,\n",
       " 'A.G.Bogdanchikov': 367,\n",
       " 'A.G.Borbely': 368,\n",
       " 'A.G.Borbély': 369,\n",
       " 'A.G.Buckley': 370,\n",
       " 'A.G.Butkevich': 371,\n",
       " 'A.G.Goussiou': 372,\n",
       " 'A.G.Hernandez': 373,\n",
       " 'A.G.Kharlamov': 374,\n",
       " 'A.G.Knospe': 375,\n",
       " 'A.G.Krivshich': 376,\n",
       " 'A.G.Myagkov': 377,\n",
       " 'A.G.Rennie': 378,\n",
       " 'A.G.T.Ramos': 379,\n",
       " 'A.Gabor': 380,\n",
       " 'A.Gabrielli': 381,\n",
       " 'A.Gal': 382,\n",
       " 'A.Gali': 383,\n",
       " 'A.Galkowski': 384,\n",
       " 'A.Galvan-Gamez': 385,\n",
       " 'A.Gandrakotra': 386,\n",
       " 'A.Ganguly': 387,\n",
       " 'A.Garcia': 388,\n",
       " 'A.Garcia-Gutierrez': 389,\n",
       " 'A.Garibli': 390,\n",
       " 'A.Garofalo': 391,\n",
       " 'A.Gary': 392,\n",
       " 'A.Gaudiello': 393,\n",
       " 'A.Gaur': 394,\n",
       " 'A.Gautam': 395,\n",
       " 'A.Gavrilyuk': 396,\n",
       " 'A.Gennai': 397,\n",
       " 'A.Gera': 398,\n",
       " 'A.Ghosh': 399,\n",
       " 'A.Giammanco': 400,\n",
       " 'A.Giannini': 401,\n",
       " 'A.Giassi': 402,\n",
       " 'A.Giazotto': 403,\n",
       " 'A.Giganon': 404,\n",
       " 'A.Gillibert': 405,\n",
       " 'A.Gilyén': 406,\n",
       " 'A.Glandon': 407,\n",
       " 'A.Glazov': 408,\n",
       " 'A.Gogoleva': 409,\n",
       " 'A.Gomes': 410,\n",
       " 'A.Gomez': 411,\n",
       " 'A.Gongadze': 412,\n",
       " 'A.Gopakumar': 413,\n",
       " 'A.Goriaev': 414,\n",
       " 'A.Gorin': 415,\n",
       " 'A.Gorisek': 416,\n",
       " 'A.Gorišek': 417,\n",
       " 'A.Gottardo': 418,\n",
       " 'A.Grado': 419,\n",
       " 'A.Grant': 420,\n",
       " 'A.Grawunder': 421,\n",
       " 'A.Grebenyuk': 422,\n",
       " 'A.Grein': 423,\n",
       " 'A.Grelli': 424,\n",
       " 'A.Grigoryan': 425,\n",
       " 'A.Grimaldi': 426,\n",
       " 'A.Gritsan': 427,\n",
       " 'A.Grosman': 428,\n",
       " 'A.Grummer': 429,\n",
       " 'A.Guerguichon': 430,\n",
       " 'A.Guerrier': 431,\n",
       " 'A.Guglielmetti': 432,\n",
       " 'A.Guida': 433,\n",
       " 'A.Gupta': 434,\n",
       " 'A.Guttman': 435,\n",
       " 'A.Gyárfás': 436,\n",
       " 'A.Gábris': 437,\n",
       " 'A.Görlich': 438,\n",
       " 'A.Görög': 439,\n",
       " 'A.Güven': 440,\n",
       " 'A.H.Alawadi': 441,\n",
       " 'A.H.Melo': 442,\n",
       " 'A.Haas': 443,\n",
       " 'A.Hadef': 444,\n",
       " 'A.Hagiwara': 445,\n",
       " 'A.Harb': 446,\n",
       " 'A.Harlenderova': 447,\n",
       " 'A.Hart': 448,\n",
       " 'A.Hartin': 449,\n",
       " 'A.Harton': 450,\n",
       " 'A.Hasib': 451,\n",
       " 'A.Heger': 452,\n",
       " 'A.Heidmann': 453,\n",
       " 'A.Heidt': 454,\n",
       " 'A.Heinz': 455,\n",
       " 'A.Held': 456,\n",
       " 'A.Helm': 457,\n",
       " 'A.Helmi': 458,\n",
       " 'A.Herghelegiu': 459,\n",
       " 'A.Higashida': 460,\n",
       " 'A.Hingorani': 461,\n",
       " 'A.Hinzmann': 462,\n",
       " 'A.Hiramoto': 463,\n",
       " 'A.Hiyoshi': 464,\n",
       " 'A.Hodges': 465,\n",
       " 'A.Hoecker': 466,\n",
       " 'A.Hoenle': 467,\n",
       " 'A.Hollos': 468,\n",
       " 'A.Honle': 469,\n",
       " 'A.Honma': 470,\n",
       " 'A.Hornung': 471,\n",
       " 'A.Horvat': 472,\n",
       " 'A.Horváth': 473,\n",
       " 'A.Horzela': 474,\n",
       " 'A.Horzyk': 475,\n",
       " 'A.Hoummada': 476,\n",
       " 'A.Howling': 477,\n",
       " 'A.Hreibi': 478,\n",
       " 'A.Hrynevich': 479,\n",
       " 'A.Huber': 480,\n",
       " 'A.Hutson': 481,\n",
       " 'A.Hutton': 482,\n",
       " 'A.Hölting': 483,\n",
       " 'A.Hönle': 484,\n",
       " 'A.I.Maksimov': 485,\n",
       " 'A.I.Mincer': 486,\n",
       " 'A.I.Morales': 487,\n",
       " 'A.I.Sheikh': 488,\n",
       " 'A.IMincer': 489,\n",
       " 'A.ISheikh': 490,\n",
       " 'A.Iagnocco': 491,\n",
       " 'A.Iess': 492,\n",
       " 'A.Ilg': 493,\n",
       " 'A.Iordanova': 494,\n",
       " 'A.Isakov': 495,\n",
       " 'A.Ivanov': 496,\n",
       " 'A.Ivina': 497,\n",
       " 'A.Izmaylov': 498,\n",
       " 'A.J.Armbruster': 499,\n",
       " 'A.J.Bailey': 500,\n",
       " 'A.J.Barr': 501,\n",
       " 'A.J.Beddall': 502,\n",
       " 'A.J.Bevan': 503,\n",
       " 'A.J.Bozson': 504,\n",
       " 'A.J.Castro': 505,\n",
       " 'A.J.Finch': 506,\n",
       " 'A.J.Gillett': 507,\n",
       " 'A.J.Korn': 508,\n",
       " 'A.J.Lankford': 509,\n",
       " 'A.J.Mustill': 510,\n",
       " 'A.J.Myers': 511,\n",
       " 'A.J.Parker': 512,\n",
       " 'A.J.Rozas': 513,\n",
       " 'A.J.Ruby': 514,\n",
       " 'A.J.Tanasijczuk': 515,\n",
       " 'A.J.Taylor': 516,\n",
       " 'A.J.Vangsted': 517,\n",
       " 'A.J.Weinstein': 518,\n",
       " 'A.Jalotra': 519,\n",
       " 'A.JamesP.Clover': 520,\n",
       " 'A.Jinaru': 521,\n",
       " 'A.Jofrehei': 522,\n",
       " 'A.Jung': 523,\n",
       " 'A.Junique': 524,\n",
       " 'A.Juodagalvis': 525,\n",
       " 'A.Jurczyszyn': 526,\n",
       " 'A.Jusko': 527,\n",
       " 'A.JusteRozas': 528,\n",
       " 'A.Jákli': 529,\n",
       " 'A.K.Divakarla': 530,\n",
       " 'A.K.Dubey': 531,\n",
       " 'A.K.H.Kong': 532,\n",
       " 'A.K.Ichikawa': 533,\n",
       " 'A.K.Kvam': 534,\n",
       " 'A.K.Mehta': 535,\n",
       " 'A.K.Morley': 536,\n",
       " 'A.K.Prajapati': 537,\n",
       " 'A.K.S.Chiang': 538,\n",
       " 'A.K.Srivastava': 539,\n",
       " 'A.K.Y.Li': 540,\n",
       " 'A.K.Yadav': 541,\n",
       " 'A.K.Zadrożny': 542,\n",
       " 'A.Kaczmarska': 543,\n",
       " 'A.Kahn': 544,\n",
       " 'A.Kalsi': 545,\n",
       " 'A.Kaluza': 546,\n",
       " 'A.Kalweit': 547,\n",
       " 'A.Kamenshchikov': 548,\n",
       " 'A.Kapitány': 549,\n",
       " 'A.KarasuUysal': 550,\n",
       " 'A.Karki': 551,\n",
       " 'A.Kastanas': 552,\n",
       " 'A.Kazantsev': 553,\n",
       " 'A.Kelić-Heil': 554,\n",
       " 'A.Keri': 555,\n",
       " 'A.Kertesz': 556,\n",
       " 'A.Keskin': 557,\n",
       " 'A.Khalilzadeh': 558,\n",
       " 'A.Khan': 559,\n",
       " 'A.Khanov': 560,\n",
       " 'A.Khanzadeev': 561,\n",
       " 'A.Kharchilava': 562,\n",
       " 'A.Khatiwada': 563,\n",
       " 'A.Khatun': 564,\n",
       " 'A.Khodinov': 565,\n",
       " 'A.Khotjantsev': 566,\n",
       " 'A.Khuntia': 567,\n",
       " 'A.Kilgallon': 568,\n",
       " 'A.Kingan': 569,\n",
       " 'A.Kirchhoff': 570,\n",
       " 'A.Kirschner': 571,\n",
       " 'A.Kisiel': 572,\n",
       " 'A.Klimentov': 573,\n",
       " 'A.Kluge': 574,\n",
       " 'A.Knieps': 575,\n",
       " 'A.Knight': 576,\n",
       " 'A.Knox': 577,\n",
       " 'A.Knue': 578,\n",
       " 'A.Kochoska': 579,\n",
       " 'A.Kohut': 580,\n",
       " 'A.Komócsi': 581,\n",
       " 'A.Konaka': 582,\n",
       " 'A.Kondratyev': 583,\n",
       " 'A.Kontos': 584,\n",
       " 'A.Korn': 585,\n",
       " 'A.Korotkov': 586,\n",
       " 'A.Koshy': 587,\n",
       " 'A.Kostin': 588,\n",
       " 'A.Kostochka': 589,\n",
       " 'A.Kotliarov': 590,\n",
       " 'A.Kotsokechagia': 591,\n",
       " 'A.Kotwal': 592,\n",
       " 'A.Koulouris': 593,\n",
       " 'A.Kourkoumeli-Charalampidi': 594,\n",
       " 'A.Kovács': 595,\n",
       " 'A.Krasznahorkay': 596,\n",
       " 'A.Kravcakova': 597,\n",
       " 'A.Kravcáková': 598,\n",
       " 'A.Kravčáková': 599,\n",
       " 'A.Krishnan': 600,\n",
       " 'A.Krone-Martins': 601,\n",
       " 'A.Krämer-Flecken': 602,\n",
       " 'A.Królak': 603,\n",
       " 'A.Kubota': 604,\n",
       " 'A.Kumar': 605,\n",
       " 'A.Kupco': 606,\n",
       " 'A.Kurepin': 607,\n",
       " 'A.Kurova': 608,\n",
       " 'A.Kuryakin': 609,\n",
       " 'A.Kutynia': 610,\n",
       " 'A.Kyriakis': 611,\n",
       " 'A.Kádár': 612,\n",
       " 'A.Könies': 613,\n",
       " 'A.L.Campos': 614,\n",
       " 'A.L.D.Couto': 615,\n",
       " 'A.L.Hallin': 616,\n",
       " 'A.L.Heggelund': 617,\n",
       " 'A.L.James': 618,\n",
       " 'A.L.Ko': 619,\n",
       " 'A.L.Lionti': 620,\n",
       " 'A.L.Maslennikov': 621,\n",
       " 'A.L.Mazuecos': 622,\n",
       " 'A.L.Miller': 623,\n",
       " 'A.L.Piro': 624,\n",
       " 'A.L.Read': 625,\n",
       " 'A.L.Solis': 626,\n",
       " 'A.L.Sopio': 627,\n",
       " 'A.L.Steinhebel': 628,\n",
       " 'A.L.Stuver': 629,\n",
       " 'A.L.Urban': 630,\n",
       " 'A.L.Virto': 631,\n",
       " 'A.L.desEtangs': 632,\n",
       " 'A.LaTorre': 633,\n",
       " 'A.Lakrathok': 634,\n",
       " 'A.Lallas': 635,\n",
       " 'A.Lamberts': 636,\n",
       " 'A.Lamperti': 637,\n",
       " 'A.Langenberg': 638,\n",
       " 'A.Langenbucher': 639,\n",
       " 'A.Lanza': 640,\n",
       " 'A.Lapertosa': 641,\n",
       " 'A.Lardeux': 642,\n",
       " 'A.Lartaux-Vollard': 643,\n",
       " 'A.Lath': 644,\n",
       " 'A.Laudrain': 645,\n",
       " 'A.Laurier': 646,\n",
       " 'A.Lazzarini': 647,\n",
       " 'A.Lebedev': 648,\n",
       " 'A.Leisos': 649,\n",
       " 'A.Leithner': 650,\n",
       " 'A.Lelek': 651,\n",
       " 'A.Lemaître': 652,\n",
       " 'A.Lenon': 653,\n",
       " 'A.Leopold': 654,\n",
       " 'A.Lepailleur': 655,\n",
       " 'A.Li': 656,\n",
       " 'A.Liblong': 657,\n",
       " 'A.Lindner': 658,\n",
       " 'A.Linss': 659,\n",
       " 'A.Lipniacka': 660,\n",
       " 'A.Lister': 661,\n",
       " 'A.Liu': 662,\n",
       " 'A.Lleres': 663,\n",
       " 'A.Lobel': 664,\n",
       " 'A.Lockwood': 665,\n",
       " 'A.Longhin': 666,\n",
       " 'A.Longo': 667,\n",
       " 'A.LopezSolis': 668,\n",
       " 'A.Lorca': 669,\n",
       " 'A.Lorenz': 670,\n",
       " 'A.Losle': 671,\n",
       " 'A.Lounis': 672,\n",
       " 'A.Lucotte': 673,\n",
       " 'A.Luczay': 674,\n",
       " 'A.Lumsdaine': 675,\n",
       " 'A.Lászlóffy': 676,\n",
       " 'A.Lösle': 677,\n",
       " 'A.Lücke': 678,\n",
       " 'A.M.Baer': 679,\n",
       " 'A.M.Burger': 680,\n",
       " 'A.M.C.Glaenzer': 681,\n",
       " 'A.M.CharryGiraldo': 682,\n",
       " 'A.M.Cooper-Sarkar': 683,\n",
       " 'A.M.Csergő': 684,\n",
       " 'A.M.Deiana': 685,\n",
       " 'A.M.El-Mahalawy': 686,\n",
       " 'A.M.Farah': 687,\n",
       " 'A.M.Gago': 688,\n",
       " 'A.M.Gretarsson': 689,\n",
       " 'A.M.H.Correia': 690,\n",
       " 'A.M.HenriquesCorreia': 691,\n",
       " 'A.M.Henry': 692,\n",
       " 'A.M.Holgado': 693,\n",
       " 'A.M.Khan': 694,\n",
       " 'A.M.Knee': 695,\n",
       " 'A.M.Lory': 696,\n",
       " 'A.M.Mathis': 697,\n",
       " 'A.M.Nairz': 698,\n",
       " 'A.M.Piersimoni': 699,\n",
       " 'A.M.R.Vera': 700,\n",
       " 'A.M.RodriguezVera': 701,\n",
       " 'A.M.S.Smith': 702,\n",
       " 'A.M.Sickles': 703,\n",
       " 'A.M.Sintes': 704,\n",
       " 'A.M.Soukharev': 705,\n",
       " 'A.M.Toivonen': 706,\n",
       " 'A.M.Wang': 707,\n",
       " 'A.M.Wharton': 708,\n",
       " 'A.M.Zaitsev': 709,\n",
       " 'A.M.diGiorgio': 710,\n",
       " 'A.MForsea': 711,\n",
       " 'A.MacQuet': 712,\n",
       " 'A.Macauda': 713,\n",
       " 'A.Macchiolo': 714,\n",
       " 'A.Macquet': 715,\n",
       " 'A.Madar': 716,\n",
       " 'A.Maevskaya': 717,\n",
       " 'A.Maio': 718,\n",
       " 'A.Maire': 719,\n",
       " 'A.Maj': 720,\n",
       " 'A.Malik': 721,\n",
       " 'A.Mann': 722,\n",
       " 'A.Manousos': 723,\n",
       " 'A.Marantis': 724,\n",
       " 'A.MarcellSzász': 725,\n",
       " 'A.Marchioro': 726,\n",
       " 'A.Margotti': 727,\n",
       " 'A.Marin': 728,\n",
       " 'A.Markowitz': 729,\n",
       " 'A.Marquina': 730,\n",
       " 'A.Marton': 731,\n",
       " 'A.Marzin': 732,\n",
       " 'A.Marín': 733,\n",
       " 'A.Maróti': 734,\n",
       " 'A.Masip': 735,\n",
       " 'A.Masoni': 736,\n",
       " 'A.Masserot': 737,\n",
       " 'A.Mastbaum': 738,\n",
       " 'A.Mastroberardino': 739,\n",
       " 'A.Mastrobuono-Battisti': 740,\n",
       " 'A.Mastroserio': 741,\n",
       " 'A.Matas': 742,\n",
       " 'A.Mathis': 743,\n",
       " 'A.Matic': 744,\n",
       " 'A.Mattarei': 745,\n",
       " 'A.Matyja': 746,\n",
       " 'A.McGregor': 747,\n",
       " 'A.Mefodiev': 748,\n",
       " 'A.Mehta': 749,\n",
       " 'A.Meier': 750,\n",
       " 'A.Melatos': 751,\n",
       " 'A.Melzer': 752,\n",
       " 'A.Menchaca-Rocha': 753,\n",
       " 'A.Menendez-Vazquez': 754,\n",
       " 'A.Messineo': 755,\n",
       " 'A.Mhaske': 756,\n",
       " 'A.Miani': 757,\n",
       " 'A.Mihály': 758,\n",
       " 'A.Mikeházi': 759,\n",
       " 'A.Miklosi': 760,\n",
       " 'A.Milic': 761,\n",
       " 'A.Milillo': 762,\n",
       " 'A.Miller': 763,\n",
       " 'A.Millet': 764,\n",
       " 'A.Milov': 765,\n",
       " 'A.Minamino': 766,\n",
       " 'A.Mints': 767,\n",
       " 'A.Mirto': 768,\n",
       " 'A.Mishchenko': 769,\n",
       " 'A.Mishkin': 770,\n",
       " 'A.Miucci': 771,\n",
       " 'A.Miyamoto': 772,\n",
       " 'A.Mizukami': 773,\n",
       " 'A.Modak': 774,\n",
       " 'A.Moggi': 775,\n",
       " 'A.Moitinho': 776,\n",
       " 'A.Mollen': 777,\n",
       " 'A.Montalbano': 778,\n",
       " 'A.Montaner': 779,\n",
       " 'A.Mora': 780,\n",
       " 'A.More': 781,\n",
       " 'A.Moreno': 782,\n",
       " 'A.Morozzi': 783,\n",
       " 'A.Morsch': 784,\n",
       " 'A.Morton': 785,\n",
       " 'A.Mucci': 786,\n",
       " 'A.Mukherjee': 787,\n",
       " 'A.Mukora': 788,\n",
       " 'A.Mullavey': 789,\n",
       " 'A.Mulliri': 790,\n",
       " 'A.Murrone': 791,\n",
       " 'A.Mussgiller': 792,\n",
       " 'A.N.Flores': 793,\n",
       " 'A.N.Fray': 794,\n",
       " 'A.N.Karyukhin': 795,\n",
       " 'A.N.Khlobystov': 796,\n",
       " 'A.N.Mishra': 797,\n",
       " 'A.N.Nag': 798,\n",
       " 'A.N.Tuna': 799,\n",
       " 'A.NagNag': 800,\n",
       " 'A.Nagar': 801,\n",
       " 'A.Nagler': 802,\n",
       " 'A.Nagy': 803,\n",
       " 'A.Nakamura': 804,\n",
       " 'A.Nassirpour': 805,\n",
       " 'A.Nath': 806,\n",
       " 'A.Neagu': 807,\n",
       " 'A.Negri': 808,\n",
       " 'A.Neunzert': 809,\n",
       " 'A.Nisati': 810,\n",
       " 'A.Nishizawa': 811,\n",
       " 'A.Noriega-Crespo': 812,\n",
       " 'A.Nyanin': 813,\n",
       " 'A.Németh': 814,\n",
       " 'A.Nógrádi': 815,\n",
       " 'A.Nürnberg': 816,\n",
       " 'A.Obertelli': 817,\n",
       " 'A.Ochi': 818,\n",
       " 'A.Odahara': 819,\n",
       " 'A.Ogrodnik': 820,\n",
       " 'A.Oh': 821,\n",
       " 'A.Ohlson': 822,\n",
       " 'A.Olariu': 823,\n",
       " 'A.Oldre': 824,\n",
       " 'A.Olszewski': 825,\n",
       " 'A.Oláh': 826,\n",
       " 'A.Onillon': 827,\n",
       " 'A.Onnela': 828,\n",
       " 'A.Onnerstad': 829,\n",
       " 'A.Onofre': 830,\n",
       " 'A.OrtizVelasquez': 831,\n",
       " 'A.Oskarsson': 832,\n",
       " 'A.Ouraou': 833,\n",
       " 'A.Ozsvar': 834,\n",
       " 'A.P.Colijn': 835,\n",
       " 'A.P.Dimmock': 836,\n",
       " 'A.P.Ibanez': 837,\n",
       " 'A.P.Lundgren': 838,\n",
       " 'A.P.Mohanty': 839,\n",
       " 'A.P.Morris': 840,\n",
       " \"A.P.O'Neill\": 841,\n",
       " \"A.P.O'neill\": 842,\n",
       " 'A.P.O’neill': 843,\n",
       " 'A.P.P.Peixoto': 844,\n",
       " 'A.P.Pages': 845,\n",
       " 'A.P.Patel': 846,\n",
       " 'A.P.PereiraPeixoto': 847,\n",
       " 'A.P.Rouillard': 848,\n",
       " 'A.P.Spencer': 849,\n",
       " 'A.Pai': 850,\n",
       " 'A.Pal': 851,\n",
       " 'A.Pal-Singh': 852,\n",
       " 'A.Palasciano': 853,\n",
       " 'A.Panahi': 854,\n",
       " 'A.Panidapu': 855,\n",
       " 'A.Paoli': 856,\n",
       " 'A.Paolone': 857,\n",
       " 'A.Papadopoulos': 858,\n",
       " 'A.Paramonov': 859,\n",
       " 'A.Pardons': 860,\n",
       " 'A.Parida': 861,\n",
       " 'A.Parisi': 862,\n",
       " 'A.Parisini': 863,\n",
       " 'A.Parker': 864,\n",
       " 'A.Pasqualetti': 865,\n",
       " 'A.Pathak': 866,\n",
       " 'A.Patsatsi': 867,\n",
       " 'A.Pauls': 868,\n",
       " 'A.Pavlov': 869,\n",
       " 'A.Pavone': 870,\n",
       " 'A.Peck': 871,\n",
       " 'A.Pekker': 872,\n",
       " 'A.Pele': 873,\n",
       " 'A.Penttilä': 874,\n",
       " 'A.Perego': 875,\n",
       " 'A.Pereira': 876,\n",
       " 'A.Perera': 877,\n",
       " 'A.Perez': 878,\n",
       " 'A.Perloff': 879,\n",
       " 'A.Perreca': 880,\n",
       " 'A.Perrevoort': 881,\n",
       " 'A.Pershin': 882,\n",
       " 'A.Petrenko': 883,\n",
       " 'A.Petridis': 884,\n",
       " 'A.Peyaud': 885,\n",
       " 'A.Picazio': 886,\n",
       " 'A.Piccinelli': 887,\n",
       " 'A.Pieczonka': 888,\n",
       " 'A.Piombini': 889,\n",
       " 'A.Pizzini': 890,\n",
       " 'A.Poley': 891,\n",
       " 'A.Policicchio': 892,\n",
       " 'A.Polini': 893,\n",
       " 'A.Polyák': 894,\n",
       " 'A.Pop': 895,\n",
       " 'A.Popov': 896,\n",
       " 'A.Poves': 897,\n",
       " 'A.Pritchard': 898,\n",
       " 'A.Privitera': 899,\n",
       " 'A.Prša': 900,\n",
       " 'A.Puecher': 901,\n",
       " 'A.Pukhov': 902,\n",
       " 'A.Pun': 903,\n",
       " 'A.Puri': 904,\n",
       " 'A.Pál': 905,\n",
       " 'A.Pór': 906,\n",
       " 'A.Pósa': 907,\n",
       " 'A.Quadt': 908,\n",
       " 'A.Qureshi': 909,\n",
       " 'A.R.Back': 910,\n",
       " 'A.R.Buzykaev': 911,\n",
       " 'A.R.Chomont': 912,\n",
       " 'A.R.Cukierman': 913,\n",
       " 'A.R.Guimaraes': 914,\n",
       " 'A.R.Jones': 915,\n",
       " 'A.R.Morales': 916,\n",
       " 'A.R.Redelbach': 917,\n",
       " 'A.R.Rodriguez': 918,\n",
       " 'A.R.Roepe': 919,\n",
       " 'A.R.Sahasransu': 920,\n",
       " 'A.R.Schmier': 921,\n",
       " 'A.R.Timmins': 922,\n",
       " 'A.R.Wade': 923,\n",
       " 'A.R.Weidberg': 924,\n",
       " 'A.R.Williamson': 925,\n",
       " 'A.Radu': 926,\n",
       " 'A.Rahaman': 927,\n",
       " 'A.Rakotozafindrabe': 928,\n",
       " 'A.RamirezMorales': 929,\n",
       " 'A.Ramos-Buades': 930,\n",
       " 'A.Rao': 931,\n",
       " 'A.Ray': 932,\n",
       " 'A.Rebelo': 933,\n",
       " 'A.Recio-Blanco': 934,\n",
       " 'A.Rehman': 935,\n",
       " 'A.Reichold': 936,\n",
       " 'A.Reiman': 937,\n",
       " 'A.Reimers': 938,\n",
       " 'A.Reiss': 939,\n",
       " 'A.Rej': 940,\n",
       " 'A.Renardi': 941,\n",
       " 'A.Renzini': 942,\n",
       " 'A.Rest': 943,\n",
       " 'A.Riabov': 944,\n",
       " 'A.Rimac': 945,\n",
       " 'A.Rimoldi': 946,\n",
       " 'A.Rinkevicius': 947,\n",
       " 'A.Riva': 948,\n",
       " 'A.Rivetti': 949,\n",
       " 'A.Rizzi': 950,\n",
       " 'A.Robertson': 951,\n",
       " 'A.Robson': 952,\n",
       " 'A.Rocchi': 953,\n",
       " 'A.RodriguezRodriguez': 954,\n",
       " 'A.Romaniouk': 955,\n",
       " 'A.Romero': 956,\n",
       " 'A.Romero-Rodríguez': 957,\n",
       " 'A.Roque-Bernard': 958,\n",
       " 'A.Rosano': 959,\n",
       " 'A.Rossa': 960,\n",
       " 'A.Rossi': 961,\n",
       " 'A.Rotondi': 962,\n",
       " 'A.Roy': 963,\n",
       " 'A.Rozanov': 964,\n",
       " 'A.Rubbia': 965,\n",
       " 'A.Ruiz': 966,\n",
       " 'A.Ruiz-Martinez': 967,\n",
       " 'A.Rummler': 968,\n",
       " 'A.Runov': 969,\n",
       " 'A.Rustamov': 970,\n",
       " 'A.Rusu': 971,\n",
       " 'A.Rybicki': 972,\n",
       " 'A.Rychter': 973,\n",
       " 'A.Ryd': 974,\n",
       " 'A.Ryzhov': 975,\n",
       " 'A.Rüdiger': 976,\n",
       " 'A.S.Bell': 977,\n",
       " 'A.S.Cerqueira': 978,\n",
       " 'A.S.Chisholm': 979,\n",
       " 'A.S.Drobac': 980,\n",
       " 'A.S.Hines': 981,\n",
       " 'A.S.Inacio': 982,\n",
       " 'A.S.Kozhin': 983,\n",
       " 'A.S.Markosyan': 984,\n",
       " 'A.S.Menon': 985,\n",
       " 'A.S.Mete': 986,\n",
       " 'A.S.Nyanin': 987,\n",
       " 'A.S.Patron': 988,\n",
       " 'A.S.Pineda': 989,\n",
       " 'A.S.Safonov': 990,\n",
       " 'A.S.Salas': 991,\n",
       " 'A.S.Sengupta': 992,\n",
       " 'A.S.Sharma': 993,\n",
       " 'A.S.Tee': 994,\n",
       " 'A.S.Ubhi': 995,\n",
       " 'A.S.White': 996,\n",
       " 'A.Sahu': 997,\n",
       " 'A.Salnikov': 998,\n",
       " 'A.Salvucci': 999,\n",
       " ...}"
      ]
     },
     "execution_count": 24,
     "metadata": {},
     "output_type": "execute_result"
    }
   ],
   "source": [
    "temp_mem"
   ]
  },
  {
   "cell_type": "markdown",
   "id": "b7c32551",
   "metadata": {},
   "source": [
    "So there are `32220` unique authors, now having their somewhat correct names."
   ]
  },
  {
   "cell_type": "code",
   "execution_count": 25,
   "id": "e0a499a1",
   "metadata": {},
   "outputs": [
    {
     "ename": "KeyboardInterrupt",
     "evalue": "",
     "output_type": "error",
     "traceback": [
      "\u001b[1;31m---------------------------------------------------------------------------\u001b[0m",
      "\u001b[1;31mKeyboardInterrupt\u001b[0m                         Traceback (most recent call last)",
      "\u001b[1;32mC:\\Users\\SZABDM~1\\AppData\\Local\\Temp/ipykernel_2744/146329913.py\u001b[0m in \u001b[0;36m<module>\u001b[1;34m\u001b[0m\n\u001b[0;32m     30\u001b[0m         \u001b[1;32mfor\u001b[0m \u001b[0mj\u001b[0m \u001b[1;32min\u001b[0m \u001b[0mrange\u001b[0m\u001b[1;33m(\u001b[0m\u001b[0mlen\u001b[0m\u001b[1;33m(\u001b[0m\u001b[0mcontent_mem\u001b[0m\u001b[1;33m)\u001b[0m\u001b[1;33m)\u001b[0m\u001b[1;33m:\u001b[0m\u001b[1;33m\u001b[0m\u001b[1;33m\u001b[0m\u001b[0m\n\u001b[0;32m     31\u001b[0m             \u001b[1;32mfor\u001b[0m \u001b[0mk\u001b[0m \u001b[1;32min\u001b[0m \u001b[0mnp\u001b[0m\u001b[1;33m.\u001b[0m\u001b[0marange\u001b[0m\u001b[1;33m(\u001b[0m\u001b[0mi\u001b[0m\u001b[1;33m+\u001b[0m\u001b[1;36m1\u001b[0m\u001b[1;33m,\u001b[0m\u001b[0mlen\u001b[0m\u001b[1;33m(\u001b[0m\u001b[0mcontent_mem\u001b[0m\u001b[1;33m)\u001b[0m\u001b[1;33m)\u001b[0m\u001b[1;33m:\u001b[0m\u001b[1;33m\u001b[0m\u001b[1;33m\u001b[0m\u001b[0m\n\u001b[1;32m---> 32\u001b[1;33m                 \u001b[0mtemp_link_list\u001b[0m\u001b[1;33m.\u001b[0m\u001b[0mappend\u001b[0m\u001b[1;33m(\u001b[0m\u001b[1;33m[\u001b[0m\u001b[0mcontent_mem\u001b[0m\u001b[1;33m[\u001b[0m\u001b[0mj\u001b[0m\u001b[1;33m]\u001b[0m\u001b[1;33m,\u001b[0m\u001b[0mcontent_mem\u001b[0m\u001b[1;33m[\u001b[0m\u001b[0mk\u001b[0m\u001b[1;33m]\u001b[0m\u001b[1;33m]\u001b[0m\u001b[1;33m)\u001b[0m\u001b[1;33m\u001b[0m\u001b[1;33m\u001b[0m\u001b[0m\n\u001b[0m",
      "\u001b[1;31mKeyboardInterrupt\u001b[0m: "
     ]
    }
   ],
   "source": [
    "\"\"\"\n",
    "THIS IS AN ARTIFACT\n",
    "\n",
    "    -> HEAVY MEMORY USAGE WITH LINKLIST CONTAINING UUIDS AS STRINGS!\n",
    "\n",
    "temp_mem = []\n",
    "temp_link_list = []\n",
    "r = re.compile(r\"\\s+\", re.MULTILINE)\n",
    "\n",
    "count = 0\n",
    "for i in range(len(data['content'])):\n",
    "    if (i+1) % 10 == 0:\n",
    "        sys.stdout.write(\"\\r {0} / {1}\".format(i+1,len(data['content'])))\n",
    "        sys.stdout.flush()\n",
    "    content_mem = []\n",
    "    for j in range(len(data['content'][i]['authorships'])):\n",
    "        \n",
    "        if (data['content'][i]['authorships'][j]['otype'] == 'PersonAuthorship'):\n",
    "            name_to_add = ''\n",
    "            string_to_add = '' \n",
    "            #using label is not advised due to special characters and its most likely have education description\n",
    "            #if the field extists, get the name! -> what if none of them exists?\n",
    "            if 'givenName' in data['content'][i]['authorships'][j]:\n",
    "                name_to_add += str(data['content'][i]['authorships'][j]['givenName']) + ' '\n",
    "            if 'familyName' in data['content'][i]['authorships'][j]:\n",
    "                name_to_add += str(data['content'][i]['authorships'][j]['familyName'])\n",
    "            \n",
    "            #uuid_encoded = str(uuid.uuid5( uuid.NAMESPACE_DNS,r.sub(\"\",name_to_add) ) ) -> takes up too much space\n",
    "            string_to_add += name_to_add + ', '\n",
    "            string_to_add += uuid_encoded + ', '\n",
    "            string_to_add += str(data['content'][i]['publishedYear'])\n",
    "            content_mem.append(uuid_encoded)\n",
    "            temp_mem.append(string_to_add)\n",
    "            \n",
    "    if (len(content_mem) > 0):\n",
    "        for j in range(len(content_mem)):\n",
    "            for k in np.arange(i+1,len(content_mem)):\n",
    "                temp_link_list.append([content_mem[j],content_mem[k]])\n",
    "                \n",
    "\"\"\""
   ]
  },
  {
   "cell_type": "code",
   "execution_count": 25,
   "id": "62f9673b",
   "metadata": {},
   "outputs": [
    {
     "data": {
      "text/plain": [
       "(1, 31149)"
      ]
     },
     "execution_count": 25,
     "metadata": {},
     "output_type": "execute_result"
    }
   ],
   "source": [
    "len(np.unique(temp_mem)), len(temp_mem)"
   ]
  },
  {
   "cell_type": "code",
   "execution_count": 26,
   "id": "0f4f1277",
   "metadata": {},
   "outputs": [
    {
     "data": {
      "text/plain": [
       "(array([1], dtype=int64), array([1], dtype=int64))"
      ]
     },
     "execution_count": 26,
     "metadata": {},
     "output_type": "execute_result"
    }
   ],
   "source": [
    "_,app_count = np.unique(temp_mem, return_counts=True)\n",
    "np.unique(app_count, return_counts=True)"
   ]
  },
  {
   "cell_type": "code",
   "execution_count": 27,
   "id": "b41c3a27",
   "metadata": {},
   "outputs": [
    {
     "ename": "NameError",
     "evalue": "name 'temp_mem2' is not defined",
     "output_type": "error",
     "traceback": [
      "\u001b[1;31m---------------------------------------------------------------------------\u001b[0m",
      "\u001b[1;31mNameError\u001b[0m                                 Traceback (most recent call last)",
      "\u001b[1;32mC:\\Users\\SZABDM~1\\AppData\\Local\\Temp/ipykernel_4800/1322861431.py\u001b[0m in \u001b[0;36m<module>\u001b[1;34m\u001b[0m\n\u001b[1;32m----> 1\u001b[1;33m \u001b[0m_\u001b[0m\u001b[1;33m,\u001b[0m\u001b[0mapp_count\u001b[0m \u001b[1;33m=\u001b[0m \u001b[0mnp\u001b[0m\u001b[1;33m.\u001b[0m\u001b[0munique\u001b[0m\u001b[1;33m(\u001b[0m\u001b[0mtemp_mem2\u001b[0m\u001b[1;33m,\u001b[0m \u001b[0mreturn_counts\u001b[0m\u001b[1;33m=\u001b[0m\u001b[1;32mTrue\u001b[0m\u001b[1;33m)\u001b[0m\u001b[1;33m\u001b[0m\u001b[1;33m\u001b[0m\u001b[0m\n\u001b[0m\u001b[0;32m      2\u001b[0m \u001b[0mnp\u001b[0m\u001b[1;33m.\u001b[0m\u001b[0munique\u001b[0m\u001b[1;33m(\u001b[0m\u001b[0mapp_count\u001b[0m\u001b[1;33m,\u001b[0m \u001b[0mreturn_counts\u001b[0m\u001b[1;33m=\u001b[0m\u001b[1;32mTrue\u001b[0m\u001b[1;33m)\u001b[0m\u001b[1;33m\u001b[0m\u001b[1;33m\u001b[0m\u001b[0m\n",
      "\u001b[1;31mNameError\u001b[0m: name 'temp_mem2' is not defined"
     ]
    }
   ],
   "source": [
    "_,app_count = np.unique(temp_mem2, return_counts=True)\n",
    "np.unique(app_count, return_counts=True)"
   ]
  },
  {
   "cell_type": "markdown",
   "id": "f9b371a6",
   "metadata": {},
   "source": [
    "Sooooo, `mtid` is unique to the creation of such object...\n",
    "\n",
    "Old trick: use their name as a source for the uuid to hide their identity, while it is deterministic. The logic of choosing a uuid will be hidden though."
   ]
  },
  {
   "cell_type": "code",
   "execution_count": 28,
   "id": "427ebf5e",
   "metadata": {},
   "outputs": [
    {
     "data": {
      "text/plain": [
       "{'otype': 'PersonAuthorship',\n",
       " 'mtid': 99807928,\n",
       " 'link': '/api/authorship/99807928',\n",
       " 'label': 'Aad, G',\n",
       " 'listPosition': 1,\n",
       " 'share': 0.0,\n",
       " 'first': True,\n",
       " 'last': False,\n",
       " 'corresponding': False,\n",
       " 'familyName': 'Aad',\n",
       " 'givenName': 'G',\n",
       " 'authorTyped': True,\n",
       " 'editorTyped': False,\n",
       " 'otherTyped': False,\n",
       " 'type': {'otype': 'AuthorshipType',\n",
       "  'mtid': 1,\n",
       "  'link': '/api/authorshiptype/1',\n",
       "  'label': 'Szerző',\n",
       "  'code': 0,\n",
       "  'published': True,\n",
       "  'oldId': 0,\n",
       "  'snippet': True},\n",
       " 'published': False,\n",
       " 'snippet': True}"
      ]
     },
     "execution_count": 28,
     "metadata": {},
     "output_type": "execute_result"
    }
   ],
   "source": [
    "data['content'][0]['authorships'][0]"
   ]
  },
  {
   "cell_type": "markdown",
   "id": "cf137a88",
   "metadata": {},
   "source": [
    "## UUID.UUID5 for hiding information ( Removed )\n",
    "\n",
    "I will be using uuid.uuid5 for hidin information to hide personal information for the sake of clean analysis. Later on we can insert such information back, take a look at it and draw conclusions."
   ]
  },
  {
   "cell_type": "code",
   "execution_count": 29,
   "id": "39c54794",
   "metadata": {},
   "outputs": [
    {
     "name": "stdout",
     "output_type": "stream",
     "text": [
      "61977f7f-ec8f-5de5-8a2f-e476a11c4455\n"
     ]
    }
   ],
   "source": [
    "print(uuid.uuid5(uuid.NAMESPACE_DNS,(data['content'][0]['authorships'][0]['givenName'] +\n",
    "                                     ' ' +\n",
    "                                     data['content'][0]['authorships'][0]['familyName'])))"
   ]
  },
  {
   "cell_type": "code",
   "execution_count": 72,
   "id": "39743814",
   "metadata": {},
   "outputs": [
    {
     "name": "stdout",
     "output_type": "stream",
     "text": [
      " 5000 / 5000"
     ]
    }
   ],
   "source": [
    "\"\"\"\n",
    "temp_mem = []\n",
    "temp_link_list = []\n",
    "r = re.compile(r\"\\s+\", re.MULTILINE)\n",
    "\n",
    "count = 0\n",
    "for i in range(len(data['content'])):\n",
    "    if (i+1) % 10 == 0:\n",
    "        sys.stdout.write(\"\\r {0} / {1}\".format(i+1,len(data['content'])))\n",
    "        sys.stdout.flush()\n",
    "    content_mem = []\n",
    "    for j in range(len(data['content'][i]['authorships'])):\n",
    "        \n",
    "        if (data['content'][i]['authorships'][j]['otype'] == 'PersonAuthorship'):\n",
    "            name_to_add = ''\n",
    "            string_to_add = '' \n",
    "            #if the field extists, get the name! -> what if none of them exists?\n",
    "            if 'givenName' in data['content'][i]['authorships'][j]:\n",
    "                name_to_add += str(data['content'][i]['authorships'][j]['givenName']) + ' '\n",
    "            if 'familyName' in data['content'][i]['authorships'][j]:\n",
    "                name_to_add += str(data['content'][i]['authorships'][j]['familyName'])\n",
    "            \n",
    "            uuid_encoded = str(uuid.uuid5( uuid.NAMESPACE_DNS,r.sub(\"\",name_to_add) ) )\n",
    "            string_to_add += name_to_add + ', '\n",
    "            string_to_add += uuid_encoded + ', '\n",
    "            string_to_add += str(data['content'][i]['publishedYear'])\n",
    "            content_mem.append(uuid_encoded)\n",
    "            temp_mem.append(string_to_add)\n",
    "            \n",
    "    if (len(content_mem) > 0):\n",
    "        for j in range(len(content_mem)):\n",
    "            for k in np.arange(i+1,len(content_mem)):\n",
    "                temp_link_list.append([content_mem[j],content_mem[k]])\n",
    "\"\"\""
   ]
  },
  {
   "cell_type": "code",
   "execution_count": 82,
   "id": "11a84915",
   "metadata": {},
   "outputs": [
    {
     "name": "stdout",
     "output_type": "stream",
     "text": [
      "32220 38 38\n"
     ]
    }
   ],
   "source": [
    "#apps,app_count = np.unique(temp_mem, return_counts=True)\n",
    "#c1,c2 = np.unique(app_count, return_counts=True)\n",
    "\n",
    "#print(len(apps), len(c1),len(c2))"
   ]
  },
  {
   "cell_type": "markdown",
   "id": "54480c46",
   "metadata": {},
   "source": [
    "This makes it obvious that the encoded gives the same result as the not encoded, meaning that using their name is acceptable to create the decoding list and the linklist with dates included."
   ]
  },
  {
   "cell_type": "markdown",
   "id": "3eab9463",
   "metadata": {},
   "source": [
    "## NP.UINT32\n",
    "\n",
    "To encode the list, this is more efficient compared to uuids as strings. Of course, the uuid generation is done on the fly, which is fast compared to searching for the encoding integer in an already existing array."
   ]
  },
  {
   "cell_type": "code",
   "execution_count": 30,
   "id": "3e1012a8",
   "metadata": {},
   "outputs": [
    {
     "data": {
      "text/plain": [
       "array(['GAad'], dtype='<U47')"
      ]
     },
     "execution_count": 30,
     "metadata": {},
     "output_type": "execute_result"
    }
   ],
   "source": [
    "np.array(list(temp_mem.keys()))[np.array(list(temp_mem.keys())) == 'GAad']"
   ]
  },
  {
   "cell_type": "code",
   "execution_count": 31,
   "id": "3ee26d6f",
   "metadata": {},
   "outputs": [
    {
     "data": {
      "text/plain": [
       "array([    0,     1,     2, ..., 31146, 31147, 31148], dtype=uint32)"
      ]
     },
     "execution_count": 31,
     "metadata": {},
     "output_type": "execute_result"
    }
   ],
   "source": [
    "np.array(list(temp_mem.values()))"
   ]
  },
  {
   "cell_type": "code",
   "execution_count": 32,
   "id": "c5b7bf4f",
   "metadata": {},
   "outputs": [
    {
     "data": {
      "text/plain": [
       "'GAad'"
      ]
     },
     "execution_count": 32,
     "metadata": {},
     "output_type": "execute_result"
    }
   ],
   "source": [
    "data['content'][0]['authorships'][0]['givenName'] + data['content'][0]['authorships'][0]['familyName']"
   ]
  },
  {
   "cell_type": "code",
   "execution_count": 33,
   "id": "3a4b37ab",
   "metadata": {},
   "outputs": [
    {
     "data": {
      "text/plain": [
       "2870"
      ]
     },
     "execution_count": 33,
     "metadata": {},
     "output_type": "execute_result"
    }
   ],
   "source": [
    "data['content'][0]['authorCount']"
   ]
  },
  {
   "cell_type": "code",
   "execution_count": 34,
   "id": "597787b0",
   "metadata": {},
   "outputs": [
    {
     "name": "stdout",
     "output_type": "stream",
     "text": [
      " 5000 / 5000 # 89197084"
     ]
    }
   ],
   "source": [
    "_name_list = np.array(list(temp_mem.keys()))      #saving tables\n",
    "_encoded_list = np.array(list(temp_mem.values())) \n",
    "temp_link_list = np.zeros((0,4), dtype=np.uint32) #burning in datatype\n",
    "r = re.compile(r\"\\s+\", re.MULTILINE)              #for stripping some stuff\n",
    "\n",
    "count = 0\n",
    "for i in range(len(data['content'])):\n",
    "    if (i+1) % 10 == 0:\n",
    "        sys.stdout.write(\"\\r {0} / {1} # {2}\".format(i+1,len(data['content']), len(temp_link_list)))\n",
    "        sys.stdout.flush()\n",
    "    content_mem = []\n",
    "    for j in range(len(data['content'][i]['authorships'])):\n",
    "        \n",
    "        if (data['content'][i]['authorships'][j]['otype'] == 'PersonAuthorship'):\n",
    "            name_to_add = ''\n",
    "            string_to_add = '' \n",
    "            #if the field extists, get the name! -> what if none of them exists?\n",
    "            if 'givenName' in data['content'][i]['authorships'][j]:\n",
    "                name_to_add += str(data['content'][i]['authorships'][j]['givenName']) + ' '\n",
    "            if 'familyName' in data['content'][i]['authorships'][j]:\n",
    "                name_to_add += str(data['content'][i]['authorships'][j]['familyName'])\n",
    "            name_to_add = r.sub(\"\", name_to_add)\n",
    "            _encoded = _encoded_list[_name_list == name_to_add]\n",
    "            if len(_encoded) == 1:\n",
    "                content_mem.append(_encoded[0])\n",
    "            else:\n",
    "                print(\"Wrong amount of authors: {} != 1 !\".format(len(_encoded)))\n",
    "            \n",
    "    if (len(content_mem) > 0):\n",
    "        tmp_mem = []     #save partial results as constans addition is not liked by numpy\n",
    "        for j in range(len(content_mem)):\n",
    "            for k in np.arange(j+1,len(content_mem)):\n",
    "                tmp_mem.append([content_mem[j],content_mem[k],data['content'][i]['publishedYear'],data['content'][i]['authorCount']])\n",
    "        if (len(tmp_mem) > 0): \n",
    "            temp_link_list = np.append(temp_link_list,\n",
    "                                       tmp_mem,\n",
    "                                       axis=0)\n",
    "            \n",
    "temp_link_list = np.array(temp_link_list, dtype=np.uint32)"
   ]
  },
  {
   "cell_type": "code",
   "execution_count": 35,
   "id": "2fe179d7",
   "metadata": {},
   "outputs": [
    {
     "data": {
      "text/plain": [
       "89197084"
      ]
     },
     "execution_count": 35,
     "metadata": {},
     "output_type": "execute_result"
    }
   ],
   "source": [
    "len(temp_link_list)"
   ]
  },
  {
   "cell_type": "code",
   "execution_count": 36,
   "id": "817c4309",
   "metadata": {},
   "outputs": [],
   "source": [
    "temp_link_list = np.array(temp_link_list, dtype=np.uint32)"
   ]
  },
  {
   "cell_type": "code",
   "execution_count": 37,
   "id": "4fe98f7d",
   "metadata": {},
   "outputs": [
    {
     "data": {
      "text/plain": [
       "array([10068,  3638,  2021,  2870], dtype=uint32)"
      ]
     },
     "execution_count": 37,
     "metadata": {},
     "output_type": "execute_result"
    }
   ],
   "source": [
    "temp_link_list[0]"
   ]
  },
  {
   "cell_type": "code",
   "execution_count": 38,
   "id": "ba877f55",
   "metadata": {},
   "outputs": [
    {
     "data": {
      "text/plain": [
       "89197084"
      ]
     },
     "execution_count": 38,
     "metadata": {},
     "output_type": "execute_result"
    }
   ],
   "source": [
    "len(temp_link_list)"
   ]
  },
  {
   "cell_type": "code",
   "execution_count": 65,
   "id": "8f998737",
   "metadata": {},
   "outputs": [
    {
     "ename": "NameError",
     "evalue": "name 'apps' is not defined",
     "output_type": "error",
     "traceback": [
      "\u001b[1;31m---------------------------------------------------------------------------\u001b[0m",
      "\u001b[1;31mNameError\u001b[0m                                 Traceback (most recent call last)",
      "\u001b[1;32mC:\\Users\\SZABDM~1\\AppData\\Local\\Temp/ipykernel_2744/172812328.py\u001b[0m in \u001b[0;36m<module>\u001b[1;34m\u001b[0m\n\u001b[1;32m----> 1\u001b[1;33m \u001b[0mlen\u001b[0m\u001b[1;33m(\u001b[0m\u001b[0mtemp_link_list\u001b[0m\u001b[1;33m)\u001b[0m \u001b[1;33m/\u001b[0m \u001b[0mlen\u001b[0m\u001b[1;33m(\u001b[0m\u001b[0mapps\u001b[0m\u001b[1;33m)\u001b[0m\u001b[1;33m**\u001b[0m\u001b[1;36m2\u001b[0m\u001b[1;33m\u001b[0m\u001b[1;33m\u001b[0m\u001b[0m\n\u001b[0m",
      "\u001b[1;31mNameError\u001b[0m: name 'apps' is not defined"
     ]
    }
   ],
   "source": [
    "len(temp_link_list) / len(apps)**2"
   ]
  },
  {
   "cell_type": "code",
   "execution_count": 39,
   "id": "d9806a62",
   "metadata": {},
   "outputs": [
    {
     "data": {
      "text/plain": [
       "(89197084, 2)"
      ]
     },
     "execution_count": 39,
     "metadata": {},
     "output_type": "execute_result"
    }
   ],
   "source": [
    "temp_link_list[:,0:2].shape"
   ]
  },
  {
   "cell_type": "code",
   "execution_count": 40,
   "id": "3c6d09ca",
   "metadata": {},
   "outputs": [
    {
     "data": {
      "text/plain": [
       "350046"
      ]
     },
     "execution_count": 40,
     "metadata": {},
     "output_type": "execute_result"
    }
   ],
   "source": [
    "len(temp_link_list[temp_link_list[:,3] < 200])"
   ]
  },
  {
   "cell_type": "markdown",
   "id": "5194f663",
   "metadata": {},
   "source": [
    "**DO NOT SAVE IT IN THIS FORM!**"
   ]
  },
  {
   "cell_type": "code",
   "execution_count": 67,
   "id": "79a46f97",
   "metadata": {},
   "outputs": [],
   "source": [
    "#np.savetxt('data/decoding_s_5000.csv', temp_mem, delimiter=\",\",fmt='%s',encoding=\"utf-8\")\n",
    "#np.savetxt('data/sample5000.csv', temp_link_list, delimiter=\",\",fmt='%s',encoding=\"utf-8\")"
   ]
  },
  {
   "cell_type": "markdown",
   "id": "381834e9",
   "metadata": {},
   "source": [
    "This seems huge but... I don't think this is a bad or wrong result, because there are a couple of mass co-athor publiations, which comes with a fully connecter graph that is jus huge in itsef."
   ]
  },
  {
   "cell_type": "code",
   "execution_count": 99,
   "id": "dcc20679",
   "metadata": {},
   "outputs": [
    {
     "data": {
      "text/plain": [
       "1.2665987014770508"
      ]
     },
     "execution_count": 99,
     "metadata": {},
     "output_type": "execute_result"
    }
   ],
   "source": [
    "170000000 * 2 * 32 /1024 / 8 / 1024 / 1024"
   ]
  },
  {
   "cell_type": "code",
   "execution_count": 98,
   "id": "9d3913a6",
   "metadata": {},
   "outputs": [
    {
     "data": {
      "text/plain": [
       "7.202791124582291"
      ]
     },
     "execution_count": 98,
     "metadata": {},
     "output_type": "execute_result"
    }
   ],
   "source": [
    "638 * 1906 * 1060 * 3 * 2 / 1024 / 1024 / 1024"
   ]
  },
  {
   "cell_type": "markdown",
   "id": "ccf389aa",
   "metadata": {},
   "source": [
    "## Other data for network creation\n",
    "\n",
    "Not only collaborating authorscan be connected together, but they can be connected to topics that they are like to \"work in\" or prefer."
   ]
  },
  {
   "cell_type": "code",
   "execution_count": 48,
   "id": "678fb9eb",
   "metadata": {},
   "outputs": [
    {
     "data": {
      "text/plain": [
       "[{'otype': 'Classification',\n",
       "  'mtid': 10154,\n",
       "  'link': '/api/classification/10154',\n",
       "  'label': 'Fizika',\n",
       "  'published': True,\n",
       "  'snippet': True}]"
      ]
     },
     "execution_count": 48,
     "metadata": {},
     "output_type": "execute_result"
    }
   ],
   "source": [
    "data['content'][0]['subjects']"
   ]
  },
  {
   "cell_type": "code",
   "execution_count": 54,
   "id": "5d63a9c2",
   "metadata": {},
   "outputs": [
    {
     "data": {
      "text/plain": [
       "893"
      ]
     },
     "execution_count": 54,
     "metadata": {},
     "output_type": "execute_result"
    }
   ],
   "source": [
    "subjects = []\n",
    "for i in range(len(data['content'])):\n",
    "    for j in range(len(data['content'][i]['subjects'])):\n",
    "        subjects.append(data['content'][i]['subjects'][j]['label'])\n",
    "        \n",
    "distinctSubs, dSubCount = np.unique(subjects, return_counts=True)\n",
    "len(distinctSubs)"
   ]
  },
  {
   "cell_type": "code",
   "execution_count": 49,
   "id": "48d5e686",
   "metadata": {},
   "outputs": [
    {
     "data": {
      "text/plain": [
       "[{'otype': 'Keyword',\n",
       "  'mtid': 7127,\n",
       "  'link': '/api/keyword/7127',\n",
       "  'label': 'LIFETIME',\n",
       "  'published': True,\n",
       "  'oldId': 7127,\n",
       "  'snippet': True},\n",
       " {'otype': 'Keyword',\n",
       "  'mtid': 1010012,\n",
       "  'link': '/api/keyword/1010012',\n",
       "  'label': 'extension',\n",
       "  'published': True,\n",
       "  'oldId': 1010012,\n",
       "  'snippet': True},\n",
       " {'otype': 'Keyword',\n",
       "  'mtid': 1259936,\n",
       "  'link': '/api/keyword/1259936',\n",
       "  'label': 'Higgs physics',\n",
       "  'published': True,\n",
       "  'oldId': 1259936,\n",
       "  'snippet': True},\n",
       " {'otype': 'Keyword',\n",
       "  'mtid': 1309030,\n",
       "  'link': '/api/keyword/1309030',\n",
       "  'label': 'Exotics',\n",
       "  'published': True,\n",
       "  'oldId': 1309030,\n",
       "  'snippet': True},\n",
       " {'otype': 'Keyword',\n",
       "  'mtid': 1404870,\n",
       "  'link': '/api/keyword/1404870',\n",
       "  'label': 'Hadron-Hadron scattering (experiments)',\n",
       "  'published': True,\n",
       "  'oldId': 1404870,\n",
       "  'snippet': True},\n",
       " {'otype': 'Keyword',\n",
       "  'mtid': 1472719,\n",
       "  'link': '/api/keyword/1472719',\n",
       "  'label': 'STRAHLUNG',\n",
       "  'published': True,\n",
       "  'oldId': 1472719,\n",
       "  'snippet': True},\n",
       " {'otype': 'Keyword',\n",
       "  'mtid': 1487781,\n",
       "  'link': '/api/keyword/1487781',\n",
       "  'label': 'proton-proton scattering',\n",
       "  'published': True,\n",
       "  'oldId': 1487781,\n",
       "  'snippet': True}]"
      ]
     },
     "execution_count": 49,
     "metadata": {},
     "output_type": "execute_result"
    }
   ],
   "source": [
    "data['content'][0]['keywords']"
   ]
  },
  {
   "cell_type": "code",
   "execution_count": 59,
   "id": "e7499a65",
   "metadata": {},
   "outputs": [
    {
     "data": {
      "text/plain": [
       "(3900,\n",
       " array([\"'Components model of addiction'\", '(C, alpha(n)) means',\n",
       "        '1 new combination', '14 new species', '1848. március 15',\n",
       "        '1ST REPORT', '1ST STARS', '25(OH)-vitamin D', '3-interaction',\n",
       "        '3D nyomtatás'], dtype='<U218'))"
      ]
     },
     "execution_count": 59,
     "metadata": {},
     "output_type": "execute_result"
    }
   ],
   "source": [
    "keywords = []\n",
    "for i in range(len(data['content'])):\n",
    "    if 'keywords' in data['content'][i].keys():\n",
    "        for j in range(len(data['content'][i]['keywords'])):\n",
    "            subjects.append(data['content'][i]['keywords'][j]['label'])\n",
    "        \n",
    "distinctKeys, dKeyCount = np.unique(subjects, return_counts=True)\n",
    "len(distinctKeys), distinctKeys[0:10]"
   ]
  },
  {
   "cell_type": "markdown",
   "id": "8bdd31c5",
   "metadata": {},
   "source": [
    "# Network Objects\n",
    "\n",
    "Networkx for the win! I used it a couple of times, but rarely, meaning that I need a quic recap for it.\n",
    "\n",
    "## Test Network initialized"
   ]
  },
  {
   "cell_type": "code",
   "execution_count": 111,
   "id": "857f2b68",
   "metadata": {},
   "outputs": [],
   "source": [
    "test_graph = nx.Graph()\n",
    "\n",
    "test_links = np.array([[1,2],\n",
    "                       [2,3],\n",
    "                       [1,3],\n",
    "                       [4,4],\n",
    "                      [5,5],\n",
    "                      [6,6]])\n",
    "\n",
    "test_graph.add_edges_from(test_links)"
   ]
  },
  {
   "cell_type": "code",
   "execution_count": 112,
   "id": "2b3e7025",
   "metadata": {},
   "outputs": [
    {
     "data": {
      "image/png": "[encoded data removed]",
      "text/plain": [
       "<Figure size 504x504 with 1 Axes>"
      ]
     },
     "metadata": {},
     "output_type": "display_data"
    }
   ],
   "source": [
    "#test plot \n",
    "fig = plt.figure(figsize=(7,7))\n",
    "\n",
    "plt.title(\"Test Network: Test plot\", fontsize=22)\n",
    "\n",
    "pos = nx.spring_layout(test_graph)\n",
    "\n",
    "nx.draw_networkx_nodes(test_graph,\n",
    "                      pos,\n",
    "                      nodelist = np.array(test_graph.nodes)\n",
    "                      )\n",
    "\n",
    "nx.draw_networkx_edges(test_graph,\n",
    "                      pos,\n",
    "                      width=0.5,\n",
    "                      edge_color='r',\n",
    "                      arrows=False)\n",
    "fig.tight_layout()\n",
    "\n",
    "plt.show()"
   ]
  },
  {
   "cell_type": "markdown",
   "id": "82c0b188",
   "metadata": {},
   "source": [
    "So I could, in theory, contain all authors from all publications, but seems **unnecessary**."
   ]
  },
  {
   "cell_type": "markdown",
   "id": "bc89630a",
   "metadata": {},
   "source": [
    "## Creating the network from temp_link_list\n",
    "\n",
    "Its huge in size, its massive, will netx handle it? Probably not..."
   ]
  },
  {
   "cell_type": "code",
   "execution_count": 42,
   "id": "13633d51",
   "metadata": {},
   "outputs": [],
   "source": [
    "sample_graph = nx.Graph()\n",
    "\n",
    "sample_graph.add_edges_from(temp_link_list[:,0:2][temp_link_list[:,3] < 200])"
   ]
  },
  {
   "cell_type": "code",
   "execution_count": 44,
   "id": "7cd5a07f",
   "metadata": {},
   "outputs": [
    {
     "data": {
      "image/png": "[encoded data removed]",
      "text/plain": [
       "<Figure size 1296x1296 with 1 Axes>"
      ]
     },
     "metadata": {},
     "output_type": "display_data"
    }
   ],
   "source": [
    "fig = plt.figure(figsize=(18,18))\n",
    "\n",
    "plt.title(\"Test Sample: Freshest 5000 publications\", fontsize=28)\n",
    "\n",
    "pos = nx.spring_layout(sample_graph)\n",
    "\n",
    "nx.draw_networkx_nodes(sample_graph,\n",
    "                      pos,\n",
    "                      nodelist = np.array(sample_graph.nodes),\n",
    "                      node_size=7,\n",
    "                      alpha=0.7\n",
    "                      )\n",
    "\n",
    "nx.draw_networkx_edges(sample_graph,\n",
    "                      pos,\n",
    "                      width=0.5,\n",
    "                      edgelist=temp_link_list[:,0:2][temp_link_list[:,3] < 200],\n",
    "                      edge_color='r',\n",
    "                      arrows=False)\n",
    "\n",
    "fig.tight_layout()\n",
    "\n",
    "plt.savefig(\"figs/networkx_from_5000sample.pdf\", format=\"pdf\", bbox_inches=\"tight\")\n",
    "\n",
    "#needs some modifications, but starts to look acceptable\n",
    "\n",
    "plt.show()"
   ]
  },
  {
   "cell_type": "code",
   "execution_count": 95,
   "id": "46dffbbc",
   "metadata": {
    "scrolled": true
   },
   "outputs": [
    {
     "name": "stdout",
     "output_type": "stream",
     "text": [
      "32220\n"
     ]
    }
   ],
   "source": [
    "asd = np.unique(temp_mem)\n",
    "print(len(asd))"
   ]
  },
  {
   "cell_type": "code",
   "execution_count": 109,
   "id": "0d4c5f0a",
   "metadata": {},
   "outputs": [],
   "source": [
    "sub_asd = []\n",
    "for i in range(len(asd)):\n",
    "    sub_asd.append(asd[i].split()[-2].replace(',',''))"
   ]
  },
  {
   "cell_type": "markdown",
   "id": "d32dde16",
   "metadata": {},
   "source": [
    "Still not ghood enough fo memory -> going into number territory..."
   ]
  },
  {
   "cell_type": "code",
   "execution_count": 122,
   "id": "a025344e",
   "metadata": {},
   "outputs": [
    {
     "data": {
      "text/plain": [
       "array([['f47f56b2-6ad5-5701-a27f-36b6cd0ef6dd', '0'],\n",
       "       ['2a1738c6-7c8c-5691-85d4-fdc516a5283e', '1'],\n",
       "       ['e569efac-02eb-5cdb-b620-02c667eadd35', '2'],\n",
       "       ...,\n",
       "       ['1b81ff05-88c4-548b-8153-41c7e8af1587', '32217'],\n",
       "       ['dd5338c7-37ba-512f-8c4c-e4e1fe644531', '32218'],\n",
       "       ['086b22d5-b7db-578c-80f1-dd517e3aa52f', '32219']], dtype='<U36')"
      ]
     },
     "execution_count": 122,
     "metadata": {},
     "output_type": "execute_result"
    }
   ],
   "source": [
    "number_decode = np.array(list(zip(np.array(sub_asd), np.arange(len(sub_asd)+1))))\n",
    "number_decode"
   ]
  },
  {
   "cell_type": "code",
   "execution_count": 140,
   "id": "a4315423",
   "metadata": {},
   "outputs": [
    {
     "name": "stdout",
     "output_type": "stream",
     "text": [
      " 412000 / 175160982"
     ]
    },
    {
     "ename": "KeyboardInterrupt",
     "evalue": "",
     "output_type": "error",
     "traceback": [
      "\u001b[1;31m---------------------------------------------------------------------------\u001b[0m",
      "\u001b[1;31mKeyboardInterrupt\u001b[0m                         Traceback (most recent call last)",
      "\u001b[1;32mC:\\Users\\SZABDM~1\\AppData\\Local\\Temp/ipykernel_15368/3115578659.py\u001b[0m in \u001b[0;36m<module>\u001b[1;34m\u001b[0m\n\u001b[0;32m      6\u001b[0m     \u001b[1;31m#first one\u001b[0m\u001b[1;33m\u001b[0m\u001b[1;33m\u001b[0m\u001b[1;33m\u001b[0m\u001b[0m\n\u001b[0;32m      7\u001b[0m     \u001b[0mnumber_link_list\u001b[0m\u001b[1;33m[\u001b[0m\u001b[0mi\u001b[0m\u001b[1;33m,\u001b[0m\u001b[1;36m0\u001b[0m\u001b[1;33m]\u001b[0m \u001b[1;33m=\u001b[0m \u001b[0mnp\u001b[0m\u001b[1;33m.\u001b[0m\u001b[0mint16\u001b[0m\u001b[1;33m(\u001b[0m\u001b[0mnumber_decode\u001b[0m\u001b[1;33m[\u001b[0m\u001b[0mnumber_decode\u001b[0m\u001b[1;33m[\u001b[0m\u001b[1;33m:\u001b[0m\u001b[1;33m,\u001b[0m\u001b[1;36m0\u001b[0m\u001b[1;33m]\u001b[0m \u001b[1;33m==\u001b[0m \u001b[0mtemp_link_list\u001b[0m\u001b[1;33m[\u001b[0m\u001b[0mi\u001b[0m\u001b[1;33m]\u001b[0m\u001b[1;33m[\u001b[0m\u001b[1;36m0\u001b[0m\u001b[1;33m]\u001b[0m\u001b[1;33m]\u001b[0m\u001b[1;33m[\u001b[0m\u001b[1;36m0\u001b[0m\u001b[1;33m]\u001b[0m\u001b[1;33m[\u001b[0m\u001b[1;36m1\u001b[0m\u001b[1;33m]\u001b[0m\u001b[1;33m)\u001b[0m\u001b[1;33m\u001b[0m\u001b[1;33m\u001b[0m\u001b[0m\n\u001b[1;32m----> 8\u001b[1;33m     \u001b[0mnumber_link_list\u001b[0m\u001b[1;33m[\u001b[0m\u001b[0mi\u001b[0m\u001b[1;33m,\u001b[0m\u001b[1;36m1\u001b[0m\u001b[1;33m]\u001b[0m \u001b[1;33m=\u001b[0m \u001b[0mnp\u001b[0m\u001b[1;33m.\u001b[0m\u001b[0mint16\u001b[0m\u001b[1;33m(\u001b[0m\u001b[0mnumber_decode\u001b[0m\u001b[1;33m[\u001b[0m\u001b[0mnumber_decode\u001b[0m\u001b[1;33m[\u001b[0m\u001b[1;33m:\u001b[0m\u001b[1;33m,\u001b[0m\u001b[1;36m0\u001b[0m\u001b[1;33m]\u001b[0m \u001b[1;33m==\u001b[0m \u001b[0mtemp_link_list\u001b[0m\u001b[1;33m[\u001b[0m\u001b[0mi\u001b[0m\u001b[1;33m]\u001b[0m\u001b[1;33m[\u001b[0m\u001b[1;36m1\u001b[0m\u001b[1;33m]\u001b[0m\u001b[1;33m]\u001b[0m\u001b[1;33m[\u001b[0m\u001b[1;36m0\u001b[0m\u001b[1;33m]\u001b[0m\u001b[1;33m[\u001b[0m\u001b[1;36m1\u001b[0m\u001b[1;33m]\u001b[0m\u001b[1;33m)\u001b[0m\u001b[1;33m\u001b[0m\u001b[1;33m\u001b[0m\u001b[0m\n\u001b[0m",
      "\u001b[1;31mKeyboardInterrupt\u001b[0m: "
     ]
    }
   ],
   "source": [
    "number_link_list = np.zeros((len(temp_link_list),2), dtype=np.int16)\n",
    "for i in range(len(temp_link_list)):\n",
    "    if (i+1) % 1000 == 0:\n",
    "        sys.stdout.write(\"\\r {0} / {1}\".format(i+1,len(temp_link_list)))\n",
    "        sys.stdout.flush()\n",
    "    #first one\n",
    "    number_link_list[i,0] = np.int16(number_decode[number_decode[:,0] == temp_link_list[i][0]][0][1])\n",
    "    number_link_list[i,1] = np.int16(number_decode[number_decode[:,0] == temp_link_list[i][1]][0][1])"
   ]
  },
  {
   "cell_type": "code",
   "execution_count": 89,
   "id": "dbde81be",
   "metadata": {},
   "outputs": [],
   "source": [
    "import igraph"
   ]
  },
  {
   "cell_type": "code",
   "execution_count": 112,
   "id": "04762b45",
   "metadata": {},
   "outputs": [
    {
     "ename": "MemoryError",
     "evalue": "Error at src/graph/type_indexededgelist.c:307: cannot add edges. -- Out of memory",
     "output_type": "error",
     "traceback": [
      "\u001b[1;31m---------------------------------------------------------------------------\u001b[0m",
      "\u001b[1;31mMemoryError\u001b[0m                               Traceback (most recent call last)",
      "\u001b[1;32mC:\\Users\\SZABDM~1\\AppData\\Local\\Temp/ipykernel_15368/3973478350.py\u001b[0m in \u001b[0;36m<module>\u001b[1;34m\u001b[0m\n\u001b[0;32m      2\u001b[0m \u001b[1;33m\u001b[0m\u001b[0m\n\u001b[0;32m      3\u001b[0m \u001b[0miSampleG\u001b[0m\u001b[1;33m.\u001b[0m\u001b[0madd_vertices\u001b[0m\u001b[1;33m(\u001b[0m\u001b[0msub_asd\u001b[0m\u001b[1;33m)\u001b[0m\u001b[1;33m\u001b[0m\u001b[1;33m\u001b[0m\u001b[0m\n\u001b[1;32m----> 4\u001b[1;33m \u001b[0miSampleG\u001b[0m\u001b[1;33m.\u001b[0m\u001b[0madd_edges\u001b[0m\u001b[1;33m(\u001b[0m\u001b[0mtemp_link_list\u001b[0m\u001b[1;33m)\u001b[0m\u001b[1;33m\u001b[0m\u001b[1;33m\u001b[0m\u001b[0m\n\u001b[0m",
      "\u001b[1;32mE:\\ANACONDA\\conda\\lib\\site-packages\\igraph\\__init__.py\u001b[0m in \u001b[0;36madd_edges\u001b[1;34m(self, es, attributes)\u001b[0m\n\u001b[0;32m    374\u001b[0m         \"\"\"\n\u001b[0;32m    375\u001b[0m         \u001b[0meid\u001b[0m \u001b[1;33m=\u001b[0m \u001b[0mself\u001b[0m\u001b[1;33m.\u001b[0m\u001b[0mecount\u001b[0m\u001b[1;33m(\u001b[0m\u001b[1;33m)\u001b[0m\u001b[1;33m\u001b[0m\u001b[1;33m\u001b[0m\u001b[0m\n\u001b[1;32m--> 376\u001b[1;33m         \u001b[0mres\u001b[0m \u001b[1;33m=\u001b[0m \u001b[0mGraphBase\u001b[0m\u001b[1;33m.\u001b[0m\u001b[0madd_edges\u001b[0m\u001b[1;33m(\u001b[0m\u001b[0mself\u001b[0m\u001b[1;33m,\u001b[0m \u001b[0mes\u001b[0m\u001b[1;33m)\u001b[0m\u001b[1;33m\u001b[0m\u001b[1;33m\u001b[0m\u001b[0m\n\u001b[0m\u001b[0;32m    377\u001b[0m         \u001b[0mn\u001b[0m \u001b[1;33m=\u001b[0m \u001b[0mself\u001b[0m\u001b[1;33m.\u001b[0m\u001b[0mecount\u001b[0m\u001b[1;33m(\u001b[0m\u001b[1;33m)\u001b[0m \u001b[1;33m-\u001b[0m \u001b[0meid\u001b[0m\u001b[1;33m\u001b[0m\u001b[1;33m\u001b[0m\u001b[0m\n\u001b[0;32m    378\u001b[0m         \u001b[1;32mif\u001b[0m \u001b[1;33m(\u001b[0m\u001b[0mattributes\u001b[0m \u001b[1;32mis\u001b[0m \u001b[1;32mnot\u001b[0m \u001b[1;32mNone\u001b[0m\u001b[1;33m)\u001b[0m \u001b[1;32mand\u001b[0m \u001b[1;33m(\u001b[0m\u001b[0mn\u001b[0m \u001b[1;33m>\u001b[0m \u001b[1;36m0\u001b[0m\u001b[1;33m)\u001b[0m\u001b[1;33m:\u001b[0m\u001b[1;33m\u001b[0m\u001b[1;33m\u001b[0m\u001b[0m\n",
      "\u001b[1;31mMemoryError\u001b[0m: Error at src/graph/type_indexededgelist.c:307: cannot add edges. -- Out of memory"
     ]
    }
   ],
   "source": [
    "iSampleG = igraph.Graph()\n",
    "\n",
    "iSampleG.add_vertices(sub_asd)\n",
    "iSampleG.add_edges(temp_link_list)"
   ]
  },
  {
   "cell_type": "code",
   "execution_count": null,
   "id": "03b2578d",
   "metadata": {},
   "outputs": [],
   "source": []
  }
 ],
 "metadata": {
  "kernelspec": {
   "display_name": "Python 3 (ipykernel)",
   "language": "python",
   "name": "python3"
  },
  "language_info": {
   "codemirror_mode": {
    "name": "ipython",
    "version": 3
   },
   "file_extension": ".py",
   "mimetype": "text/x-python",
   "name": "python",
   "nbconvert_exporter": "python",
   "pygments_lexer": "ipython3",
   "version": "3.8.8"
  }
 },
 "nbformat": 4,
 "nbformat_minor": 5
}
