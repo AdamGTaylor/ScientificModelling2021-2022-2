{
 "cells": [
  {
   "cell_type": "markdown",
   "id": "ec162bb2",
   "metadata": {},
   "source": [
    "# MTMT társszerző hálózat"
   ]
  },
  {
   "cell_type": "code",
   "execution_count": 1,
   "id": "16c4f87e",
   "metadata": {},
   "outputs": [],
   "source": [
    "import numpy as np\n",
    "import pandas as pd\n",
    "\n",
    "import matplotlib as mpl\n",
    "import matplotlib.pyplot as plt\n",
    "import seaborn as sns\n",
    "\n",
    "import sys\n",
    "import os\n",
    "import pathlib\n",
    "import glob\n",
    "\n",
    "import json"
   ]
  },
  {
   "cell_type": "code",
   "execution_count": 2,
   "id": "e584cf22",
   "metadata": {},
   "outputs": [],
   "source": [
    "file = open(\"data/publication2.json\",\"rt\",encoding=\"utf-8\")\n",
    "data = json.load(file)\n",
    "\n",
    "file.close()"
   ]
  },
  {
   "cell_type": "code",
   "execution_count": 3,
   "id": "818af9f5",
   "metadata": {},
   "outputs": [
    {
     "data": {
      "text/plain": [
       "dict_keys(['labelLang', 'responseDate', 'paging', 'content'])"
      ]
     },
     "execution_count": 3,
     "metadata": {},
     "output_type": "execute_result"
    }
   ],
   "source": [
    "data.keys()"
   ]
  },
  {
   "cell_type": "code",
   "execution_count": 4,
   "id": "9642e6e8",
   "metadata": {
    "scrolled": false
   },
   "outputs": [
    {
     "data": {
      "text/plain": [
       "5000"
      ]
     },
     "execution_count": 4,
     "metadata": {},
     "output_type": "execute_result"
    }
   ],
   "source": [
    "len(data['content'])"
   ]
  },
  {
   "cell_type": "code",
   "execution_count": 5,
   "id": "ea951aec",
   "metadata": {},
   "outputs": [
    {
     "name": "stdout",
     "output_type": "stream",
     "text": [
      "otype\n",
      "mtid\n",
      "status\n",
      "published\n",
      "unhandledTickets\n",
      "deleted\n",
      "lastRefresh\n",
      "lastModified\n",
      "created\n",
      "creator\n",
      "lastDuplumOK\n",
      "lastDuplumSearch\n",
      "validated\n",
      "validator\n",
      "core\n",
      "citation\n",
      "publicationPending\n",
      "type\n",
      "subType\n",
      "category\n",
      "languages\n",
      "firstAuthor\n",
      "authorships\n",
      "title\n",
      "identifiers\n",
      "journal\n",
      "volume\n",
      "issue\n",
      "internalId\n",
      "firstPageOrInternalIdForSort\n",
      "pageLength\n",
      "publishedYear\n",
      "abstractText\n",
      "subjects\n",
      "keywords\n",
      "digital\n",
      "printed\n",
      "sourceYear\n",
      "foreignEdition\n",
      "foreignLanguage\n",
      "fullPublication\n",
      "conferencePublication\n",
      "nationalOrigin\n",
      "missingAuthor\n",
      "oaType\n",
      "oaCheckDate\n",
      "oaFree\n",
      "oaLink\n",
      "citationCount\n",
      "citationCountUnpublished\n",
      "citationCountWoOther\n",
      "independentCitCountWoOther\n",
      "nationalOriginCitationCount\n",
      "foreignEditionCitationCount\n",
      "doiCitationCount\n",
      "wosCitationCount\n",
      "scopusCitationCount\n",
      "wosScopusCitationCount\n",
      "wosScopusCitationCountWoOther\n",
      "wosScopusIndependentCitationCount\n",
      "wosScopusIndependentCitationCountWoOther\n",
      "independentCitationCount\n",
      "selfCitationCount\n",
      "unhandledCitationCount\n",
      "citingPubCount\n",
      "independentCitingPubCount\n",
      "citingPubCountWoOther\n",
      "independentCitingPubCountWoOther\n",
      "unhandledCitingPubCount\n",
      "citedPubCount\n",
      "citedCount\n",
      "ratings\n",
      "ratingsForSort\n",
      "hasCitationDuplums\n",
      "userChangeableUntil\n",
      "directInstitutesForSort\n",
      "ownerAuthorCount\n",
      "ownerInstituteCount\n",
      "directInstituteCount\n",
      "authorCount\n",
      "contributorCount\n",
      "hasQualityFactor\n",
      "link\n",
      "label\n",
      "template\n",
      "template2\n"
     ]
    }
   ],
   "source": [
    "for i in data['content'][0].keys():\n",
    "    print(i)"
   ]
  },
  {
   "cell_type": "code",
   "execution_count": 7,
   "id": "559facd6",
   "metadata": {},
   "outputs": [
    {
     "name": "stdout",
     "output_type": "stream",
     "text": [
      "5000\n"
     ]
    }
   ],
   "source": [
    "print(len(data['content']))"
   ]
  },
  {
   "cell_type": "code",
   "execution_count": 14,
   "id": "356ebaf9",
   "metadata": {
    "scrolled": false
   },
   "outputs": [
    {
     "data": {
      "text/plain": [
       "'Aad G et al. Search for exotic decays of the Higgs boson into long-lived particles in pp collisions at root s=13 TeV using displaced vertices in the ATLAS inner detector. (2021) JOURNAL OF HIGH ENERGY PHYSICS 1126-6708 1029-8479 2021 11'"
      ]
     },
     "execution_count": 14,
     "metadata": {},
     "output_type": "execute_result"
    }
   ],
   "source": [
    "data['content'][0]['label']"
   ]
  },
  {
   "cell_type": "code",
   "execution_count": 15,
   "id": "6276a1ae",
   "metadata": {},
   "outputs": [
    {
     "data": {
      "text/plain": [
       "{'last': True,\n",
       " 'first': True,\n",
       " 'totalPages': 1,\n",
       " 'totalElements': 5000,\n",
       " 'totalEstimatedElements': 110000,\n",
       " 'size': 5000,\n",
       " 'number': 1,\n",
       " 'numberOfElements': 5000,\n",
       " 'sort': [{'direction': 'DESC',\n",
       "   'property': 'publishedYear',\n",
       "   'ascending': False},\n",
       "  {'direction': 'ASC', 'property': 'firstAuthor', 'ascending': True}]}"
      ]
     },
     "execution_count": 15,
     "metadata": {},
     "output_type": "execute_result"
    }
   ],
   "source": [
    "data['paging']"
   ]
  },
  {
   "cell_type": "code",
   "execution_count": 16,
   "id": "a351e232",
   "metadata": {},
   "outputs": [
    {
     "data": {
      "text/plain": [
       "22.0"
      ]
     },
     "execution_count": 16,
     "metadata": {},
     "output_type": "execute_result"
    }
   ],
   "source": [
    "110000/5000"
   ]
  },
  {
   "cell_type": "code",
   "execution_count": 24,
   "id": "5d9596cc",
   "metadata": {},
   "outputs": [],
   "source": [
    "sub_mem = []\n",
    "for i in range(len(data['content'])):\n",
    "    sub_mem.append(len(data['content'][i]['authorships']))\n",
    "sub_mem = np.array(sub_mem)"
   ]
  },
  {
   "cell_type": "code",
   "execution_count": 27,
   "id": "f0258e7d",
   "metadata": {},
   "outputs": [
    {
     "name": "stdout",
     "output_type": "stream",
     "text": [
      "19.9854 +/- 187.9649701057088\n"
     ]
    }
   ],
   "source": [
    "print(np.mean(sub_mem), \"+/-\", np.var(sub_mem)**(1/2))"
   ]
  },
  {
   "cell_type": "code",
   "execution_count": 33,
   "id": "e8010782",
   "metadata": {},
   "outputs": [
    {
     "data": {
      "image/png": "[encoded data removed]",
      "text/plain": [
       "<Figure size 1008x504 with 1 Axes>"
      ]
     },
     "metadata": {
      "needs_background": "light"
     },
     "output_type": "display_data"
    }
   ],
   "source": [
    "plt.figure(figsize=(14,7))\n",
    "\n",
    "plt.hist(sub_mem, bins=101)\n",
    "#plt.xscale(\"log\")\n",
    "plt.yscale(\"log\")\n",
    "plt.show()"
   ]
  },
  {
   "cell_type": "code",
   "execution_count": null,
   "id": "cd05eaab",
   "metadata": {},
   "outputs": [],
   "source": []
  }
 ],
 "metadata": {
  "kernelspec": {
   "display_name": "Python 3 (ipykernel)",
   "language": "python",
   "name": "python3"
  },
  "language_info": {
   "codemirror_mode": {
    "name": "ipython",
    "version": 3
   },
   "file_extension": ".py",
   "mimetype": "text/x-python",
   "name": "python",
   "nbconvert_exporter": "python",
   "pygments_lexer": "ipython3",
   "version": "3.8.8"
  }
 },
 "nbformat": 4,
 "nbformat_minor": 5
}
