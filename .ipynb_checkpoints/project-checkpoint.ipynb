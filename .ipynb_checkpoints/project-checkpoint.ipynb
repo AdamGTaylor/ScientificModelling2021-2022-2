{
 "cells": [
  {
   "cell_type": "markdown",
   "id": "ec162bb2",
   "metadata": {},
   "source": [
    "# MTMT partnership Network"
   ]
  },
  {
   "cell_type": "code",
   "execution_count": 38,
   "id": "16c4f87e",
   "metadata": {},
   "outputs": [],
   "source": [
    "import numpy as np\n",
    "import pandas as pd\n",
    "\n",
    "import matplotlib as mpl\n",
    "import matplotlib.pyplot as plt\n",
    "import seaborn as sns\n",
    "\n",
    "import sys\n",
    "import os\n",
    "import pathlib\n",
    "import glob\n",
    "\n",
    "import json\n",
    "\n",
    "import networkx as nx"
   ]
  },
  {
   "cell_type": "code",
   "execution_count": 226,
   "id": "e584cf22",
   "metadata": {},
   "outputs": [],
   "source": [
    "file = open(\"data/publication2.json\",\"rt\",encoding=\"utf-8\")\n",
    "data = json.load(file)\n",
    "\n",
    "file.close()"
   ]
  },
  {
   "cell_type": "code",
   "execution_count": 3,
   "id": "818af9f5",
   "metadata": {},
   "outputs": [
    {
     "data": {
      "text/plain": [
       "dict_keys(['labelLang', 'responseDate', 'paging', 'content'])"
      ]
     },
     "execution_count": 3,
     "metadata": {},
     "output_type": "execute_result"
    }
   ],
   "source": [
    "data.keys()"
   ]
  },
  {
   "cell_type": "code",
   "execution_count": 4,
   "id": "9642e6e8",
   "metadata": {
    "scrolled": false
   },
   "outputs": [
    {
     "data": {
      "text/plain": [
       "5000"
      ]
     },
     "execution_count": 4,
     "metadata": {},
     "output_type": "execute_result"
    }
   ],
   "source": [
    "len(data['content'])"
   ]
  },
  {
   "cell_type": "code",
   "execution_count": 5,
   "id": "ea951aec",
   "metadata": {},
   "outputs": [
    {
     "name": "stdout",
     "output_type": "stream",
     "text": [
      "otype\n",
      "mtid\n",
      "status\n",
      "published\n",
      "unhandledTickets\n",
      "deleted\n",
      "lastRefresh\n",
      "lastModified\n",
      "created\n",
      "creator\n",
      "lastDuplumOK\n",
      "lastDuplumSearch\n",
      "validated\n",
      "validator\n",
      "core\n",
      "citation\n",
      "publicationPending\n",
      "type\n",
      "subType\n",
      "category\n",
      "languages\n",
      "firstAuthor\n",
      "authorships\n",
      "title\n",
      "identifiers\n",
      "journal\n",
      "volume\n",
      "issue\n",
      "internalId\n",
      "firstPageOrInternalIdForSort\n",
      "pageLength\n",
      "publishedYear\n",
      "abstractText\n",
      "subjects\n",
      "keywords\n",
      "digital\n",
      "printed\n",
      "sourceYear\n",
      "foreignEdition\n",
      "foreignLanguage\n",
      "fullPublication\n",
      "conferencePublication\n",
      "nationalOrigin\n",
      "missingAuthor\n",
      "oaType\n",
      "oaCheckDate\n",
      "oaFree\n",
      "oaLink\n",
      "citationCount\n",
      "citationCountUnpublished\n",
      "citationCountWoOther\n",
      "independentCitCountWoOther\n",
      "nationalOriginCitationCount\n",
      "foreignEditionCitationCount\n",
      "doiCitationCount\n",
      "wosCitationCount\n",
      "scopusCitationCount\n",
      "wosScopusCitationCount\n",
      "wosScopusCitationCountWoOther\n",
      "wosScopusIndependentCitationCount\n",
      "wosScopusIndependentCitationCountWoOther\n",
      "independentCitationCount\n",
      "selfCitationCount\n",
      "unhandledCitationCount\n",
      "citingPubCount\n",
      "independentCitingPubCount\n",
      "citingPubCountWoOther\n",
      "independentCitingPubCountWoOther\n",
      "unhandledCitingPubCount\n",
      "citedPubCount\n",
      "citedCount\n",
      "ratings\n",
      "ratingsForSort\n",
      "hasCitationDuplums\n",
      "userChangeableUntil\n",
      "directInstitutesForSort\n",
      "ownerAuthorCount\n",
      "ownerInstituteCount\n",
      "directInstituteCount\n",
      "authorCount\n",
      "contributorCount\n",
      "hasQualityFactor\n",
      "link\n",
      "label\n",
      "template\n",
      "template2\n"
     ]
    }
   ],
   "source": [
    "for i in data['content'][0].keys():\n",
    "    print(i)"
   ]
  },
  {
   "cell_type": "code",
   "execution_count": 7,
   "id": "f07c766b",
   "metadata": {},
   "outputs": [
    {
     "name": "stdout",
     "output_type": "stream",
     "text": [
      "5000\n"
     ]
    }
   ],
   "source": [
    "print(len(data['content']))"
   ]
  },
  {
   "cell_type": "code",
   "execution_count": 14,
   "id": "356ebaf9",
   "metadata": {
    "scrolled": false
   },
   "outputs": [
    {
     "data": {
      "text/plain": [
       "'Aad G et al. Search for exotic decays of the Higgs boson into long-lived particles in pp collisions at root s=13 TeV using displaced vertices in the ATLAS inner detector. (2021) JOURNAL OF HIGH ENERGY PHYSICS 1126-6708 1029-8479 2021 11'"
      ]
     },
     "execution_count": 14,
     "metadata": {},
     "output_type": "execute_result"
    }
   ],
   "source": [
    "data['content'][0]['label']"
   ]
  },
  {
   "cell_type": "code",
   "execution_count": 57,
   "id": "06ad3f24",
   "metadata": {},
   "outputs": [
    {
     "data": {
      "text/plain": [
       "True"
      ]
     },
     "execution_count": 57,
     "metadata": {},
     "output_type": "execute_result"
    }
   ],
   "source": [
    "data['content'][0]['published']"
   ]
  },
  {
   "cell_type": "code",
   "execution_count": 53,
   "id": "593b3891",
   "metadata": {},
   "outputs": [
    {
     "data": {
      "text/plain": [
       "dict_keys(['otype', 'mtid', 'status', 'published', 'unhandledTickets', 'deleted', 'lastRefresh', 'lastModified', 'created', 'creator', 'lastDuplumOK', 'lastDuplumSearch', 'validated', 'validator', 'core', 'citation', 'publicationPending', 'type', 'subType', 'category', 'languages', 'firstAuthor', 'authorships', 'title', 'identifiers', 'journal', 'volume', 'issue', 'internalId', 'firstPageOrInternalIdForSort', 'pageLength', 'publishedYear', 'abstractText', 'subjects', 'keywords', 'digital', 'printed', 'sourceYear', 'foreignEdition', 'foreignLanguage', 'fullPublication', 'conferencePublication', 'nationalOrigin', 'missingAuthor', 'oaType', 'oaCheckDate', 'oaFree', 'oaLink', 'citationCount', 'citationCountUnpublished', 'citationCountWoOther', 'independentCitCountWoOther', 'nationalOriginCitationCount', 'foreignEditionCitationCount', 'doiCitationCount', 'wosCitationCount', 'scopusCitationCount', 'wosScopusCitationCount', 'wosScopusCitationCountWoOther', 'wosScopusIndependentCitationCount', 'wosScopusIndependentCitationCountWoOther', 'independentCitationCount', 'selfCitationCount', 'unhandledCitationCount', 'citingPubCount', 'independentCitingPubCount', 'citingPubCountWoOther', 'independentCitingPubCountWoOther', 'unhandledCitingPubCount', 'citedPubCount', 'citedCount', 'ratings', 'ratingsForSort', 'hasCitationDuplums', 'userChangeableUntil', 'directInstitutesForSort', 'ownerAuthorCount', 'ownerInstituteCount', 'directInstituteCount', 'authorCount', 'contributorCount', 'hasQualityFactor', 'link', 'label', 'template', 'template2'])"
      ]
     },
     "execution_count": 53,
     "metadata": {},
     "output_type": "execute_result"
    }
   ],
   "source": [
    "data['content'][0].keys()"
   ]
  },
  {
   "cell_type": "code",
   "execution_count": 81,
   "id": "f8c3a35e",
   "metadata": {},
   "outputs": [
    {
     "data": {
      "text/plain": [
       "'Search for exotic decays of the Higgs boson into long-lived particles in pp collisions at root s=13 TeV using displaced vertices in the ATLAS inner detector'"
      ]
     },
     "execution_count": 81,
     "metadata": {},
     "output_type": "execute_result"
    }
   ],
   "source": [
    "data['content'][0]['title']"
   ]
  },
  {
   "cell_type": "code",
   "execution_count": 47,
   "id": "bca66690",
   "metadata": {},
   "outputs": [
    {
     "data": {
      "text/plain": [
       "'2022-02-17 13:33'"
      ]
     },
     "execution_count": 47,
     "metadata": {},
     "output_type": "execute_result"
    }
   ],
   "source": [
    "data['responseDate']"
   ]
  },
  {
   "cell_type": "code",
   "execution_count": 15,
   "id": "6276a1ae",
   "metadata": {},
   "outputs": [
    {
     "data": {
      "text/plain": [
       "{'last': True,\n",
       " 'first': True,\n",
       " 'totalPages': 1,\n",
       " 'totalElements': 5000,\n",
       " 'totalEstimatedElements': 110000,\n",
       " 'size': 5000,\n",
       " 'number': 1,\n",
       " 'numberOfElements': 5000,\n",
       " 'sort': [{'direction': 'DESC',\n",
       "   'property': 'publishedYear',\n",
       "   'ascending': False},\n",
       "  {'direction': 'ASC', 'property': 'firstAuthor', 'ascending': True}]}"
      ]
     },
     "execution_count": 15,
     "metadata": {},
     "output_type": "execute_result"
    }
   ],
   "source": [
    "data['paging']"
   ]
  },
  {
   "cell_type": "code",
   "execution_count": 86,
   "id": "7a1711bd",
   "metadata": {},
   "outputs": [
    {
     "name": "stdout",
     "output_type": "stream",
     "text": [
      "99807928\n",
      "G\n",
      "Aad\n",
      "Aad, G\n"
     ]
    }
   ],
   "source": [
    "print(data['content'][0]['authorships'][0]['mtid'])\n",
    "print(data['content'][0]['authorships'][0]['givenName'])\n",
    "print(data['content'][0]['authorships'][0]['familyName'])\n",
    "print(data['content'][0]['authorships'][0]['label'])"
   ]
  },
  {
   "cell_type": "code",
   "execution_count": 96,
   "id": "2fa9895c",
   "metadata": {},
   "outputs": [
    {
     "data": {
      "text/plain": [
       "{'otype': 'PersonAuthorship',\n",
       " 'mtid': 95886196,\n",
       " 'link': '/api/authorship/95886196',\n",
       " 'label': 'Abdullah, S. Alshammari ✉ [Alshammari, Abdullah Saber (Educational science), szerző] Neveléstudományi Doktori Iskola (SZTE / DI)',\n",
       " 'listPosition': 1,\n",
       " 'share': 0.33333334,\n",
       " 'first': True,\n",
       " 'last': False,\n",
       " 'corresponding': True,\n",
       " 'author': {'otype': 'Author',\n",
       "  'mtid': 10064710,\n",
       "  'link': '/api/author/10064710',\n",
       "  'label': 'Alshammari Abdullah Saber (Educational science)',\n",
       "  'familyName': 'Alshammari',\n",
       "  'givenName': 'Abdullah Saber',\n",
       "  'published': True,\n",
       "  'oldId': 10064710,\n",
       "  'snippet': True},\n",
       " 'familyName': 'Abdullah',\n",
       " 'givenName': 'S. Alshammari',\n",
       " 'authorTyped': True,\n",
       " 'editorTyped': False,\n",
       " 'otherTyped': False,\n",
       " 'type': {'otype': 'AuthorshipType',\n",
       "  'mtid': 1,\n",
       "  'link': '/api/authorshiptype/1',\n",
       "  'label': 'Szerző',\n",
       "  'code': 0,\n",
       "  'published': True,\n",
       "  'oldId': 0,\n",
       "  'snippet': True},\n",
       " 'published': False,\n",
       " 'snippet': True}"
      ]
     },
     "execution_count": 96,
     "metadata": {},
     "output_type": "execute_result"
    }
   ],
   "source": [
    "data['content'][34]['authorships'][0]"
   ]
  },
  {
   "cell_type": "code",
   "execution_count": 97,
   "id": "1834648b",
   "metadata": {},
   "outputs": [
    {
     "data": {
      "text/plain": [
       "{'otype': 'PersonAuthorship',\n",
       " 'mtid': 99807928,\n",
       " 'link': '/api/authorship/99807928',\n",
       " 'label': 'Aad, G',\n",
       " 'listPosition': 1,\n",
       " 'share': 0.0,\n",
       " 'first': True,\n",
       " 'last': False,\n",
       " 'corresponding': False,\n",
       " 'familyName': 'Aad',\n",
       " 'givenName': 'G',\n",
       " 'authorTyped': True,\n",
       " 'editorTyped': False,\n",
       " 'otherTyped': False,\n",
       " 'type': {'otype': 'AuthorshipType',\n",
       "  'mtid': 1,\n",
       "  'link': '/api/authorshiptype/1',\n",
       "  'label': 'Szerző',\n",
       "  'code': 0,\n",
       "  'published': True,\n",
       "  'oldId': 0,\n",
       "  'snippet': True},\n",
       " 'published': False,\n",
       " 'snippet': True}"
      ]
     },
     "execution_count": 97,
     "metadata": {},
     "output_type": "execute_result"
    }
   ],
   "source": [
    "data['content'][0]['authorships'][0]"
   ]
  },
  {
   "cell_type": "code",
   "execution_count": 145,
   "id": "69d94779",
   "metadata": {},
   "outputs": [],
   "source": [
    "temp_mem = []\n",
    "\n",
    "for i in range(len(data['content'][0]['authorships'])):\n",
    "    temp_mem.append(data['content'][0]['authorships'][i]['share'])"
   ]
  },
  {
   "cell_type": "code",
   "execution_count": 147,
   "id": "9041b487",
   "metadata": {},
   "outputs": [
    {
     "data": {
      "text/plain": [
       "array([0.])"
      ]
     },
     "execution_count": 147,
     "metadata": {},
     "output_type": "execute_result"
    }
   ],
   "source": [
    "np.unique(temp_mem)"
   ]
  },
  {
   "cell_type": "markdown",
   "id": "7cb22c95",
   "metadata": {},
   "source": [
    "They are rather inconsistent in how well these object are defined."
   ]
  },
  {
   "cell_type": "code",
   "execution_count": 16,
   "id": "d0988bbe",
   "metadata": {},
   "outputs": [
    {
     "data": {
      "text/plain": [
       "22.0"
      ]
     },
     "execution_count": 16,
     "metadata": {},
     "output_type": "execute_result"
    }
   ],
   "source": [
    "110000/5000"
   ]
  },
  {
   "cell_type": "code",
   "execution_count": 24,
   "id": "5405d54b",
   "metadata": {},
   "outputs": [],
   "source": [
    "sub_mem = []\n",
    "for i in range(len(data['content'])):\n",
    "    sub_mem.append(len(data['content'][i]['authorships']))\n",
    "sub_mem = np.array(sub_mem)"
   ]
  },
  {
   "cell_type": "code",
   "execution_count": 27,
   "id": "0b8f4a13",
   "metadata": {},
   "outputs": [
    {
     "name": "stdout",
     "output_type": "stream",
     "text": [
      "19.9854 +/- 187.9649701057088\n"
     ]
    }
   ],
   "source": [
    "print(np.mean(sub_mem), \"+/-\", np.var(sub_mem)**(1/2))"
   ]
  },
  {
   "cell_type": "code",
   "execution_count": 71,
   "id": "24a14eab",
   "metadata": {},
   "outputs": [
    {
     "data": {
      "image/png": "[encoded data removed]",
      "text/plain": [
       "<Figure size 1008x504 with 1 Axes>"
      ]
     },
     "metadata": {
      "needs_background": "light"
     },
     "output_type": "display_data"
    }
   ],
   "source": [
    "plt.figure(figsize=(14,7))\n",
    "\n",
    "plt.title(\"Distribution of Number of Authors per Paper \\nFrom Most Recent 5000 papers\", fontsize=24)\n",
    "\n",
    "plt.hist(sub_mem, bins=101)\n",
    "\n",
    "plt.xlabel(\"Number of Authors\", fontsize=20)\n",
    "plt.ylabel(\"Occurence\", fontsize=20)\n",
    "plt.tick_params(labelsize=18,axis=\"both\",size=17)\n",
    "\n",
    "plt.yscale(\"log\")\n",
    "plt.grid(linestyle=\"--\")\n",
    "\n",
    "plt.savefig(\"figs/dist_from_5000sample.pdf\",format=\"pdf\",bbox_inches=\"tight\")\n",
    "plt.show()"
   ]
  },
  {
   "cell_type": "markdown",
   "id": "c990e6ef",
   "metadata": {},
   "source": [
    "## How to store tables?\n",
    "\n",
    "How should i store the linklist and the decoding?\n",
    "\n",
    "| startNode | endNode | time |\n",
    "| --- | --- | --- |\n",
    "| author1.mtid | author2.mtid | yearOfpublication |\n",
    "| author1.mtid | author3.mtid | yearOfpublication |\n",
    "| ... | ... | ... |\n",
    "\n",
    "This template may work, but its not good if the `mtid` is not unique to a given author -> might need to test this!\n",
    "\n",
    "For the decoding table, the given table should be sufficient:\n",
    "\n",
    "| mtid | Name |\n",
    "| --- | --- |\n",
    "| 1212211 | Adam G. Taylor |\n",
    "| ... | ... |"
   ]
  },
  {
   "cell_type": "code",
   "execution_count": null,
   "id": "7ba41077",
   "metadata": {},
   "outputs": [],
   "source": [
    "data_test_links = []\n"
   ]
  },
  {
   "cell_type": "code",
   "execution_count": 253,
   "id": "0ed2098e",
   "metadata": {},
   "outputs": [],
   "source": [
    "temp_mem = []\n",
    "count = 0\n",
    "for i in range(len(data['content'])):\n",
    "    for j in range(len(data['content'][i]['authorships'])):\n",
    "        if (data['content'][i]['authorships'][j]['otype'] == 'PersonAuthorship'):\n",
    "            string_to_add = '' \n",
    "            if 'givenName' in data['content'][i]['authorships'][j]:\n",
    "                string_to_add += str(data['content'][i]['authorships'][j]['givenName']) + ' '\n",
    "            if 'familyName' in data['content'][i]['authorships'][j]:\n",
    "                string_to_add += str(data['content'][i]['authorships'][j]['familyName']) + ', '\n",
    "            string_to_add += str(data['content'][i]['publishedYear'])\n",
    "            temp_mem.append(string_to_add)\n",
    "\n",
    "temp_mem2 = []\n",
    "for i in range(len(data['content'])):\n",
    "    for j in range(len(data['content'][i]['authorships'])):\n",
    "        if (data['content'][i]['authorships'][j]['otype'] == 'PersonAuthorship'):\n",
    "            string_to_add = '' \n",
    "            if 'mtid' in data['content'][i]['authorships'][j]:\n",
    "                string_to_add += str(data['content'][i]['authorships'][j]['mtid']) + ' '\n",
    "            temp_mem2.append(string_to_add)"
   ]
  },
  {
   "cell_type": "code",
   "execution_count": 248,
   "id": "62f9673b",
   "metadata": {},
   "outputs": [
    {
     "data": {
      "text/plain": [
       "(32220, 99838)"
      ]
     },
     "execution_count": 248,
     "metadata": {},
     "output_type": "execute_result"
    }
   ],
   "source": [
    "len(np.unique(temp_mem)), len(temp_mem)"
   ]
  },
  {
   "cell_type": "code",
   "execution_count": 252,
   "id": "0f4f1277",
   "metadata": {},
   "outputs": [
    {
     "data": {
      "text/plain": [
       "(array([ 1,  2,  3,  4,  5,  6,  7,  8,  9, 10, 11, 12, 13, 14, 15, 16, 17,\n",
       "        18, 19, 20, 21, 22, 23, 24, 25, 27, 28, 29, 30, 31, 32, 35, 36, 42,\n",
       "        43, 48, 54, 83], dtype=int64),\n",
       " array([16833,  4953,  2245,  2794,   276,   524,   368,  1332,   184,\n",
       "          145,   756,   112,    43,  1530,    34,    20,     6,     3,\n",
       "            5,     4,     4,    11,     2,     4,     5,     1,     9,\n",
       "            1,     2,     4,     2,     1,     2,     1,     1,     1,\n",
       "            1,     1], dtype=int64))"
      ]
     },
     "execution_count": 252,
     "metadata": {},
     "output_type": "execute_result"
    }
   ],
   "source": [
    "_,app_count = np.unique(temp_mem, return_counts=True)\n",
    "np.unique(app_count, return_counts=True)"
   ]
  },
  {
   "cell_type": "code",
   "execution_count": 255,
   "id": "b41c3a27",
   "metadata": {},
   "outputs": [
    {
     "data": {
      "text/plain": [
       "(array([1], dtype=int64), array([99838], dtype=int64))"
      ]
     },
     "execution_count": 255,
     "metadata": {},
     "output_type": "execute_result"
    }
   ],
   "source": [
    "_,app_count = np.unique(temp_mem2, return_counts=True)\n",
    "np.unique(app_count, return_counts=True)"
   ]
  },
  {
   "cell_type": "markdown",
   "id": "f9b371a6",
   "metadata": {},
   "source": [
    "Sooooo, `mtid` is unique to the creation of such object...\n",
    "\n",
    "Old trick: use their name as a source for the uuid to hide their identity, while it is deterministic. The logic of choosing a uuid will be hidden though."
   ]
  },
  {
   "cell_type": "code",
   "execution_count": 257,
   "id": "427ebf5e",
   "metadata": {},
   "outputs": [
    {
     "data": {
      "text/plain": [
       "{'otype': 'PersonAuthorship',\n",
       " 'mtid': 99807928,\n",
       " 'link': '/api/authorship/99807928',\n",
       " 'label': 'Aad, G',\n",
       " 'listPosition': 1,\n",
       " 'share': 0.0,\n",
       " 'first': True,\n",
       " 'last': False,\n",
       " 'corresponding': False,\n",
       " 'familyName': 'Aad',\n",
       " 'givenName': 'G',\n",
       " 'authorTyped': True,\n",
       " 'editorTyped': False,\n",
       " 'otherTyped': False,\n",
       " 'type': {'otype': 'AuthorshipType',\n",
       "  'mtid': 1,\n",
       "  'link': '/api/authorshiptype/1',\n",
       "  'label': 'Szerző',\n",
       "  'code': 0,\n",
       "  'published': True,\n",
       "  'oldId': 0,\n",
       "  'snippet': True},\n",
       " 'published': False,\n",
       " 'snippet': True}"
      ]
     },
     "execution_count": 257,
     "metadata": {},
     "output_type": "execute_result"
    }
   ],
   "source": [
    "data['content'][0]['authorships'][0]"
   ]
  },
  {
   "cell_type": "markdown",
   "id": "8bdd31c5",
   "metadata": {},
   "source": [
    "# Network Objects\n",
    "\n",
    "Networkx for the win! I used it a couple of times, but rarely, meaning that I need a quic recap for it.\n",
    "\n",
    "## Test Network initialized"
   ]
  },
  {
   "cell_type": "code",
   "execution_count": 79,
   "id": "857f2b68",
   "metadata": {},
   "outputs": [],
   "source": [
    "test_graph = nx.Graph()\n",
    "\n",
    "test_links = np.array([[1,2],\n",
    "                       [2,3],\n",
    "                       [1,3],\n",
    "                       [4,4],\n",
    "                      [5,5],\n",
    "                      [6,6]])\n",
    "\n",
    "test_graph.add_edges_from(test_links)"
   ]
  },
  {
   "cell_type": "code",
   "execution_count": 80,
   "id": "2b3e7025",
   "metadata": {},
   "outputs": [
    {
     "data": {
      "image/png": "[encoded data removed]",
      "text/plain": [
       "<Figure size 504x504 with 1 Axes>"
      ]
     },
     "metadata": {},
     "output_type": "display_data"
    }
   ],
   "source": [
    "#test plot \n",
    "fig = plt.figure(figsize=(7,7))\n",
    "\n",
    "plt.title(\"Test Network: Test plot\", fontsize=22)\n",
    "\n",
    "pos = nx.spring_layout(test_graph)\n",
    "\n",
    "nx.draw_networkx_nodes(test_graph,\n",
    "                      pos,\n",
    "                      nodelist = np.array(test_graph.nodes)\n",
    "                      )\n",
    "\n",
    "nx.draw_networkx_edges(test_graph,\n",
    "                      pos,\n",
    "                      width=0.5,\n",
    "                      edge_color='r',\n",
    "                      arrows=False)\n",
    "fig.tight_layout()\n",
    "\n",
    "plt.show()"
   ]
  },
  {
   "cell_type": "markdown",
   "id": "82c0b188",
   "metadata": {},
   "source": [
    "So I could, in theory, contain all authors from all publications, but seems **unnecessary**."
   ]
  },
  {
   "cell_type": "code",
   "execution_count": null,
   "id": "c7744b14",
   "metadata": {},
   "outputs": [],
   "source": []
  }
 ],
 "metadata": {
  "kernelspec": {
   "display_name": "Python 3 (ipykernel)",
   "language": "python",
   "name": "python3"
  },
  "language_info": {
   "codemirror_mode": {
    "name": "ipython",
    "version": 3
   },
   "file_extension": ".py",
   "mimetype": "text/x-python",
   "name": "python",
   "nbconvert_exporter": "python",
   "pygments_lexer": "ipython3",
   "version": "3.8.8"
  }
 },
 "nbformat": 4,
 "nbformat_minor": 5
}
