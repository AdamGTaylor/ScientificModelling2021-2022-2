{
 "cells": [
  {
   "cell_type": "markdown",
   "id": "ec162bb2",
   "metadata": {},
   "source": [
    "# MTMT co-authorship Network"
   ]
  },
  {
   "cell_type": "code",
   "execution_count": 30,
   "id": "16c4f87e",
   "metadata": {},
   "outputs": [],
   "source": [
    "import numpy as np\n",
    "import pandas as pd\n",
    "\n",
    "import matplotlib as mpl\n",
    "import matplotlib.pyplot as plt\n",
    "import seaborn as sns\n",
    "\n",
    "import sys\n",
    "import os\n",
    "import pathlib\n",
    "import glob\n",
    "\n",
    "import json\n",
    "\n",
    "import networkx as nx\n",
    "\n",
    "import re\n",
    "import uuid"
   ]
  },
  {
   "cell_type": "code",
   "execution_count": 2,
   "id": "e584cf22",
   "metadata": {},
   "outputs": [],
   "source": [
    "file = open(\"data/publication2.json\",\"rt\",encoding=\"utf-8\")\n",
    "data = json.load(file)\n",
    "\n",
    "file.close()"
   ]
  },
  {
   "cell_type": "code",
   "execution_count": 3,
   "id": "818af9f5",
   "metadata": {},
   "outputs": [
    {
     "data": {
      "text/plain": [
       "dict_keys(['labelLang', 'responseDate', 'paging', 'content'])"
      ]
     },
     "execution_count": 3,
     "metadata": {},
     "output_type": "execute_result"
    }
   ],
   "source": [
    "data.keys()"
   ]
  },
  {
   "cell_type": "code",
   "execution_count": 4,
   "id": "9642e6e8",
   "metadata": {
    "scrolled": false
   },
   "outputs": [
    {
     "data": {
      "text/plain": [
       "5000"
      ]
     },
     "execution_count": 4,
     "metadata": {},
     "output_type": "execute_result"
    }
   ],
   "source": [
    "len(data['content'])"
   ]
  },
  {
   "cell_type": "code",
   "execution_count": 5,
   "id": "ea951aec",
   "metadata": {},
   "outputs": [
    {
     "name": "stdout",
     "output_type": "stream",
     "text": [
      "otype\n",
      "mtid\n",
      "status\n",
      "published\n",
      "unhandledTickets\n",
      "deleted\n",
      "lastRefresh\n",
      "lastModified\n",
      "created\n",
      "creator\n",
      "lastDuplumOK\n",
      "lastDuplumSearch\n",
      "validated\n",
      "validator\n",
      "core\n",
      "citation\n",
      "publicationPending\n",
      "type\n",
      "subType\n",
      "category\n",
      "languages\n",
      "firstAuthor\n",
      "authorships\n",
      "title\n",
      "identifiers\n",
      "journal\n",
      "volume\n",
      "issue\n",
      "internalId\n",
      "firstPageOrInternalIdForSort\n",
      "pageLength\n",
      "publishedYear\n",
      "abstractText\n",
      "subjects\n",
      "keywords\n",
      "digital\n",
      "printed\n",
      "sourceYear\n",
      "foreignEdition\n",
      "foreignLanguage\n",
      "fullPublication\n",
      "conferencePublication\n",
      "nationalOrigin\n",
      "missingAuthor\n",
      "oaType\n",
      "oaCheckDate\n",
      "oaFree\n",
      "oaLink\n",
      "citationCount\n",
      "citationCountUnpublished\n",
      "citationCountWoOther\n",
      "independentCitCountWoOther\n",
      "nationalOriginCitationCount\n",
      "foreignEditionCitationCount\n",
      "doiCitationCount\n",
      "wosCitationCount\n",
      "scopusCitationCount\n",
      "wosScopusCitationCount\n",
      "wosScopusCitationCountWoOther\n",
      "wosScopusIndependentCitationCount\n",
      "wosScopusIndependentCitationCountWoOther\n",
      "independentCitationCount\n",
      "selfCitationCount\n",
      "unhandledCitationCount\n",
      "citingPubCount\n",
      "independentCitingPubCount\n",
      "citingPubCountWoOther\n",
      "independentCitingPubCountWoOther\n",
      "unhandledCitingPubCount\n",
      "citedPubCount\n",
      "citedCount\n",
      "ratings\n",
      "ratingsForSort\n",
      "hasCitationDuplums\n",
      "userChangeableUntil\n",
      "directInstitutesForSort\n",
      "ownerAuthorCount\n",
      "ownerInstituteCount\n",
      "directInstituteCount\n",
      "authorCount\n",
      "contributorCount\n",
      "hasQualityFactor\n",
      "link\n",
      "label\n",
      "template\n",
      "template2\n"
     ]
    }
   ],
   "source": [
    "for i in data['content'][0].keys():\n",
    "    print(i)"
   ]
  },
  {
   "cell_type": "code",
   "execution_count": 6,
   "id": "f07c766b",
   "metadata": {},
   "outputs": [
    {
     "name": "stdout",
     "output_type": "stream",
     "text": [
      "5000\n"
     ]
    }
   ],
   "source": [
    "print(len(data['content']))"
   ]
  },
  {
   "cell_type": "code",
   "execution_count": 7,
   "id": "356ebaf9",
   "metadata": {
    "scrolled": false
   },
   "outputs": [
    {
     "data": {
      "text/plain": [
       "'Aad G et al. Search for exotic decays of the Higgs boson into long-lived particles in pp collisions at root s=13 TeV using displaced vertices in the ATLAS inner detector. (2021) JOURNAL OF HIGH ENERGY PHYSICS 1126-6708 1029-8479 2021 11'"
      ]
     },
     "execution_count": 7,
     "metadata": {},
     "output_type": "execute_result"
    }
   ],
   "source": [
    "data['content'][0]['label']"
   ]
  },
  {
   "cell_type": "code",
   "execution_count": 8,
   "id": "06ad3f24",
   "metadata": {},
   "outputs": [
    {
     "data": {
      "text/plain": [
       "True"
      ]
     },
     "execution_count": 8,
     "metadata": {},
     "output_type": "execute_result"
    }
   ],
   "source": [
    "data['content'][0]['published']"
   ]
  },
  {
   "cell_type": "code",
   "execution_count": 9,
   "id": "593b3891",
   "metadata": {},
   "outputs": [
    {
     "data": {
      "text/plain": [
       "dict_keys(['otype', 'mtid', 'status', 'published', 'unhandledTickets', 'deleted', 'lastRefresh', 'lastModified', 'created', 'creator', 'lastDuplumOK', 'lastDuplumSearch', 'validated', 'validator', 'core', 'citation', 'publicationPending', 'type', 'subType', 'category', 'languages', 'firstAuthor', 'authorships', 'title', 'identifiers', 'journal', 'volume', 'issue', 'internalId', 'firstPageOrInternalIdForSort', 'pageLength', 'publishedYear', 'abstractText', 'subjects', 'keywords', 'digital', 'printed', 'sourceYear', 'foreignEdition', 'foreignLanguage', 'fullPublication', 'conferencePublication', 'nationalOrigin', 'missingAuthor', 'oaType', 'oaCheckDate', 'oaFree', 'oaLink', 'citationCount', 'citationCountUnpublished', 'citationCountWoOther', 'independentCitCountWoOther', 'nationalOriginCitationCount', 'foreignEditionCitationCount', 'doiCitationCount', 'wosCitationCount', 'scopusCitationCount', 'wosScopusCitationCount', 'wosScopusCitationCountWoOther', 'wosScopusIndependentCitationCount', 'wosScopusIndependentCitationCountWoOther', 'independentCitationCount', 'selfCitationCount', 'unhandledCitationCount', 'citingPubCount', 'independentCitingPubCount', 'citingPubCountWoOther', 'independentCitingPubCountWoOther', 'unhandledCitingPubCount', 'citedPubCount', 'citedCount', 'ratings', 'ratingsForSort', 'hasCitationDuplums', 'userChangeableUntil', 'directInstitutesForSort', 'ownerAuthorCount', 'ownerInstituteCount', 'directInstituteCount', 'authorCount', 'contributorCount', 'hasQualityFactor', 'link', 'label', 'template', 'template2'])"
      ]
     },
     "execution_count": 9,
     "metadata": {},
     "output_type": "execute_result"
    }
   ],
   "source": [
    "data['content'][0].keys()"
   ]
  },
  {
   "cell_type": "code",
   "execution_count": 10,
   "id": "f8c3a35e",
   "metadata": {},
   "outputs": [
    {
     "data": {
      "text/plain": [
       "'Search for exotic decays of the Higgs boson into long-lived particles in pp collisions at root s=13 TeV using displaced vertices in the ATLAS inner detector'"
      ]
     },
     "execution_count": 10,
     "metadata": {},
     "output_type": "execute_result"
    }
   ],
   "source": [
    "data['content'][0]['title']"
   ]
  },
  {
   "cell_type": "code",
   "execution_count": 11,
   "id": "bca66690",
   "metadata": {},
   "outputs": [
    {
     "data": {
      "text/plain": [
       "'2022-02-17 13:33'"
      ]
     },
     "execution_count": 11,
     "metadata": {},
     "output_type": "execute_result"
    }
   ],
   "source": [
    "data['responseDate']"
   ]
  },
  {
   "cell_type": "code",
   "execution_count": 12,
   "id": "6276a1ae",
   "metadata": {},
   "outputs": [
    {
     "data": {
      "text/plain": [
       "{'last': True,\n",
       " 'first': True,\n",
       " 'totalPages': 1,\n",
       " 'totalElements': 5000,\n",
       " 'totalEstimatedElements': 110000,\n",
       " 'size': 5000,\n",
       " 'number': 1,\n",
       " 'numberOfElements': 5000,\n",
       " 'sort': [{'direction': 'DESC',\n",
       "   'property': 'publishedYear',\n",
       "   'ascending': False},\n",
       "  {'direction': 'ASC', 'property': 'firstAuthor', 'ascending': True}]}"
      ]
     },
     "execution_count": 12,
     "metadata": {},
     "output_type": "execute_result"
    }
   ],
   "source": [
    "data['paging']"
   ]
  },
  {
   "cell_type": "code",
   "execution_count": 13,
   "id": "7a1711bd",
   "metadata": {},
   "outputs": [
    {
     "name": "stdout",
     "output_type": "stream",
     "text": [
      "99807928\n",
      "G\n",
      "Aad\n",
      "Aad, G\n"
     ]
    }
   ],
   "source": [
    "print(data['content'][0]['authorships'][0]['mtid'])\n",
    "print(data['content'][0]['authorships'][0]['givenName'])\n",
    "print(data['content'][0]['authorships'][0]['familyName'])\n",
    "print(data['content'][0]['authorships'][0]['label'])"
   ]
  },
  {
   "cell_type": "code",
   "execution_count": 14,
   "id": "2fa9895c",
   "metadata": {},
   "outputs": [
    {
     "data": {
      "text/plain": [
       "{'otype': 'PersonAuthorship',\n",
       " 'mtid': 95886196,\n",
       " 'link': '/api/authorship/95886196',\n",
       " 'label': 'Abdullah, S. Alshammari ✉ [Alshammari, Abdullah Saber (Educational science), szerző] Neveléstudományi Doktori Iskola (SZTE / DI)',\n",
       " 'listPosition': 1,\n",
       " 'share': 0.33333334,\n",
       " 'first': True,\n",
       " 'last': False,\n",
       " 'corresponding': True,\n",
       " 'author': {'otype': 'Author',\n",
       "  'mtid': 10064710,\n",
       "  'link': '/api/author/10064710',\n",
       "  'label': 'Alshammari Abdullah Saber (Educational science)',\n",
       "  'familyName': 'Alshammari',\n",
       "  'givenName': 'Abdullah Saber',\n",
       "  'published': True,\n",
       "  'oldId': 10064710,\n",
       "  'snippet': True},\n",
       " 'familyName': 'Abdullah',\n",
       " 'givenName': 'S. Alshammari',\n",
       " 'authorTyped': True,\n",
       " 'editorTyped': False,\n",
       " 'otherTyped': False,\n",
       " 'type': {'otype': 'AuthorshipType',\n",
       "  'mtid': 1,\n",
       "  'link': '/api/authorshiptype/1',\n",
       "  'label': 'Szerző',\n",
       "  'code': 0,\n",
       "  'published': True,\n",
       "  'oldId': 0,\n",
       "  'snippet': True},\n",
       " 'published': False,\n",
       " 'snippet': True}"
      ]
     },
     "execution_count": 14,
     "metadata": {},
     "output_type": "execute_result"
    }
   ],
   "source": [
    "data['content'][34]['authorships'][0]"
   ]
  },
  {
   "cell_type": "code",
   "execution_count": 15,
   "id": "1834648b",
   "metadata": {},
   "outputs": [
    {
     "data": {
      "text/plain": [
       "{'otype': 'PersonAuthorship',\n",
       " 'mtid': 99807928,\n",
       " 'link': '/api/authorship/99807928',\n",
       " 'label': 'Aad, G',\n",
       " 'listPosition': 1,\n",
       " 'share': 0.0,\n",
       " 'first': True,\n",
       " 'last': False,\n",
       " 'corresponding': False,\n",
       " 'familyName': 'Aad',\n",
       " 'givenName': 'G',\n",
       " 'authorTyped': True,\n",
       " 'editorTyped': False,\n",
       " 'otherTyped': False,\n",
       " 'type': {'otype': 'AuthorshipType',\n",
       "  'mtid': 1,\n",
       "  'link': '/api/authorshiptype/1',\n",
       "  'label': 'Szerző',\n",
       "  'code': 0,\n",
       "  'published': True,\n",
       "  'oldId': 0,\n",
       "  'snippet': True},\n",
       " 'published': False,\n",
       " 'snippet': True}"
      ]
     },
     "execution_count": 15,
     "metadata": {},
     "output_type": "execute_result"
    }
   ],
   "source": [
    "data['content'][0]['authorships'][0]"
   ]
  },
  {
   "cell_type": "code",
   "execution_count": 16,
   "id": "69d94779",
   "metadata": {},
   "outputs": [],
   "source": [
    "temp_mem = []\n",
    "\n",
    "for i in range(len(data['content'][0]['authorships'])):\n",
    "    temp_mem.append(data['content'][0]['authorships'][i]['share'])"
   ]
  },
  {
   "cell_type": "code",
   "execution_count": 17,
   "id": "9041b487",
   "metadata": {},
   "outputs": [
    {
     "data": {
      "text/plain": [
       "array([0.])"
      ]
     },
     "execution_count": 17,
     "metadata": {},
     "output_type": "execute_result"
    }
   ],
   "source": [
    "np.unique(temp_mem)"
   ]
  },
  {
   "cell_type": "markdown",
   "id": "7cb22c95",
   "metadata": {},
   "source": [
    "They are rather inconsistent in how well these object are defined."
   ]
  },
  {
   "cell_type": "code",
   "execution_count": 18,
   "id": "d0988bbe",
   "metadata": {},
   "outputs": [
    {
     "data": {
      "text/plain": [
       "22.0"
      ]
     },
     "execution_count": 18,
     "metadata": {},
     "output_type": "execute_result"
    }
   ],
   "source": [
    "110000/5000"
   ]
  },
  {
   "cell_type": "code",
   "execution_count": 19,
   "id": "5405d54b",
   "metadata": {},
   "outputs": [],
   "source": [
    "sub_mem = []\n",
    "for i in range(len(data['content'])):\n",
    "    sub_mem.append(len(data['content'][i]['authorships']))\n",
    "sub_mem = np.array(sub_mem)"
   ]
  },
  {
   "cell_type": "code",
   "execution_count": 20,
   "id": "0b8f4a13",
   "metadata": {},
   "outputs": [
    {
     "name": "stdout",
     "output_type": "stream",
     "text": [
      "19.9854 +/- 187.9649701057088\n"
     ]
    }
   ],
   "source": [
    "print(np.mean(sub_mem), \"+/-\", np.var(sub_mem)**(1/2))"
   ]
  },
  {
   "cell_type": "code",
   "execution_count": 21,
   "id": "24a14eab",
   "metadata": {},
   "outputs": [
    {
     "data": {
      "image/png": "[encoded data removed]",
      "text/plain": [
       "<Figure size 1008x504 with 1 Axes>"
      ]
     },
     "metadata": {
      "needs_background": "light"
     },
     "output_type": "display_data"
    }
   ],
   "source": [
    "plt.figure(figsize=(14,7))\n",
    "\n",
    "plt.title(\"Distribution of Number of Authors per Paper \\nFrom Most Recent 5000 papers\", fontsize=24)\n",
    "\n",
    "plt.hist(sub_mem, bins=101)\n",
    "\n",
    "plt.xlabel(\"Number of Authors\", fontsize=20)\n",
    "plt.ylabel(\"Occurence\", fontsize=20)\n",
    "plt.tick_params(labelsize=18,axis=\"both\",size=17)\n",
    "\n",
    "plt.yscale(\"log\")\n",
    "plt.grid(linestyle=\"--\")\n",
    "\n",
    "plt.savefig(\"figs/dist_from_5000sample.pdf\",format=\"pdf\",bbox_inches=\"tight\")\n",
    "plt.show()"
   ]
  },
  {
   "cell_type": "markdown",
   "id": "c990e6ef",
   "metadata": {},
   "source": [
    "## How to store tables?\n",
    "\n",
    "How should i store the linklist and the decoding?\n",
    "\n",
    "| startNode | endNode | time |\n",
    "| --- | --- | --- |\n",
    "| author1.mtid | author2.mtid | yearOfpublication |\n",
    "| author1.mtid | author3.mtid | yearOfpublication |\n",
    "| ... | ... | ... |\n",
    "\n",
    "This template may work, but its not good if the `mtid` is not unique to a given author -> might need to test this!\n",
    "\n",
    "For the decoding table, the given table should be sufficient:\n",
    "\n",
    "| mtid | Name |\n",
    "| --- | --- |\n",
    "| 1212211 | Adam G. Taylor |\n",
    "| ... | ... |"
   ]
  },
  {
   "cell_type": "code",
   "execution_count": 22,
   "id": "7ba41077",
   "metadata": {},
   "outputs": [],
   "source": [
    "data_test_links = []\n"
   ]
  },
  {
   "cell_type": "code",
   "execution_count": 23,
   "id": "0ed2098e",
   "metadata": {},
   "outputs": [],
   "source": [
    "temp_mem = []\n",
    "count = 0\n",
    "for i in range(len(data['content'])):\n",
    "    for j in range(len(data['content'][i]['authorships'])):\n",
    "        if (data['content'][i]['authorships'][j]['otype'] == 'PersonAuthorship'):\n",
    "            string_to_add = '' \n",
    "            if 'givenName' in data['content'][i]['authorships'][j]:\n",
    "                string_to_add += str(data['content'][i]['authorships'][j]['givenName']) + ' '\n",
    "            if 'familyName' in data['content'][i]['authorships'][j]:\n",
    "                string_to_add += str(data['content'][i]['authorships'][j]['familyName']) + ', '\n",
    "            string_to_add += str(data['content'][i]['publishedYear'])\n",
    "            temp_mem.append(string_to_add)\n",
    "\n",
    "temp_mem2 = []\n",
    "for i in range(len(data['content'])):\n",
    "    for j in range(len(data['content'][i]['authorships'])):\n",
    "        if (data['content'][i]['authorships'][j]['otype'] == 'PersonAuthorship'):\n",
    "            string_to_add = '' \n",
    "            if 'mtid' in data['content'][i]['authorships'][j]:\n",
    "                string_to_add += str(data['content'][i]['authorships'][j]['mtid']) + ' '\n",
    "            temp_mem2.append(string_to_add)"
   ]
  },
  {
   "cell_type": "code",
   "execution_count": 24,
   "id": "62f9673b",
   "metadata": {},
   "outputs": [
    {
     "data": {
      "text/plain": [
       "(32220, 99838)"
      ]
     },
     "execution_count": 24,
     "metadata": {},
     "output_type": "execute_result"
    }
   ],
   "source": [
    "len(np.unique(temp_mem)), len(temp_mem)"
   ]
  },
  {
   "cell_type": "code",
   "execution_count": 25,
   "id": "0f4f1277",
   "metadata": {},
   "outputs": [
    {
     "data": {
      "text/plain": [
       "(array([ 1,  2,  3,  4,  5,  6,  7,  8,  9, 10, 11, 12, 13, 14, 15, 16, 17,\n",
       "        18, 19, 20, 21, 22, 23, 24, 25, 27, 28, 29, 30, 31, 32, 35, 36, 42,\n",
       "        43, 48, 54, 83], dtype=int64),\n",
       " array([16833,  4953,  2245,  2794,   276,   524,   368,  1332,   184,\n",
       "          145,   756,   112,    43,  1530,    34,    20,     6,     3,\n",
       "            5,     4,     4,    11,     2,     4,     5,     1,     9,\n",
       "            1,     2,     4,     2,     1,     2,     1,     1,     1,\n",
       "            1,     1], dtype=int64))"
      ]
     },
     "execution_count": 25,
     "metadata": {},
     "output_type": "execute_result"
    }
   ],
   "source": [
    "_,app_count = np.unique(temp_mem, return_counts=True)\n",
    "np.unique(app_count, return_counts=True)"
   ]
  },
  {
   "cell_type": "code",
   "execution_count": 26,
   "id": "b41c3a27",
   "metadata": {},
   "outputs": [
    {
     "data": {
      "text/plain": [
       "(array([1], dtype=int64), array([99838], dtype=int64))"
      ]
     },
     "execution_count": 26,
     "metadata": {},
     "output_type": "execute_result"
    }
   ],
   "source": [
    "_,app_count = np.unique(temp_mem2, return_counts=True)\n",
    "np.unique(app_count, return_counts=True)"
   ]
  },
  {
   "cell_type": "markdown",
   "id": "f9b371a6",
   "metadata": {},
   "source": [
    "Sooooo, `mtid` is unique to the creation of such object...\n",
    "\n",
    "Old trick: use their name as a source for the uuid to hide their identity, while it is deterministic. The logic of choosing a uuid will be hidden though."
   ]
  },
  {
   "cell_type": "code",
   "execution_count": 27,
   "id": "427ebf5e",
   "metadata": {},
   "outputs": [
    {
     "data": {
      "text/plain": [
       "{'otype': 'PersonAuthorship',\n",
       " 'mtid': 99807928,\n",
       " 'link': '/api/authorship/99807928',\n",
       " 'label': 'Aad, G',\n",
       " 'listPosition': 1,\n",
       " 'share': 0.0,\n",
       " 'first': True,\n",
       " 'last': False,\n",
       " 'corresponding': False,\n",
       " 'familyName': 'Aad',\n",
       " 'givenName': 'G',\n",
       " 'authorTyped': True,\n",
       " 'editorTyped': False,\n",
       " 'otherTyped': False,\n",
       " 'type': {'otype': 'AuthorshipType',\n",
       "  'mtid': 1,\n",
       "  'link': '/api/authorshiptype/1',\n",
       "  'label': 'Szerző',\n",
       "  'code': 0,\n",
       "  'published': True,\n",
       "  'oldId': 0,\n",
       "  'snippet': True},\n",
       " 'published': False,\n",
       " 'snippet': True}"
      ]
     },
     "execution_count": 27,
     "metadata": {},
     "output_type": "execute_result"
    }
   ],
   "source": [
    "data['content'][0]['authorships'][0]"
   ]
  },
  {
   "cell_type": "markdown",
   "id": "cf137a88",
   "metadata": {},
   "source": [
    "## UUID.UUID5 for hiding information\n",
    "\n",
    "I will be using uuid.uuid5 for hidin information to hide personal information for the sake of clean analysis. Later on we can insert such information back, take a look at it and draw conclusions."
   ]
  },
  {
   "cell_type": "code",
   "execution_count": 36,
   "id": "39c54794",
   "metadata": {},
   "outputs": [
    {
     "name": "stdout",
     "output_type": "stream",
     "text": [
      "61977f7f-ec8f-5de5-8a2f-e476a11c4455\n"
     ]
    }
   ],
   "source": [
    "print(uuid.uuid5(uuid.NAMESPACE_DNS,(data['content'][0]['authorships'][0]['givenName'] +\n",
    "                                     ' ' +\n",
    "                                     data['content'][0]['authorships'][0]['familyName'])))"
   ]
  },
  {
   "cell_type": "code",
   "execution_count": 72,
   "id": "39743814",
   "metadata": {},
   "outputs": [
    {
     "name": "stdout",
     "output_type": "stream",
     "text": [
      " 5000 / 5000"
     ]
    }
   ],
   "source": [
    "temp_mem = []\n",
    "temp_link_list = []\n",
    "r = re.compile(r\"\\s+\", re.MULTILINE)\n",
    "\n",
    "count = 0\n",
    "for i in range(len(data['content'])):\n",
    "    if (i+1) % 10 == 0:\n",
    "        sys.stdout.write(\"\\r {0} / {1}\".format(i+1,len(data['content'])))\n",
    "        sys.stdout.flush()\n",
    "    content_mem = []\n",
    "    for j in range(len(data['content'][i]['authorships'])):\n",
    "        \n",
    "        if (data['content'][i]['authorships'][j]['otype'] == 'PersonAuthorship'):\n",
    "            name_to_add = ''\n",
    "            string_to_add = '' \n",
    "            #if the field extists, get the name! -> what if none of them exists?\n",
    "            if 'givenName' in data['content'][i]['authorships'][j]:\n",
    "                name_to_add += str(data['content'][i]['authorships'][j]['givenName']) + ' '\n",
    "            if 'familyName' in data['content'][i]['authorships'][j]:\n",
    "                name_to_add += str(data['content'][i]['authorships'][j]['familyName'])\n",
    "            \n",
    "            uuid_encoded = str(uuid.uuid5( uuid.NAMESPACE_DNS,r.sub(\"\",name_to_add) ) )\n",
    "            string_to_add += name_to_add + ', '\n",
    "            string_to_add += uuid_encoded + ', '\n",
    "            string_to_add += str(data['content'][i]['publishedYear'])\n",
    "            content_mem.append(uuid_encoded)\n",
    "            temp_mem.append(string_to_add)\n",
    "            \n",
    "    if (len(content_mem) > 0):\n",
    "        for j in range(len(content_mem)):\n",
    "            for k in np.arange(i+1,len(content_mem)):\n",
    "                temp_link_list.append([content_mem[j],content_mem[k]])"
   ]
  },
  {
   "cell_type": "code",
   "execution_count": 82,
   "id": "11a84915",
   "metadata": {},
   "outputs": [
    {
     "name": "stdout",
     "output_type": "stream",
     "text": [
      "32220 38 38\n"
     ]
    }
   ],
   "source": [
    "apps,app_count = np.unique(temp_mem, return_counts=True)\n",
    "c1,c2 = np.unique(app_count, return_counts=True)\n",
    "\n",
    "print(len(apps), len(c1),len(c2))"
   ]
  },
  {
   "cell_type": "markdown",
   "id": "54480c46",
   "metadata": {},
   "source": [
    "This makes it obvious that the encoded gives the same result as the not encoded, meaning that using their name is acceptable to create the decoding list and the linklist with dates included."
   ]
  },
  {
   "cell_type": "code",
   "execution_count": 61,
   "id": "4fe98f7d",
   "metadata": {},
   "outputs": [
    {
     "data": {
      "text/plain": [
       "'G Aad, c18e8dfa-bd32-55d6-9733-d94c8bd51372, 2021'"
      ]
     },
     "execution_count": 61,
     "metadata": {},
     "output_type": "execute_result"
    }
   ],
   "source": [
    "temp_mem[0]"
   ]
  },
  {
   "cell_type": "code",
   "execution_count": 73,
   "id": "ba877f55",
   "metadata": {},
   "outputs": [
    {
     "data": {
      "text/plain": [
       "175160982"
      ]
     },
     "execution_count": 73,
     "metadata": {},
     "output_type": "execute_result"
    }
   ],
   "source": [
    "len(temp_link_list)"
   ]
  },
  {
   "cell_type": "code",
   "execution_count": 79,
   "id": "8f998737",
   "metadata": {},
   "outputs": [
    {
     "data": {
      "text/plain": [
       "0.16872766605749345"
      ]
     },
     "execution_count": 79,
     "metadata": {},
     "output_type": "execute_result"
    }
   ],
   "source": [
    "len(temp_link_list) / len(apps)**2"
   ]
  },
  {
   "cell_type": "code",
   "execution_count": 80,
   "id": "3c6d09ca",
   "metadata": {},
   "outputs": [
    {
     "data": {
      "text/plain": [
       "7840000"
      ]
     },
     "execution_count": 80,
     "metadata": {},
     "output_type": "execute_result"
    }
   ],
   "source": [
    "2800 ** 2"
   ]
  },
  {
   "cell_type": "code",
   "execution_count": 86,
   "id": "79a46f97",
   "metadata": {},
   "outputs": [],
   "source": [
    "#np.savetxt('data/decoding_s_5000.csv', temp_mem, delimiter=\",\",fmt='%s',encoding=\"utf-8\")\n",
    "#np.savetxt('data/sample5000.csv', temp_link_list, delimiter=\",\",fmt='%s',encoding=\"utf-8\")"
   ]
  },
  {
   "cell_type": "markdown",
   "id": "381834e9",
   "metadata": {},
   "source": [
    "This seems huge but... I don't think this is a bad or wrong result, because there are a couple of mass co-athor publiations, which comes with a fully connecter graph that is jus huge in itsef."
   ]
  },
  {
   "cell_type": "code",
   "execution_count": 99,
   "id": "dcc20679",
   "metadata": {},
   "outputs": [
    {
     "data": {
      "text/plain": [
       "1.2665987014770508"
      ]
     },
     "execution_count": 99,
     "metadata": {},
     "output_type": "execute_result"
    }
   ],
   "source": [
    "170000000 * 2 * 32 /1024 / 8 / 1024 / 1024"
   ]
  },
  {
   "cell_type": "code",
   "execution_count": 98,
   "id": "9d3913a6",
   "metadata": {},
   "outputs": [
    {
     "data": {
      "text/plain": [
       "7.202791124582291"
      ]
     },
     "execution_count": 98,
     "metadata": {},
     "output_type": "execute_result"
    }
   ],
   "source": [
    "638 * 1906 * 1060 * 3 * 2 / 1024 / 1024 / 1024"
   ]
  },
  {
   "cell_type": "markdown",
   "id": "8bdd31c5",
   "metadata": {},
   "source": [
    "# Network Objects\n",
    "\n",
    "Networkx for the win! I used it a couple of times, but rarely, meaning that I need a quic recap for it.\n",
    "\n",
    "## Test Network initialized"
   ]
  },
  {
   "cell_type": "code",
   "execution_count": 28,
   "id": "857f2b68",
   "metadata": {},
   "outputs": [],
   "source": [
    "test_graph = nx.Graph()\n",
    "\n",
    "test_links = np.array([[1,2],\n",
    "                       [2,3],\n",
    "                       [1,3],\n",
    "                       [4,4],\n",
    "                      [5,5],\n",
    "                      [6,6]])\n",
    "\n",
    "test_graph.add_edges_from(test_links)"
   ]
  },
  {
   "cell_type": "code",
   "execution_count": 29,
   "id": "2b3e7025",
   "metadata": {},
   "outputs": [
    {
     "data": {
      "image/png": "[encoded data removed]",
      "text/plain": [
       "<Figure size 504x504 with 1 Axes>"
      ]
     },
     "metadata": {},
     "output_type": "display_data"
    }
   ],
   "source": [
    "#test plot \n",
    "fig = plt.figure(figsize=(7,7))\n",
    "\n",
    "plt.title(\"Test Network: Test plot\", fontsize=22)\n",
    "\n",
    "pos = nx.spring_layout(test_graph)\n",
    "\n",
    "nx.draw_networkx_nodes(test_graph,\n",
    "                      pos,\n",
    "                      nodelist = np.array(test_graph.nodes)\n",
    "                      )\n",
    "\n",
    "nx.draw_networkx_edges(test_graph,\n",
    "                      pos,\n",
    "                      width=0.5,\n",
    "                      edge_color='r',\n",
    "                      arrows=False)\n",
    "fig.tight_layout()\n",
    "\n",
    "plt.show()"
   ]
  },
  {
   "cell_type": "markdown",
   "id": "82c0b188",
   "metadata": {},
   "source": [
    "So I could, in theory, contain all authors from all publications, but seems **unnecessary**."
   ]
  },
  {
   "cell_type": "markdown",
   "id": "bc89630a",
   "metadata": {},
   "source": [
    "## Creating the network from temp_link_list\n",
    "\n",
    "Its huge in size, its massive, will netx handle it? Probably not..."
   ]
  },
  {
   "cell_type": "code",
   "execution_count": 87,
   "id": "13633d51",
   "metadata": {},
   "outputs": [],
   "source": [
    "sample_graph = nx.Graph()\n",
    "\n",
    "sample_graph.add_edges_from(temp_link_list)"
   ]
  },
  {
   "cell_type": "code",
   "execution_count": 142,
   "id": "7cd5a07f",
   "metadata": {},
   "outputs": [
    {
     "ename": "MemoryError",
     "evalue": "",
     "output_type": "error",
     "traceback": [
      "\u001b[1;31m---------------------------------------------------------------------------\u001b[0m",
      "\u001b[1;31mMemoryError\u001b[0m                               Traceback (most recent call last)",
      "\u001b[1;32mC:\\Users\\SZABDM~1\\AppData\\Local\\Temp/ipykernel_15368/3737863273.py\u001b[0m in \u001b[0;36m<module>\u001b[1;34m\u001b[0m\n\u001b[0;32m      3\u001b[0m \u001b[0mplt\u001b[0m\u001b[1;33m.\u001b[0m\u001b[0mtitle\u001b[0m\u001b[1;33m(\u001b[0m\u001b[1;34m\"Test Network: 5000 samples plot\"\u001b[0m\u001b[1;33m,\u001b[0m \u001b[0mfontsize\u001b[0m\u001b[1;33m=\u001b[0m\u001b[1;36m22\u001b[0m\u001b[1;33m)\u001b[0m\u001b[1;33m\u001b[0m\u001b[1;33m\u001b[0m\u001b[0m\n\u001b[0;32m      4\u001b[0m \u001b[1;33m\u001b[0m\u001b[0m\n\u001b[1;32m----> 5\u001b[1;33m \u001b[0mpos\u001b[0m \u001b[1;33m=\u001b[0m \u001b[0mnx\u001b[0m\u001b[1;33m.\u001b[0m\u001b[0mspring_layout\u001b[0m\u001b[1;33m(\u001b[0m\u001b[0msample_graph\u001b[0m\u001b[1;33m)\u001b[0m\u001b[1;33m\u001b[0m\u001b[1;33m\u001b[0m\u001b[0m\n\u001b[0m\u001b[0;32m      6\u001b[0m \u001b[1;33m\u001b[0m\u001b[0m\n\u001b[0;32m      7\u001b[0m nx.draw_networkx_nodes(sample_graph,\n",
      "\u001b[1;32mE:\\ANACONDA\\conda\\lib\\site-packages\\networkx\\utils\\decorators.py\u001b[0m in \u001b[0;36margmap_spring_layout_1\u001b[1;34m(G, k, pos, fixed, iterations, threshold, weight, scale, center, dim, seed)\u001b[0m\n\u001b[0;32m      2\u001b[0m \u001b[1;32mfrom\u001b[0m \u001b[0mos\u001b[0m\u001b[1;33m.\u001b[0m\u001b[0mpath\u001b[0m \u001b[1;32mimport\u001b[0m \u001b[0msplitext\u001b[0m\u001b[1;33m\u001b[0m\u001b[1;33m\u001b[0m\u001b[0m\n\u001b[0;32m      3\u001b[0m \u001b[1;32mfrom\u001b[0m \u001b[0mcontextlib\u001b[0m \u001b[1;32mimport\u001b[0m \u001b[0mcontextmanager\u001b[0m\u001b[1;33m\u001b[0m\u001b[1;33m\u001b[0m\u001b[0m\n\u001b[1;32m----> 4\u001b[1;33m \u001b[1;32mfrom\u001b[0m \u001b[0mpathlib\u001b[0m \u001b[1;32mimport\u001b[0m \u001b[0mPath\u001b[0m\u001b[1;33m\u001b[0m\u001b[1;33m\u001b[0m\u001b[0m\n\u001b[0m\u001b[0;32m      5\u001b[0m \u001b[1;32mimport\u001b[0m \u001b[0mwarnings\u001b[0m\u001b[1;33m\u001b[0m\u001b[1;33m\u001b[0m\u001b[0m\n\u001b[0;32m      6\u001b[0m \u001b[1;33m\u001b[0m\u001b[0m\n",
      "\u001b[1;32mE:\\ANACONDA\\conda\\lib\\site-packages\\networkx\\drawing\\layout.py\u001b[0m in \u001b[0;36mspring_layout\u001b[1;34m(G, k, pos, fixed, iterations, threshold, weight, scale, center, dim, seed)\u001b[0m\n\u001b[0;32m    474\u001b[0m         \u001b[1;32mif\u001b[0m \u001b[0mlen\u001b[0m\u001b[1;33m(\u001b[0m\u001b[0mG\u001b[0m\u001b[1;33m)\u001b[0m \u001b[1;33m<\u001b[0m \u001b[1;36m500\u001b[0m\u001b[1;33m:\u001b[0m  \u001b[1;31m# sparse solver for large graphs\u001b[0m\u001b[1;33m\u001b[0m\u001b[1;33m\u001b[0m\u001b[0m\n\u001b[0;32m    475\u001b[0m             \u001b[1;32mraise\u001b[0m \u001b[0mValueError\u001b[0m\u001b[1;33m\u001b[0m\u001b[1;33m\u001b[0m\u001b[0m\n\u001b[1;32m--> 476\u001b[1;33m         \u001b[0mA\u001b[0m \u001b[1;33m=\u001b[0m \u001b[0mnx\u001b[0m\u001b[1;33m.\u001b[0m\u001b[0mto_scipy_sparse_matrix\u001b[0m\u001b[1;33m(\u001b[0m\u001b[0mG\u001b[0m\u001b[1;33m,\u001b[0m \u001b[0mweight\u001b[0m\u001b[1;33m=\u001b[0m\u001b[0mweight\u001b[0m\u001b[1;33m,\u001b[0m \u001b[0mdtype\u001b[0m\u001b[1;33m=\u001b[0m\u001b[1;34m\"f\"\u001b[0m\u001b[1;33m)\u001b[0m\u001b[1;33m\u001b[0m\u001b[1;33m\u001b[0m\u001b[0m\n\u001b[0m\u001b[0;32m    477\u001b[0m         \u001b[1;32mif\u001b[0m \u001b[0mk\u001b[0m \u001b[1;32mis\u001b[0m \u001b[1;32mNone\u001b[0m \u001b[1;32mand\u001b[0m \u001b[0mfixed\u001b[0m \u001b[1;32mis\u001b[0m \u001b[1;32mnot\u001b[0m \u001b[1;32mNone\u001b[0m\u001b[1;33m:\u001b[0m\u001b[1;33m\u001b[0m\u001b[1;33m\u001b[0m\u001b[0m\n\u001b[0;32m    478\u001b[0m             \u001b[1;31m# We must adjust k by domain size for layouts not near 1x1\u001b[0m\u001b[1;33m\u001b[0m\u001b[1;33m\u001b[0m\u001b[1;33m\u001b[0m\u001b[0m\n",
      "\u001b[1;32mE:\\ANACONDA\\conda\\lib\\site-packages\\networkx\\convert_matrix.py\u001b[0m in \u001b[0;36mto_scipy_sparse_matrix\u001b[1;34m(G, nodelist, dtype, weight, format)\u001b[0m\n\u001b[0;32m    872\u001b[0m \u001b[1;33m\u001b[0m\u001b[0m\n\u001b[0;32m    873\u001b[0m     \u001b[0mindex\u001b[0m \u001b[1;33m=\u001b[0m \u001b[0mdict\u001b[0m\u001b[1;33m(\u001b[0m\u001b[0mzip\u001b[0m\u001b[1;33m(\u001b[0m\u001b[0mnodelist\u001b[0m\u001b[1;33m,\u001b[0m \u001b[0mrange\u001b[0m\u001b[1;33m(\u001b[0m\u001b[0mnlen\u001b[0m\u001b[1;33m)\u001b[0m\u001b[1;33m)\u001b[0m\u001b[1;33m)\u001b[0m\u001b[1;33m\u001b[0m\u001b[1;33m\u001b[0m\u001b[0m\n\u001b[1;32m--> 874\u001b[1;33m     coefficients = zip(\n\u001b[0m\u001b[0;32m    875\u001b[0m         \u001b[1;33m*\u001b[0m\u001b[1;33m(\u001b[0m\u001b[1;33m(\u001b[0m\u001b[0mindex\u001b[0m\u001b[1;33m[\u001b[0m\u001b[0mu\u001b[0m\u001b[1;33m]\u001b[0m\u001b[1;33m,\u001b[0m \u001b[0mindex\u001b[0m\u001b[1;33m[\u001b[0m\u001b[0mv\u001b[0m\u001b[1;33m]\u001b[0m\u001b[1;33m,\u001b[0m \u001b[0mwt\u001b[0m\u001b[1;33m)\u001b[0m \u001b[1;32mfor\u001b[0m \u001b[0mu\u001b[0m\u001b[1;33m,\u001b[0m \u001b[0mv\u001b[0m\u001b[1;33m,\u001b[0m \u001b[0mwt\u001b[0m \u001b[1;32min\u001b[0m \u001b[0mG\u001b[0m\u001b[1;33m.\u001b[0m\u001b[0medges\u001b[0m\u001b[1;33m(\u001b[0m\u001b[0mdata\u001b[0m\u001b[1;33m=\u001b[0m\u001b[0mweight\u001b[0m\u001b[1;33m,\u001b[0m \u001b[0mdefault\u001b[0m\u001b[1;33m=\u001b[0m\u001b[1;36m1\u001b[0m\u001b[1;33m)\u001b[0m\u001b[1;33m)\u001b[0m\u001b[1;33m\u001b[0m\u001b[1;33m\u001b[0m\u001b[0m\n\u001b[0;32m    876\u001b[0m     )\n",
      "\u001b[1;31mMemoryError\u001b[0m: "
     ]
    },
    {
     "data": {
      "image/png": "[encoded data removed]",
      "text/plain": [
       "<Figure size 1008x1008 with 1 Axes>"
      ]
     },
     "metadata": {
      "needs_background": "light"
     },
     "output_type": "display_data"
    }
   ],
   "source": [
    "fig = plt.figure(figsize=(14,14))\n",
    "\n",
    "plt.title(\"Test Network: 5000 samples plot\", fontsize=22)\n",
    "\n",
    "pos = nx.spring_layout(sample_graph)\n",
    "\n",
    "nx.draw_networkx_nodes(sample_graph,\n",
    "                      pos,\n",
    "                      nodelist = np.array(sample_graph.nodes)\n",
    "                      )\n",
    "\"\"\"\n",
    "nx.draw_networkx_edges(sample_graph,\n",
    "                      pos,\n",
    "                      width=0.5,\n",
    "                      edge_color='r',\n",
    "                      arrows=False)\n",
    "\"\"\"\n",
    "fig.tight_layout()\n",
    "\n",
    "plt.show()"
   ]
  },
  {
   "cell_type": "code",
   "execution_count": 95,
   "id": "46dffbbc",
   "metadata": {
    "scrolled": true
   },
   "outputs": [
    {
     "name": "stdout",
     "output_type": "stream",
     "text": [
      "32220\n"
     ]
    }
   ],
   "source": [
    "asd = np.unique(temp_mem)\n",
    "print(len(asd))"
   ]
  },
  {
   "cell_type": "code",
   "execution_count": 109,
   "id": "0d4c5f0a",
   "metadata": {},
   "outputs": [],
   "source": [
    "sub_asd = []\n",
    "for i in range(len(asd)):\n",
    "    sub_asd.append(asd[i].split()[-2].replace(',',''))"
   ]
  },
  {
   "cell_type": "markdown",
   "id": "d32dde16",
   "metadata": {},
   "source": [
    "Still not ghood enough fo memory -> going into number territory..."
   ]
  },
  {
   "cell_type": "code",
   "execution_count": 122,
   "id": "a025344e",
   "metadata": {},
   "outputs": [
    {
     "data": {
      "text/plain": [
       "array([['f47f56b2-6ad5-5701-a27f-36b6cd0ef6dd', '0'],\n",
       "       ['2a1738c6-7c8c-5691-85d4-fdc516a5283e', '1'],\n",
       "       ['e569efac-02eb-5cdb-b620-02c667eadd35', '2'],\n",
       "       ...,\n",
       "       ['1b81ff05-88c4-548b-8153-41c7e8af1587', '32217'],\n",
       "       ['dd5338c7-37ba-512f-8c4c-e4e1fe644531', '32218'],\n",
       "       ['086b22d5-b7db-578c-80f1-dd517e3aa52f', '32219']], dtype='<U36')"
      ]
     },
     "execution_count": 122,
     "metadata": {},
     "output_type": "execute_result"
    }
   ],
   "source": [
    "number_decode = np.array(list(zip(np.array(sub_asd), np.arange(len(sub_asd)+1))))\n",
    "number_decode"
   ]
  },
  {
   "cell_type": "code",
   "execution_count": 140,
   "id": "a4315423",
   "metadata": {},
   "outputs": [
    {
     "name": "stdout",
     "output_type": "stream",
     "text": [
      " 412000 / 175160982"
     ]
    },
    {
     "ename": "KeyboardInterrupt",
     "evalue": "",
     "output_type": "error",
     "traceback": [
      "\u001b[1;31m---------------------------------------------------------------------------\u001b[0m",
      "\u001b[1;31mKeyboardInterrupt\u001b[0m                         Traceback (most recent call last)",
      "\u001b[1;32mC:\\Users\\SZABDM~1\\AppData\\Local\\Temp/ipykernel_15368/3115578659.py\u001b[0m in \u001b[0;36m<module>\u001b[1;34m\u001b[0m\n\u001b[0;32m      6\u001b[0m     \u001b[1;31m#first one\u001b[0m\u001b[1;33m\u001b[0m\u001b[1;33m\u001b[0m\u001b[1;33m\u001b[0m\u001b[0m\n\u001b[0;32m      7\u001b[0m     \u001b[0mnumber_link_list\u001b[0m\u001b[1;33m[\u001b[0m\u001b[0mi\u001b[0m\u001b[1;33m,\u001b[0m\u001b[1;36m0\u001b[0m\u001b[1;33m]\u001b[0m \u001b[1;33m=\u001b[0m \u001b[0mnp\u001b[0m\u001b[1;33m.\u001b[0m\u001b[0mint16\u001b[0m\u001b[1;33m(\u001b[0m\u001b[0mnumber_decode\u001b[0m\u001b[1;33m[\u001b[0m\u001b[0mnumber_decode\u001b[0m\u001b[1;33m[\u001b[0m\u001b[1;33m:\u001b[0m\u001b[1;33m,\u001b[0m\u001b[1;36m0\u001b[0m\u001b[1;33m]\u001b[0m \u001b[1;33m==\u001b[0m \u001b[0mtemp_link_list\u001b[0m\u001b[1;33m[\u001b[0m\u001b[0mi\u001b[0m\u001b[1;33m]\u001b[0m\u001b[1;33m[\u001b[0m\u001b[1;36m0\u001b[0m\u001b[1;33m]\u001b[0m\u001b[1;33m]\u001b[0m\u001b[1;33m[\u001b[0m\u001b[1;36m0\u001b[0m\u001b[1;33m]\u001b[0m\u001b[1;33m[\u001b[0m\u001b[1;36m1\u001b[0m\u001b[1;33m]\u001b[0m\u001b[1;33m)\u001b[0m\u001b[1;33m\u001b[0m\u001b[1;33m\u001b[0m\u001b[0m\n\u001b[1;32m----> 8\u001b[1;33m     \u001b[0mnumber_link_list\u001b[0m\u001b[1;33m[\u001b[0m\u001b[0mi\u001b[0m\u001b[1;33m,\u001b[0m\u001b[1;36m1\u001b[0m\u001b[1;33m]\u001b[0m \u001b[1;33m=\u001b[0m \u001b[0mnp\u001b[0m\u001b[1;33m.\u001b[0m\u001b[0mint16\u001b[0m\u001b[1;33m(\u001b[0m\u001b[0mnumber_decode\u001b[0m\u001b[1;33m[\u001b[0m\u001b[0mnumber_decode\u001b[0m\u001b[1;33m[\u001b[0m\u001b[1;33m:\u001b[0m\u001b[1;33m,\u001b[0m\u001b[1;36m0\u001b[0m\u001b[1;33m]\u001b[0m \u001b[1;33m==\u001b[0m \u001b[0mtemp_link_list\u001b[0m\u001b[1;33m[\u001b[0m\u001b[0mi\u001b[0m\u001b[1;33m]\u001b[0m\u001b[1;33m[\u001b[0m\u001b[1;36m1\u001b[0m\u001b[1;33m]\u001b[0m\u001b[1;33m]\u001b[0m\u001b[1;33m[\u001b[0m\u001b[1;36m0\u001b[0m\u001b[1;33m]\u001b[0m\u001b[1;33m[\u001b[0m\u001b[1;36m1\u001b[0m\u001b[1;33m]\u001b[0m\u001b[1;33m)\u001b[0m\u001b[1;33m\u001b[0m\u001b[1;33m\u001b[0m\u001b[0m\n\u001b[0m",
      "\u001b[1;31mKeyboardInterrupt\u001b[0m: "
     ]
    }
   ],
   "source": [
    "number_link_list = np.zeros((len(temp_link_list),2), dtype=np.int16)\n",
    "for i in range(len(temp_link_list)):\n",
    "    if (i+1) % 1000 == 0:\n",
    "        sys.stdout.write(\"\\r {0} / {1}\".format(i+1,len(temp_link_list)))\n",
    "        sys.stdout.flush()\n",
    "    #first one\n",
    "    number_link_list[i,0] = np.int16(number_decode[number_decode[:,0] == temp_link_list[i][0]][0][1])\n",
    "    number_link_list[i,1] = np.int16(number_decode[number_decode[:,0] == temp_link_list[i][1]][0][1])"
   ]
  },
  {
   "cell_type": "code",
   "execution_count": 89,
   "id": "dbde81be",
   "metadata": {},
   "outputs": [],
   "source": [
    "import igraph"
   ]
  },
  {
   "cell_type": "code",
   "execution_count": 112,
   "id": "04762b45",
   "metadata": {},
   "outputs": [
    {
     "ename": "MemoryError",
     "evalue": "Error at src/graph/type_indexededgelist.c:307: cannot add edges. -- Out of memory",
     "output_type": "error",
     "traceback": [
      "\u001b[1;31m---------------------------------------------------------------------------\u001b[0m",
      "\u001b[1;31mMemoryError\u001b[0m                               Traceback (most recent call last)",
      "\u001b[1;32mC:\\Users\\SZABDM~1\\AppData\\Local\\Temp/ipykernel_15368/3973478350.py\u001b[0m in \u001b[0;36m<module>\u001b[1;34m\u001b[0m\n\u001b[0;32m      2\u001b[0m \u001b[1;33m\u001b[0m\u001b[0m\n\u001b[0;32m      3\u001b[0m \u001b[0miSampleG\u001b[0m\u001b[1;33m.\u001b[0m\u001b[0madd_vertices\u001b[0m\u001b[1;33m(\u001b[0m\u001b[0msub_asd\u001b[0m\u001b[1;33m)\u001b[0m\u001b[1;33m\u001b[0m\u001b[1;33m\u001b[0m\u001b[0m\n\u001b[1;32m----> 4\u001b[1;33m \u001b[0miSampleG\u001b[0m\u001b[1;33m.\u001b[0m\u001b[0madd_edges\u001b[0m\u001b[1;33m(\u001b[0m\u001b[0mtemp_link_list\u001b[0m\u001b[1;33m)\u001b[0m\u001b[1;33m\u001b[0m\u001b[1;33m\u001b[0m\u001b[0m\n\u001b[0m",
      "\u001b[1;32mE:\\ANACONDA\\conda\\lib\\site-packages\\igraph\\__init__.py\u001b[0m in \u001b[0;36madd_edges\u001b[1;34m(self, es, attributes)\u001b[0m\n\u001b[0;32m    374\u001b[0m         \"\"\"\n\u001b[0;32m    375\u001b[0m         \u001b[0meid\u001b[0m \u001b[1;33m=\u001b[0m \u001b[0mself\u001b[0m\u001b[1;33m.\u001b[0m\u001b[0mecount\u001b[0m\u001b[1;33m(\u001b[0m\u001b[1;33m)\u001b[0m\u001b[1;33m\u001b[0m\u001b[1;33m\u001b[0m\u001b[0m\n\u001b[1;32m--> 376\u001b[1;33m         \u001b[0mres\u001b[0m \u001b[1;33m=\u001b[0m \u001b[0mGraphBase\u001b[0m\u001b[1;33m.\u001b[0m\u001b[0madd_edges\u001b[0m\u001b[1;33m(\u001b[0m\u001b[0mself\u001b[0m\u001b[1;33m,\u001b[0m \u001b[0mes\u001b[0m\u001b[1;33m)\u001b[0m\u001b[1;33m\u001b[0m\u001b[1;33m\u001b[0m\u001b[0m\n\u001b[0m\u001b[0;32m    377\u001b[0m         \u001b[0mn\u001b[0m \u001b[1;33m=\u001b[0m \u001b[0mself\u001b[0m\u001b[1;33m.\u001b[0m\u001b[0mecount\u001b[0m\u001b[1;33m(\u001b[0m\u001b[1;33m)\u001b[0m \u001b[1;33m-\u001b[0m \u001b[0meid\u001b[0m\u001b[1;33m\u001b[0m\u001b[1;33m\u001b[0m\u001b[0m\n\u001b[0;32m    378\u001b[0m         \u001b[1;32mif\u001b[0m \u001b[1;33m(\u001b[0m\u001b[0mattributes\u001b[0m \u001b[1;32mis\u001b[0m \u001b[1;32mnot\u001b[0m \u001b[1;32mNone\u001b[0m\u001b[1;33m)\u001b[0m \u001b[1;32mand\u001b[0m \u001b[1;33m(\u001b[0m\u001b[0mn\u001b[0m \u001b[1;33m>\u001b[0m \u001b[1;36m0\u001b[0m\u001b[1;33m)\u001b[0m\u001b[1;33m:\u001b[0m\u001b[1;33m\u001b[0m\u001b[1;33m\u001b[0m\u001b[0m\n",
      "\u001b[1;31mMemoryError\u001b[0m: Error at src/graph/type_indexededgelist.c:307: cannot add edges. -- Out of memory"
     ]
    }
   ],
   "source": [
    "iSampleG = igraph.Graph()\n",
    "\n",
    "iSampleG.add_vertices(sub_asd)\n",
    "iSampleG.add_edges(temp_link_list)"
   ]
  },
  {
   "cell_type": "code",
   "execution_count": null,
   "id": "03b2578d",
   "metadata": {},
   "outputs": [],
   "source": []
  }
 ],
 "metadata": {
  "kernelspec": {
   "display_name": "Python 3 (ipykernel)",
   "language": "python",
   "name": "python3"
  },
  "language_info": {
   "codemirror_mode": {
    "name": "ipython",
    "version": 3
   },
   "file_extension": ".py",
   "mimetype": "text/x-python",
   "name": "python",
   "nbconvert_exporter": "python",
   "pygments_lexer": "ipython3",
   "version": "3.8.8"
  }
 },
 "nbformat": 4,
 "nbformat_minor": 5
}
