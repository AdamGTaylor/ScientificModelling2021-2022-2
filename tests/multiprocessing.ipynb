{
 "cells": [
  {
   "cell_type": "markdown",
   "id": "7f040fff",
   "metadata": {},
   "source": [
    "# Multiprocessing tests\n",
    "\n",
    "This notebook is dedicated to do multiprocessing in python3. This is for speed up some calculations by utilizing more fo the resources available.\n",
    "\n",
    "https://docs.python.org/2/library/multiprocessing.html"
   ]
  },
  {
   "cell_type": "code",
   "execution_count": 6,
   "id": "9e5ed14b",
   "metadata": {},
   "outputs": [],
   "source": [
    "import numpy as np\n",
    "import pandas as pd\n",
    "\n",
    "import matplotlib as mpl\n",
    "import matplotlib.pyplot as plt\n",
    "import seaborn as sns\n",
    "\n",
    "import sys\n",
    "import os\n",
    "import pathlib\n",
    "import glob\n",
    "\n",
    "import json\n",
    "\n",
    "import networkx as nx\n",
    "import random\n",
    "\n",
    "import re\n",
    "import uuid\n",
    "\n",
    "import imageio\n",
    "\n",
    "from multiprocessing import Process,Pool,Queue,set_start_method\n",
    "import multiprocessing\n",
    "\n",
    "import timeit\n",
    "\n",
    "#import defs"
   ]
  },
  {
   "cell_type": "code",
   "execution_count": 7,
   "id": "bf063bc0",
   "metadata": {},
   "outputs": [],
   "source": [
    "class Multiprocessor():\n",
    "\n",
    "    def __init__(self):\n",
    "        self.processes = []\n",
    "        self.queue = Queue()\n",
    "\n",
    "    @staticmethod\n",
    "    def _wrapper(func, queue, args, kwargs):\n",
    "        ret = func(*args, **kwargs)\n",
    "        queue.put(ret)\n",
    "\n",
    "    def run(self, func, *args, **kwargs):\n",
    "        args2 = [func, self.queue, args, kwargs]\n",
    "        p = Process(target=self._wrapper, args=args2)\n",
    "        self.processes.append(p)\n",
    "        p.start()\n",
    "\n",
    "    def wait(self):\n",
    "        rets = []\n",
    "        for p in self.processes:\n",
    "            ret = self.queue.get()\n",
    "            rets.append(ret)\n",
    "        for p in self.processes:\n",
    "            p.join()\n",
    "        return rets"
   ]
  },
  {
   "cell_type": "code",
   "execution_count": 8,
   "id": "0f3c4757",
   "metadata": {},
   "outputs": [],
   "source": [
    "def calcSum(start,end):\n",
    "    \"\"\"\n",
    "    calculates the sum for start to end of integers\n",
    "    \n",
    "    INPUT:\n",
    "        start: int\n",
    "        end: int\n",
    "        \n",
    "    OUTPUT:\n",
    "        summa: summed from start to end\n",
    "    \"\"\"\n",
    "    summa = 0\n",
    "    for i in np.arange(start,end):\n",
    "        summa+=i\n",
    "        \n",
    "    return summa\n",
    "\n",
    "def f(x):\n",
    "    return x*x\n",
    "\n",
    "\n",
    "def double(a):\n",
    "    return a * 2\n",
    "\n",
    "def driver_func():\n",
    "    PROCESSES = 4\n",
    "    with multiprocessing.Pool(PROCESSES) as pool:\n",
    "        params = [(1, ), (2, ), (3, ), (4, )]\n",
    "        results = [pool.apply_async(double, p) for p in params]\n",
    "\n",
    "        for r in results:\n",
    "            print('\\t', r.get())\n",
    "            \n",
    "def worker(procnum, return_dict):\n",
    "    \"\"\"worker function\"\"\"\n",
    "    print(str(procnum) + \" represent!\")\n",
    "    return_dict[procnum] = procnum"
   ]
  },
  {
   "cell_type": "code",
   "execution_count": 3,
   "id": "7523a831",
   "metadata": {},
   "outputs": [
    {
     "name": "stdout",
     "output_type": "stream",
     "text": [
      "Time:  6.513825199999999\n"
     ]
    }
   ],
   "source": [
    "answers = []\n",
    "start = timeit.default_timer()\n",
    "for i in range(4):\n",
    "    answers.append(calcSum(10,2e7))\n",
    "stop = timeit.default_timer()\n",
    "print('Time: ', stop - start) "
   ]
  },
  {
   "cell_type": "code",
   "execution_count": 5,
   "id": "5a06b3a9",
   "metadata": {},
   "outputs": [
    {
     "ename": "TimeoutError",
     "evalue": "",
     "output_type": "error",
     "traceback": [
      "\u001b[1;31m---------------------------------------------------------------------------\u001b[0m",
      "\u001b[1;31mTimeoutError\u001b[0m                              Traceback (most recent call last)",
      "\u001b[1;32mC:\\Users\\SZABDM~1\\AppData\\Local\\Temp/ipykernel_26376/1680615244.py\u001b[0m in \u001b[0;36m<module>\u001b[1;34m\u001b[0m\n\u001b[0;32m      7\u001b[0m \u001b[1;31m#r4 = pool.apply_async(calcSum, [10,2e7])\u001b[0m\u001b[1;33m\u001b[0m\u001b[1;33m\u001b[0m\u001b[1;33m\u001b[0m\u001b[0m\n\u001b[0;32m      8\u001b[0m \u001b[1;33m\u001b[0m\u001b[0m\n\u001b[1;32m----> 9\u001b[1;33m \u001b[0mans1\u001b[0m \u001b[1;33m=\u001b[0m \u001b[0mr1\u001b[0m\u001b[1;33m.\u001b[0m\u001b[0mget\u001b[0m\u001b[1;33m(\u001b[0m\u001b[0mtimeout\u001b[0m\u001b[1;33m=\u001b[0m\u001b[1;36m10\u001b[0m\u001b[1;33m)\u001b[0m\u001b[1;33m\u001b[0m\u001b[1;33m\u001b[0m\u001b[0m\n\u001b[0m\u001b[0;32m     10\u001b[0m \u001b[1;31m#ans2 = r2.get(timeout=10)\u001b[0m\u001b[1;33m\u001b[0m\u001b[1;33m\u001b[0m\u001b[1;33m\u001b[0m\u001b[0m\n\u001b[0;32m     11\u001b[0m \u001b[1;31m#ans3 = r3.get(timeout=10)\u001b[0m\u001b[1;33m\u001b[0m\u001b[1;33m\u001b[0m\u001b[1;33m\u001b[0m\u001b[0m\n",
      "\u001b[1;32mE:\\ANACONDA\\conda\\lib\\multiprocessing\\pool.py\u001b[0m in \u001b[0;36mget\u001b[1;34m(self, timeout)\u001b[0m\n\u001b[0;32m    765\u001b[0m         \u001b[0mself\u001b[0m\u001b[1;33m.\u001b[0m\u001b[0mwait\u001b[0m\u001b[1;33m(\u001b[0m\u001b[0mtimeout\u001b[0m\u001b[1;33m)\u001b[0m\u001b[1;33m\u001b[0m\u001b[1;33m\u001b[0m\u001b[0m\n\u001b[0;32m    766\u001b[0m         \u001b[1;32mif\u001b[0m \u001b[1;32mnot\u001b[0m \u001b[0mself\u001b[0m\u001b[1;33m.\u001b[0m\u001b[0mready\u001b[0m\u001b[1;33m(\u001b[0m\u001b[1;33m)\u001b[0m\u001b[1;33m:\u001b[0m\u001b[1;33m\u001b[0m\u001b[1;33m\u001b[0m\u001b[0m\n\u001b[1;32m--> 767\u001b[1;33m             \u001b[1;32mraise\u001b[0m \u001b[0mTimeoutError\u001b[0m\u001b[1;33m\u001b[0m\u001b[1;33m\u001b[0m\u001b[0m\n\u001b[0m\u001b[0;32m    768\u001b[0m         \u001b[1;32mif\u001b[0m \u001b[0mself\u001b[0m\u001b[1;33m.\u001b[0m\u001b[0m_success\u001b[0m\u001b[1;33m:\u001b[0m\u001b[1;33m\u001b[0m\u001b[1;33m\u001b[0m\u001b[0m\n\u001b[0;32m    769\u001b[0m             \u001b[1;32mreturn\u001b[0m \u001b[0mself\u001b[0m\u001b[1;33m.\u001b[0m\u001b[0m_value\u001b[0m\u001b[1;33m\u001b[0m\u001b[1;33m\u001b[0m\u001b[0m\n",
      "\u001b[1;31mTimeoutError\u001b[0m: "
     ]
    }
   ],
   "source": [
    "pool = Pool(4)\n",
    "\n",
    "start = timeit.default_timer()\n",
    "r1 = pool.apply_async(calcSum, [10,2e7])\n",
    "#r2 = pool.apply_async(calcSum, [10,2e7])\n",
    "#r3 = pool.apply_async(calcSum, [10,2e7])\n",
    "#r4 = pool.apply_async(calcSum, [10,2e7])\n",
    "\n",
    "ans1 = r1.get(timeout=10)\n",
    "#ans2 = r2.get(timeout=10)\n",
    "#ans3 = r3.get(timeout=10)\n",
    "#ans4 = r4.get(timeout=10)\n",
    "stop = timeit.default_timer()\n",
    "print('Time: ', stop - start) "
   ]
  },
  {
   "cell_type": "code",
   "execution_count": null,
   "id": "59e8694c",
   "metadata": {},
   "outputs": [],
   "source": [
    "# tester\n",
    "mp = Multiprocessor()\n",
    "num_proc = 64\n",
    "for _ in range(num_proc): # queue up multiple tasks running `sum`\n",
    "    mp.run(sum, [1, 2, 3, 4, 5])\n",
    "ret = mp.wait() # get all results\n",
    "print(ret)\n",
    "assert len(ret) == num_proc and all(r == 15 for r in ret)"
   ]
  },
  {
   "cell_type": "code",
   "execution_count": 3,
   "id": "050927d7",
   "metadata": {},
   "outputs": [
    {
     "ename": "NameError",
     "evalue": "name 'num_proc' is not defined",
     "output_type": "error",
     "traceback": [
      "\u001b[1;31m---------------------------------------------------------------------------\u001b[0m",
      "\u001b[1;31mNameError\u001b[0m                                 Traceback (most recent call last)",
      "\u001b[1;32mC:\\Users\\SZABDM~1\\AppData\\Local\\Temp/ipykernel_2952/692985729.py\u001b[0m in \u001b[0;36m<module>\u001b[1;34m\u001b[0m\n\u001b[1;32m----> 1\u001b[1;33m \u001b[0mnum_proc\u001b[0m\u001b[1;33m\u001b[0m\u001b[1;33m\u001b[0m\u001b[0m\n\u001b[0m",
      "\u001b[1;31mNameError\u001b[0m: name 'num_proc' is not defined"
     ]
    }
   ],
   "source": [
    "num_proc"
   ]
  },
  {
   "cell_type": "markdown",
   "id": "add74770",
   "metadata": {},
   "source": [
    "## Save into a .py file\n",
    "\n",
    "Windows dislikes it...."
   ]
  }
 ],
 "metadata": {
  "kernelspec": {
   "display_name": "Python 3 (ipykernel)",
   "language": "python",
   "name": "python3"
  },
  "language_info": {
   "codemirror_mode": {
    "name": "ipython",
    "version": 3
   },
   "file_extension": ".py",
   "mimetype": "text/x-python",
   "name": "python",
   "nbconvert_exporter": "python",
   "pygments_lexer": "ipython3",
   "version": "3.8.8"
  }
 },
 "nbformat": 4,
 "nbformat_minor": 5
}
